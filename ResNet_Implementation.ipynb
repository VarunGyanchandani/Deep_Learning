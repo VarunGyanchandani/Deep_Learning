{
  "nbformat": 4,
  "nbformat_minor": 0,
  "metadata": {
    "colab": {
      "provenance": [],
      "gpuType": "T4"
    },
    "kernelspec": {
      "name": "python3",
      "display_name": "Python 3"
    },
    "language_info": {
      "name": "python"
    },
    "accelerator": "GPU"
  },
  "cells": [
    {
      "cell_type": "code",
      "execution_count": 1,
      "metadata": {
        "id": "Jx2CCH1-DHgr"
      },
      "outputs": [],
      "source": [
        "import torch\n",
        "import torch.nn as nn\n",
        "import torch.optim as optim\n",
        "import torch.nn.functional as F\n",
        "from torch.utils.data import DataLoader\n",
        "import torchvision\n",
        "import torchvision.transforms as transforms\n",
        "import matplotlib.pyplot as plt\n",
        "import numpy as np"
      ]
    },
    {
      "cell_type": "code",
      "source": [
        "class BasicBlock(nn.Module):\n",
        "    def __init__(self, in_channels, out_channels, stride=1):\n",
        "        super(BasicBlock, self).__init__()\n",
        "        self.conv1 = nn.Conv2d(in_channels, out_channels, kernel_size=3, stride=stride, padding=1, bias=False)\n",
        "        self.bn1 = nn.BatchNorm2d(out_channels)\n",
        "        self.conv2 = nn.Conv2d(out_channels, out_channels, kernel_size=3, stride=1, padding=1, bias=False)\n",
        "        self.bn2 = nn.BatchNorm2d(out_channels)\n",
        "\n",
        "        self.shortcut = nn.Sequential()\n",
        "        if stride != 1 or in_channels != out_channels:\n",
        "            self.shortcut = nn.Sequential(\n",
        "                nn.Conv2d(in_channels, out_channels, kernel_size=1, stride=stride, bias=False),\n",
        "                nn.BatchNorm2d(out_channels)\n",
        "            )\n",
        "\n",
        "    def forward(self, x):\n",
        "        out = F.relu(self.bn1(self.conv1(x)))\n",
        "        out = self.bn2(self.conv2(out))\n",
        "        out += self.shortcut(x)  # Skip connection\n",
        "        out = F.relu(out)\n",
        "        return out"
      ],
      "metadata": {
        "id": "46dVv2v_DIWu"
      },
      "execution_count": 2,
      "outputs": []
    },
    {
      "cell_type": "code",
      "source": [
        "class ResNet(nn.Module):\n",
        "    def __init__(self, block, num_blocks, num_classes=10):\n",
        "        super(ResNet, self).__init__()\n",
        "        self.in_channels = 64\n",
        "\n",
        "        self.conv1 = nn.Conv2d(3, 64, kernel_size=3, stride=1, padding=1, bias=False)\n",
        "        self.bn1 = nn.BatchNorm2d(64)\n",
        "\n",
        "        self.layer1 = self._make_layer(block, 64, num_blocks[0], stride=1)\n",
        "        self.layer2 = self._make_layer(block, 128, num_blocks[1], stride=2)\n",
        "        self.layer3 = self._make_layer(block, 256, num_blocks[2], stride=2)\n",
        "        self.layer4 = self._make_layer(block, 512, num_blocks[3], stride=2)\n",
        "\n",
        "        self.avgpool = nn.AdaptiveAvgPool2d((1, 1))\n",
        "        self.fc = nn.Linear(512, num_classes)\n",
        "\n",
        "    def _make_layer(self, block, out_channels, num_blocks, stride):\n",
        "        strides = [stride] + [1] * (num_blocks - 1)\n",
        "        layers = []\n",
        "        for stride in strides:\n",
        "            layers.append(block(self.in_channels, out_channels, stride))\n",
        "            self.in_channels = out_channels\n",
        "        return nn.Sequential(*layers)\n",
        "\n",
        "    def forward(self, x):\n",
        "        out = F.relu(self.bn1(self.conv1(x)))\n",
        "        out = self.layer1(out)\n",
        "        out = self.layer2(out)\n",
        "        out = self.layer3(out)\n",
        "        out = self.layer4(out)\n",
        "        out = self.avgpool(out)\n",
        "        out = torch.flatten(out, 1)\n",
        "        out = self.fc(out)\n",
        "        return out\n",
        "\n",
        "# For ResNet-18: 2 blocks per layer (total conv layers: 1 initial + 2*4*2 = 17, but counted as 18 including FC? Standard naming)\n",
        "def ResNet18():\n",
        "    return ResNet(BasicBlock, [2, 2, 2, 2])"
      ],
      "metadata": {
        "id": "Fvkno6VkDMRR"
      },
      "execution_count": 3,
      "outputs": []
    },
    {
      "cell_type": "code",
      "source": [
        "transform_train = transforms.Compose([\n",
        "    transforms.RandomCrop(32, padding=4),\n",
        "    transforms.RandomHorizontalFlip(),\n",
        "    transforms.ToTensor(),\n",
        "    transforms.Normalize((0.4914, 0.4822, 0.4465), (0.2023, 0.1994, 0.2010)),\n",
        "])\n",
        "\n",
        "transform_test = transforms.Compose([\n",
        "    transforms.ToTensor(),\n",
        "    transforms.Normalize((0.4914, 0.4822, 0.4465), (0.2023, 0.1994, 0.2010)),\n",
        "])\n",
        "\n",
        "trainset = torchvision.datasets.CIFAR10(root='./data', train=True, download=True, transform=transform_train)\n",
        "trainloader = DataLoader(trainset, batch_size=128, shuffle=True, num_workers=2)\n",
        "\n",
        "testset = torchvision.datasets.CIFAR10(root='./data', train=False, download=True, transform=transform_test)\n",
        "testloader = DataLoader(testset, batch_size=100, shuffle=False, num_workers=2)\n",
        "\n",
        "classes = ('plane', 'car', 'bird', 'cat', 'deer', 'dog', 'frog', 'horse', 'ship', 'truck')"
      ],
      "metadata": {
        "colab": {
          "base_uri": "https://localhost:8080/"
        },
        "id": "Z5pmqxLMDSZq",
        "outputId": "ef9cddb4-e8a5-4603-e86a-01693618fd3d"
      },
      "execution_count": 4,
      "outputs": [
        {
          "output_type": "stream",
          "name": "stderr",
          "text": [
            "100%|██████████| 170M/170M [00:14<00:00, 12.2MB/s]\n"
          ]
        }
      ]
    },
    {
      "cell_type": "code",
      "source": [
        "device = torch.device('cuda' if torch.cuda.is_available() else 'cpu')\n",
        "net = ResNet18().to(device)\n",
        "\n",
        "criterion = nn.CrossEntropyLoss()\n",
        "optimizer = optim.SGD(net.parameters(), lr=0.1, momentum=0.9, weight_decay=5e-4)\n",
        "scheduler = torch.optim.lr_scheduler.CosineAnnealingLR(optimizer, T_max=20)  # Adjust LR over epochs\n",
        "\n",
        "def train(epoch):\n",
        "    net.train()\n",
        "    train_loss = 0\n",
        "    correct = 0\n",
        "    total = 0\n",
        "    for batch_idx, (inputs, targets) in enumerate(trainloader):\n",
        "        inputs, targets = inputs.to(device), targets.to(device)\n",
        "        optimizer.zero_grad()\n",
        "        outputs = net(inputs)\n",
        "        loss = criterion(outputs, targets)\n",
        "        loss.backward()\n",
        "        optimizer.step()\n",
        "\n",
        "        train_loss += loss.item()\n",
        "        _, predicted = outputs.max(1)\n",
        "        total += targets.size(0)\n",
        "        correct += predicted.eq(targets).sum().item()\n",
        "\n",
        "    print(f'Epoch {epoch}: Loss: {train_loss / (batch_idx + 1):.3f} | Acc: {100. * correct / total:.2f}%')\n",
        "\n",
        "def test(epoch):\n",
        "    net.eval()\n",
        "    test_loss = 0\n",
        "    correct = 0\n",
        "    total = 0\n",
        "    with torch.no_grad():\n",
        "        for batch_idx, (inputs, targets) in enumerate(testloader):\n",
        "            inputs, targets = inputs.to(device), targets.to(device)\n",
        "            outputs = net(inputs)\n",
        "            loss = criterion(outputs, targets)\n",
        "\n",
        "            test_loss += loss.item()\n",
        "            _, predicted = outputs.max(1)\n",
        "            total += targets.size(0)\n",
        "            correct += predicted.eq(targets).sum().item()\n",
        "\n",
        "    print(f'Test Epoch {epoch}: Loss: {test_loss / (batch_idx + 1):.3f} | Acc: {100. * correct / total:.2f}%')\n",
        "\n",
        "# Run training loop\n",
        "for epoch in range(1, 21):\n",
        "    train(epoch)\n",
        "    test(epoch)\n",
        "    scheduler.step()"
      ],
      "metadata": {
        "colab": {
          "base_uri": "https://localhost:8080/"
        },
        "id": "7fT9oV0pDXUy",
        "outputId": "95f3b3b6-2368-4662-ef2e-90f65fc5f15c"
      },
      "execution_count": 5,
      "outputs": [
        {
          "output_type": "stream",
          "name": "stdout",
          "text": [
            "Epoch 1: Loss: 1.974 | Acc: 30.09%\n",
            "Test Epoch 1: Loss: 1.631 | Acc: 39.27%\n",
            "Epoch 2: Loss: 1.497 | Acc: 45.12%\n",
            "Test Epoch 2: Loss: 1.337 | Acc: 50.32%\n",
            "Epoch 3: Loss: 1.241 | Acc: 55.15%\n",
            "Test Epoch 3: Loss: 1.119 | Acc: 58.67%\n",
            "Epoch 4: Loss: 0.994 | Acc: 64.79%\n",
            "Test Epoch 4: Loss: 1.240 | Acc: 56.45%\n",
            "Epoch 5: Loss: 0.814 | Acc: 71.38%\n",
            "Test Epoch 5: Loss: 0.874 | Acc: 69.60%\n",
            "Epoch 6: Loss: 0.696 | Acc: 75.61%\n",
            "Test Epoch 6: Loss: 0.714 | Acc: 75.84%\n",
            "Epoch 7: Loss: 0.615 | Acc: 78.72%\n",
            "Test Epoch 7: Loss: 0.723 | Acc: 74.93%\n",
            "Epoch 8: Loss: 0.550 | Acc: 81.08%\n",
            "Test Epoch 8: Loss: 0.654 | Acc: 77.73%\n",
            "Epoch 9: Loss: 0.504 | Acc: 82.53%\n",
            "Test Epoch 9: Loss: 0.601 | Acc: 79.16%\n",
            "Epoch 10: Loss: 0.454 | Acc: 84.21%\n",
            "Test Epoch 10: Loss: 0.586 | Acc: 80.28%\n",
            "Epoch 11: Loss: 0.410 | Acc: 85.92%\n",
            "Test Epoch 11: Loss: 0.575 | Acc: 80.34%\n",
            "Epoch 12: Loss: 0.374 | Acc: 87.10%\n",
            "Test Epoch 12: Loss: 0.535 | Acc: 81.65%\n",
            "Epoch 13: Loss: 0.327 | Acc: 88.70%\n",
            "Test Epoch 13: Loss: 0.491 | Acc: 84.08%\n",
            "Epoch 14: Loss: 0.291 | Acc: 90.01%\n",
            "Test Epoch 14: Loss: 0.438 | Acc: 85.55%\n",
            "Epoch 15: Loss: 0.245 | Acc: 91.59%\n",
            "Test Epoch 15: Loss: 0.364 | Acc: 88.11%\n",
            "Epoch 16: Loss: 0.205 | Acc: 92.94%\n",
            "Test Epoch 16: Loss: 0.344 | Acc: 88.58%\n",
            "Epoch 17: Loss: 0.165 | Acc: 94.46%\n",
            "Test Epoch 17: Loss: 0.299 | Acc: 90.37%\n",
            "Epoch 18: Loss: 0.131 | Acc: 95.72%\n",
            "Test Epoch 18: Loss: 0.286 | Acc: 90.87%\n",
            "Epoch 19: Loss: 0.108 | Acc: 96.52%\n",
            "Test Epoch 19: Loss: 0.271 | Acc: 91.28%\n",
            "Epoch 20: Loss: 0.096 | Acc: 96.97%\n",
            "Test Epoch 20: Loss: 0.267 | Acc: 91.57%\n"
          ]
        }
      ]
    }
  ]
}