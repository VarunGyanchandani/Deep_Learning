{
  "nbformat": 4,
  "nbformat_minor": 0,
  "metadata": {
    "colab": {
      "provenance": [],
      "gpuType": "T4"
    },
    "kernelspec": {
      "name": "python3",
      "display_name": "Python 3"
    },
    "language_info": {
      "name": "python"
    },
    "accelerator": "GPU"
  },
  "cells": [
    {
      "cell_type": "code",
      "execution_count": null,
      "metadata": {
        "colab": {
          "base_uri": "https://localhost:8080/"
        },
        "id": "mVKR_zQ4bJKH",
        "outputId": "4233c4e0-ac10-4e9a-c793-ae117045a219"
      },
      "outputs": [
        {
          "output_type": "stream",
          "name": "stdout",
          "text": [
            "Requirement already satisfied: tensorflow in /usr/local/lib/python3.10/dist-packages (2.15.0)\n",
            "Requirement already satisfied: absl-py>=1.0.0 in /usr/local/lib/python3.10/dist-packages (from tensorflow) (1.4.0)\n",
            "Requirement already satisfied: astunparse>=1.6.0 in /usr/local/lib/python3.10/dist-packages (from tensorflow) (1.6.3)\n",
            "Requirement already satisfied: flatbuffers>=23.5.26 in /usr/local/lib/python3.10/dist-packages (from tensorflow) (23.5.26)\n",
            "Requirement already satisfied: gast!=0.5.0,!=0.5.1,!=0.5.2,>=0.2.1 in /usr/local/lib/python3.10/dist-packages (from tensorflow) (0.5.4)\n",
            "Requirement already satisfied: google-pasta>=0.1.1 in /usr/local/lib/python3.10/dist-packages (from tensorflow) (0.2.0)\n",
            "Requirement already satisfied: h5py>=2.9.0 in /usr/local/lib/python3.10/dist-packages (from tensorflow) (3.9.0)\n",
            "Requirement already satisfied: libclang>=13.0.0 in /usr/local/lib/python3.10/dist-packages (from tensorflow) (16.0.6)\n",
            "Requirement already satisfied: ml-dtypes~=0.2.0 in /usr/local/lib/python3.10/dist-packages (from tensorflow) (0.2.0)\n",
            "Requirement already satisfied: numpy<2.0.0,>=1.23.5 in /usr/local/lib/python3.10/dist-packages (from tensorflow) (1.25.2)\n",
            "Requirement already satisfied: opt-einsum>=2.3.2 in /usr/local/lib/python3.10/dist-packages (from tensorflow) (3.3.0)\n",
            "Requirement already satisfied: packaging in /usr/local/lib/python3.10/dist-packages (from tensorflow) (23.2)\n",
            "Requirement already satisfied: protobuf!=4.21.0,!=4.21.1,!=4.21.2,!=4.21.3,!=4.21.4,!=4.21.5,<5.0.0dev,>=3.20.3 in /usr/local/lib/python3.10/dist-packages (from tensorflow) (3.20.3)\n",
            "Requirement already satisfied: setuptools in /usr/local/lib/python3.10/dist-packages (from tensorflow) (67.7.2)\n",
            "Requirement already satisfied: six>=1.12.0 in /usr/local/lib/python3.10/dist-packages (from tensorflow) (1.16.0)\n",
            "Requirement already satisfied: termcolor>=1.1.0 in /usr/local/lib/python3.10/dist-packages (from tensorflow) (2.4.0)\n",
            "Requirement already satisfied: typing-extensions>=3.6.6 in /usr/local/lib/python3.10/dist-packages (from tensorflow) (4.10.0)\n",
            "Requirement already satisfied: wrapt<1.15,>=1.11.0 in /usr/local/lib/python3.10/dist-packages (from tensorflow) (1.14.1)\n",
            "Requirement already satisfied: tensorflow-io-gcs-filesystem>=0.23.1 in /usr/local/lib/python3.10/dist-packages (from tensorflow) (0.36.0)\n",
            "Requirement already satisfied: grpcio<2.0,>=1.24.3 in /usr/local/lib/python3.10/dist-packages (from tensorflow) (1.62.0)\n",
            "Requirement already satisfied: tensorboard<2.16,>=2.15 in /usr/local/lib/python3.10/dist-packages (from tensorflow) (2.15.2)\n",
            "Requirement already satisfied: tensorflow-estimator<2.16,>=2.15.0 in /usr/local/lib/python3.10/dist-packages (from tensorflow) (2.15.0)\n",
            "Requirement already satisfied: keras<2.16,>=2.15.0 in /usr/local/lib/python3.10/dist-packages (from tensorflow) (2.15.0)\n",
            "Requirement already satisfied: wheel<1.0,>=0.23.0 in /usr/local/lib/python3.10/dist-packages (from astunparse>=1.6.0->tensorflow) (0.42.0)\n",
            "Requirement already satisfied: google-auth<3,>=1.6.3 in /usr/local/lib/python3.10/dist-packages (from tensorboard<2.16,>=2.15->tensorflow) (2.27.0)\n",
            "Requirement already satisfied: google-auth-oauthlib<2,>=0.5 in /usr/local/lib/python3.10/dist-packages (from tensorboard<2.16,>=2.15->tensorflow) (1.2.0)\n",
            "Requirement already satisfied: markdown>=2.6.8 in /usr/local/lib/python3.10/dist-packages (from tensorboard<2.16,>=2.15->tensorflow) (3.5.2)\n",
            "Requirement already satisfied: requests<3,>=2.21.0 in /usr/local/lib/python3.10/dist-packages (from tensorboard<2.16,>=2.15->tensorflow) (2.31.0)\n",
            "Requirement already satisfied: tensorboard-data-server<0.8.0,>=0.7.0 in /usr/local/lib/python3.10/dist-packages (from tensorboard<2.16,>=2.15->tensorflow) (0.7.2)\n",
            "Requirement already satisfied: werkzeug>=1.0.1 in /usr/local/lib/python3.10/dist-packages (from tensorboard<2.16,>=2.15->tensorflow) (3.0.1)\n",
            "Requirement already satisfied: cachetools<6.0,>=2.0.0 in /usr/local/lib/python3.10/dist-packages (from google-auth<3,>=1.6.3->tensorboard<2.16,>=2.15->tensorflow) (5.3.3)\n",
            "Requirement already satisfied: pyasn1-modules>=0.2.1 in /usr/local/lib/python3.10/dist-packages (from google-auth<3,>=1.6.3->tensorboard<2.16,>=2.15->tensorflow) (0.3.0)\n",
            "Requirement already satisfied: rsa<5,>=3.1.4 in /usr/local/lib/python3.10/dist-packages (from google-auth<3,>=1.6.3->tensorboard<2.16,>=2.15->tensorflow) (4.9)\n",
            "Requirement already satisfied: requests-oauthlib>=0.7.0 in /usr/local/lib/python3.10/dist-packages (from google-auth-oauthlib<2,>=0.5->tensorboard<2.16,>=2.15->tensorflow) (1.3.1)\n",
            "Requirement already satisfied: charset-normalizer<4,>=2 in /usr/local/lib/python3.10/dist-packages (from requests<3,>=2.21.0->tensorboard<2.16,>=2.15->tensorflow) (3.3.2)\n",
            "Requirement already satisfied: idna<4,>=2.5 in /usr/local/lib/python3.10/dist-packages (from requests<3,>=2.21.0->tensorboard<2.16,>=2.15->tensorflow) (3.6)\n",
            "Requirement already satisfied: urllib3<3,>=1.21.1 in /usr/local/lib/python3.10/dist-packages (from requests<3,>=2.21.0->tensorboard<2.16,>=2.15->tensorflow) (2.0.7)\n",
            "Requirement already satisfied: certifi>=2017.4.17 in /usr/local/lib/python3.10/dist-packages (from requests<3,>=2.21.0->tensorboard<2.16,>=2.15->tensorflow) (2024.2.2)\n",
            "Requirement already satisfied: MarkupSafe>=2.1.1 in /usr/local/lib/python3.10/dist-packages (from werkzeug>=1.0.1->tensorboard<2.16,>=2.15->tensorflow) (2.1.5)\n",
            "Requirement already satisfied: pyasn1<0.6.0,>=0.4.6 in /usr/local/lib/python3.10/dist-packages (from pyasn1-modules>=0.2.1->google-auth<3,>=1.6.3->tensorboard<2.16,>=2.15->tensorflow) (0.5.1)\n",
            "Requirement already satisfied: oauthlib>=3.0.0 in /usr/local/lib/python3.10/dist-packages (from requests-oauthlib>=0.7.0->google-auth-oauthlib<2,>=0.5->tensorboard<2.16,>=2.15->tensorflow) (3.2.2)\n"
          ]
        }
      ],
      "source": [
        "!pip install tensorflow"
      ]
    },
    {
      "cell_type": "code",
      "source": [
        "import tensorflow as tf\n",
        "from tensorflow import keras"
      ],
      "metadata": {
        "id": "XY97MCF1cWZX"
      },
      "execution_count": 3,
      "outputs": []
    },
    {
      "cell_type": "code",
      "source": [
        "print(tf.__version__)"
      ],
      "metadata": {
        "colab": {
          "base_uri": "https://localhost:8080/"
        },
        "id": "HQAuXTO9cWbD",
        "outputId": "c5203b98-6ab4-4301-ebe6-b1d4ec483e30"
      },
      "execution_count": 4,
      "outputs": [
        {
          "output_type": "stream",
          "name": "stdout",
          "text": [
            "2.15.0\n"
          ]
        }
      ]
    },
    {
      "cell_type": "code",
      "source": [
        "mnist = keras.datasets.mnist\n",
        "(X_train, Y_train), (X_test, Y_test) = mnist.load_data()"
      ],
      "metadata": {
        "colab": {
          "base_uri": "https://localhost:8080/"
        },
        "id": "eftfNoTgcWdP",
        "outputId": "8dc174b0-c268-4d22-fc9f-4c8748322748"
      },
      "execution_count": 5,
      "outputs": [
        {
          "output_type": "stream",
          "name": "stdout",
          "text": [
            "Downloading data from https://storage.googleapis.com/tensorflow/tf-keras-datasets/mnist.npz\n",
            "11490434/11490434 [==============================] - 0s 0us/step\n"
          ]
        }
      ]
    },
    {
      "cell_type": "code",
      "source": [
        "print(X_train.shape)\n",
        "print(X_test.shape)\n"
      ],
      "metadata": {
        "colab": {
          "base_uri": "https://localhost:8080/"
        },
        "id": "ZoYqkbXucWfE",
        "outputId": "73aeac0c-d00a-48eb-981f-d31a5f3154ff"
      },
      "execution_count": 6,
      "outputs": [
        {
          "output_type": "stream",
          "name": "stdout",
          "text": [
            "(60000, 28, 28)\n",
            "(10000, 28, 28)\n"
          ]
        }
      ]
    },
    {
      "cell_type": "code",
      "source": [
        "X_train = X_train.astype('float32')\n",
        "X_test = X_test.astype('float32')"
      ],
      "metadata": {
        "id": "1FUvLFCBcWhQ"
      },
      "execution_count": 7,
      "outputs": []
    },
    {
      "cell_type": "code",
      "source": [
        "RESHAPED = 784"
      ],
      "metadata": {
        "id": "bfgI-G8ievq3"
      },
      "execution_count": 8,
      "outputs": []
    },
    {
      "cell_type": "code",
      "source": [
        "X_train  = X_train.reshape(60000, RESHAPED)\n",
        "X_test = X_test.reshape(10000, RESHAPED)"
      ],
      "metadata": {
        "id": "Ra6PcOnLevuN"
      },
      "execution_count": 9,
      "outputs": []
    },
    {
      "cell_type": "code",
      "source": [
        "X_train = X_train.astype('float32')\n",
        "X_test = X_test.astype('float32')"
      ],
      "metadata": {
        "id": "aKYbhJrkfAzG"
      },
      "execution_count": 10,
      "outputs": []
    },
    {
      "cell_type": "code",
      "source": [
        "X_train /= 255\n",
        "X_test /= 255"
      ],
      "metadata": {
        "id": "aXMH2ntdfA2f"
      },
      "execution_count": 11,
      "outputs": []
    },
    {
      "cell_type": "code",
      "source": [
        "print(X_train.shape, 'train samples')\n",
        "print(X_test.shape, 'test samples')"
      ],
      "metadata": {
        "colab": {
          "base_uri": "https://localhost:8080/"
        },
        "id": "lMUibumdeYct",
        "outputId": "08926c49-a711-4ca8-9565-6f3ed892085a"
      },
      "execution_count": 12,
      "outputs": [
        {
          "output_type": "stream",
          "name": "stdout",
          "text": [
            "(60000, 784) train samples\n",
            "(10000, 784) test samples\n"
          ]
        }
      ]
    },
    {
      "cell_type": "code",
      "source": [
        "Y_train = tf.keras.utils.to_categorical(Y_train, 10)\n",
        "Y_test = tf.keras.utils.to_categorical (Y_test, 10)"
      ],
      "metadata": {
        "id": "awC_-mzefW0K"
      },
      "execution_count": 13,
      "outputs": []
    },
    {
      "cell_type": "code",
      "source": [
        "from tensorflow.keras.layers import Dense\n",
        "from tensorflow.keras import Sequential\n",
        "model_0 = Sequential()"
      ],
      "metadata": {
        "id": "oQOVnRyBfW3d"
      },
      "execution_count": 14,
      "outputs": []
    },
    {
      "cell_type": "code",
      "source": [
        "model_0.add(Dense(10,input_shape=(784,), name='dense_layer', activation='softmax'))"
      ],
      "metadata": {
        "id": "ftaUsxCLf-D4"
      },
      "execution_count": 15,
      "outputs": []
    },
    {
      "cell_type": "code",
      "source": [
        "model_0.compile(optimizer='SGD', loss='categorical_crossentropy', metrics=['accuracy'])\n",
        "training=model_0.fit(X_train, Y_train, batch_size=64, epochs=70, validation_split=0.2)"
      ],
      "metadata": {
        "colab": {
          "base_uri": "https://localhost:8080/"
        },
        "id": "C8VsChtXeYgV",
        "outputId": "acc9a9f1-09f2-4c21-d46e-2a190269701d"
      },
      "execution_count": 16,
      "outputs": [
        {
          "output_type": "stream",
          "name": "stdout",
          "text": [
            "Epoch 1/70\n",
            "750/750 [==============================] - 4s 4ms/step - loss: 1.0993 - accuracy: 0.7420 - val_loss: 0.6566 - val_accuracy: 0.8549\n",
            "Epoch 2/70\n",
            "750/750 [==============================] - 3s 4ms/step - loss: 0.6096 - accuracy: 0.8534 - val_loss: 0.5096 - val_accuracy: 0.8733\n",
            "Epoch 3/70\n",
            "750/750 [==============================] - 2s 3ms/step - loss: 0.5140 - accuracy: 0.8694 - val_loss: 0.4510 - val_accuracy: 0.8864\n",
            "Epoch 4/70\n",
            "750/750 [==============================] - 2s 3ms/step - loss: 0.4676 - accuracy: 0.8780 - val_loss: 0.4182 - val_accuracy: 0.8913\n",
            "Epoch 5/70\n",
            "750/750 [==============================] - 2s 3ms/step - loss: 0.4388 - accuracy: 0.8843 - val_loss: 0.3972 - val_accuracy: 0.8963\n",
            "Epoch 6/70\n",
            "750/750 [==============================] - 3s 4ms/step - loss: 0.4188 - accuracy: 0.8875 - val_loss: 0.3821 - val_accuracy: 0.8992\n",
            "Epoch 7/70\n",
            "750/750 [==============================] - 3s 4ms/step - loss: 0.4038 - accuracy: 0.8912 - val_loss: 0.3708 - val_accuracy: 0.9003\n",
            "Epoch 8/70\n",
            "750/750 [==============================] - 4s 5ms/step - loss: 0.3921 - accuracy: 0.8931 - val_loss: 0.3614 - val_accuracy: 0.9027\n",
            "Epoch 9/70\n",
            "750/750 [==============================] - 4s 6ms/step - loss: 0.3826 - accuracy: 0.8957 - val_loss: 0.3541 - val_accuracy: 0.9043\n",
            "Epoch 10/70\n",
            "750/750 [==============================] - 3s 4ms/step - loss: 0.3746 - accuracy: 0.8971 - val_loss: 0.3478 - val_accuracy: 0.9063\n",
            "Epoch 11/70\n",
            "750/750 [==============================] - 2s 3ms/step - loss: 0.3679 - accuracy: 0.8984 - val_loss: 0.3422 - val_accuracy: 0.9076\n",
            "Epoch 12/70\n",
            "750/750 [==============================] - 2s 3ms/step - loss: 0.3619 - accuracy: 0.8999 - val_loss: 0.3378 - val_accuracy: 0.9082\n",
            "Epoch 13/70\n",
            "750/750 [==============================] - 2s 3ms/step - loss: 0.3568 - accuracy: 0.9012 - val_loss: 0.3337 - val_accuracy: 0.9102\n",
            "Epoch 14/70\n",
            "750/750 [==============================] - 3s 3ms/step - loss: 0.3523 - accuracy: 0.9019 - val_loss: 0.3301 - val_accuracy: 0.9108\n",
            "Epoch 15/70\n",
            "750/750 [==============================] - 2s 3ms/step - loss: 0.3481 - accuracy: 0.9031 - val_loss: 0.3269 - val_accuracy: 0.9112\n",
            "Epoch 16/70\n",
            "750/750 [==============================] - 2s 3ms/step - loss: 0.3445 - accuracy: 0.9039 - val_loss: 0.3240 - val_accuracy: 0.9118\n",
            "Epoch 17/70\n",
            "750/750 [==============================] - 2s 3ms/step - loss: 0.3412 - accuracy: 0.9048 - val_loss: 0.3215 - val_accuracy: 0.9120\n",
            "Epoch 18/70\n",
            "750/750 [==============================] - 2s 3ms/step - loss: 0.3381 - accuracy: 0.9054 - val_loss: 0.3190 - val_accuracy: 0.9128\n",
            "Epoch 19/70\n",
            "750/750 [==============================] - 3s 4ms/step - loss: 0.3353 - accuracy: 0.9066 - val_loss: 0.3171 - val_accuracy: 0.9130\n",
            "Epoch 20/70\n",
            "750/750 [==============================] - 2s 3ms/step - loss: 0.3328 - accuracy: 0.9070 - val_loss: 0.3148 - val_accuracy: 0.9137\n",
            "Epoch 21/70\n",
            "750/750 [==============================] - 4s 5ms/step - loss: 0.3303 - accuracy: 0.9078 - val_loss: 0.3130 - val_accuracy: 0.9142\n",
            "Epoch 22/70\n",
            "750/750 [==============================] - 3s 4ms/step - loss: 0.3281 - accuracy: 0.9086 - val_loss: 0.3113 - val_accuracy: 0.9143\n",
            "Epoch 23/70\n",
            "750/750 [==============================] - 3s 5ms/step - loss: 0.3261 - accuracy: 0.9089 - val_loss: 0.3097 - val_accuracy: 0.9149\n",
            "Epoch 24/70\n",
            "750/750 [==============================] - 4s 5ms/step - loss: 0.3241 - accuracy: 0.9100 - val_loss: 0.3084 - val_accuracy: 0.9146\n",
            "Epoch 25/70\n",
            "750/750 [==============================] - 2s 3ms/step - loss: 0.3222 - accuracy: 0.9101 - val_loss: 0.3067 - val_accuracy: 0.9153\n",
            "Epoch 26/70\n",
            "750/750 [==============================] - 2s 3ms/step - loss: 0.3204 - accuracy: 0.9108 - val_loss: 0.3055 - val_accuracy: 0.9153\n",
            "Epoch 27/70\n",
            "750/750 [==============================] - 2s 3ms/step - loss: 0.3189 - accuracy: 0.9113 - val_loss: 0.3042 - val_accuracy: 0.9151\n",
            "Epoch 28/70\n",
            "750/750 [==============================] - 3s 4ms/step - loss: 0.3173 - accuracy: 0.9118 - val_loss: 0.3030 - val_accuracy: 0.9154\n",
            "Epoch 29/70\n",
            "750/750 [==============================] - 2s 3ms/step - loss: 0.3158 - accuracy: 0.9118 - val_loss: 0.3020 - val_accuracy: 0.9154\n",
            "Epoch 30/70\n",
            "750/750 [==============================] - 2s 3ms/step - loss: 0.3144 - accuracy: 0.9129 - val_loss: 0.3011 - val_accuracy: 0.9162\n",
            "Epoch 31/70\n",
            "750/750 [==============================] - 2s 3ms/step - loss: 0.3131 - accuracy: 0.9129 - val_loss: 0.3000 - val_accuracy: 0.9161\n",
            "Epoch 32/70\n",
            "750/750 [==============================] - 2s 3ms/step - loss: 0.3119 - accuracy: 0.9133 - val_loss: 0.2989 - val_accuracy: 0.9168\n",
            "Epoch 33/70\n",
            "750/750 [==============================] - 2s 3ms/step - loss: 0.3106 - accuracy: 0.9139 - val_loss: 0.2982 - val_accuracy: 0.9163\n",
            "Epoch 34/70\n",
            "750/750 [==============================] - 2s 3ms/step - loss: 0.3095 - accuracy: 0.9141 - val_loss: 0.2972 - val_accuracy: 0.9170\n",
            "Epoch 35/70\n",
            "750/750 [==============================] - 2s 3ms/step - loss: 0.3084 - accuracy: 0.9149 - val_loss: 0.2963 - val_accuracy: 0.9172\n",
            "Epoch 36/70\n",
            "750/750 [==============================] - 2s 3ms/step - loss: 0.3072 - accuracy: 0.9149 - val_loss: 0.2957 - val_accuracy: 0.9173\n",
            "Epoch 37/70\n",
            "750/750 [==============================] - 2s 3ms/step - loss: 0.3063 - accuracy: 0.9147 - val_loss: 0.2950 - val_accuracy: 0.9173\n",
            "Epoch 38/70\n",
            "750/750 [==============================] - 2s 3ms/step - loss: 0.3054 - accuracy: 0.9153 - val_loss: 0.2940 - val_accuracy: 0.9187\n",
            "Epoch 39/70\n",
            "750/750 [==============================] - 3s 3ms/step - loss: 0.3044 - accuracy: 0.9155 - val_loss: 0.2937 - val_accuracy: 0.9179\n",
            "Epoch 40/70\n",
            "750/750 [==============================] - 2s 3ms/step - loss: 0.3035 - accuracy: 0.9157 - val_loss: 0.2927 - val_accuracy: 0.9179\n",
            "Epoch 41/70\n",
            "750/750 [==============================] - 2s 3ms/step - loss: 0.3026 - accuracy: 0.9162 - val_loss: 0.2921 - val_accuracy: 0.9187\n",
            "Epoch 42/70\n",
            "750/750 [==============================] - 2s 3ms/step - loss: 0.3018 - accuracy: 0.9164 - val_loss: 0.2914 - val_accuracy: 0.9183\n",
            "Epoch 43/70\n",
            "750/750 [==============================] - 2s 3ms/step - loss: 0.3009 - accuracy: 0.9168 - val_loss: 0.2909 - val_accuracy: 0.9192\n",
            "Epoch 44/70\n",
            "750/750 [==============================] - 3s 3ms/step - loss: 0.3002 - accuracy: 0.9169 - val_loss: 0.2902 - val_accuracy: 0.9195\n",
            "Epoch 45/70\n",
            "750/750 [==============================] - 2s 3ms/step - loss: 0.2994 - accuracy: 0.9171 - val_loss: 0.2899 - val_accuracy: 0.9190\n",
            "Epoch 46/70\n",
            "750/750 [==============================] - 2s 3ms/step - loss: 0.2987 - accuracy: 0.9173 - val_loss: 0.2894 - val_accuracy: 0.9198\n",
            "Epoch 47/70\n",
            "750/750 [==============================] - 2s 3ms/step - loss: 0.2980 - accuracy: 0.9171 - val_loss: 0.2888 - val_accuracy: 0.9199\n",
            "Epoch 48/70\n",
            "750/750 [==============================] - 2s 3ms/step - loss: 0.2973 - accuracy: 0.9177 - val_loss: 0.2883 - val_accuracy: 0.9199\n",
            "Epoch 49/70\n",
            "750/750 [==============================] - 3s 4ms/step - loss: 0.2966 - accuracy: 0.9177 - val_loss: 0.2879 - val_accuracy: 0.9202\n",
            "Epoch 50/70\n",
            "750/750 [==============================] - 3s 4ms/step - loss: 0.2960 - accuracy: 0.9179 - val_loss: 0.2872 - val_accuracy: 0.9201\n",
            "Epoch 51/70\n",
            "750/750 [==============================] - 2s 3ms/step - loss: 0.2953 - accuracy: 0.9179 - val_loss: 0.2869 - val_accuracy: 0.9205\n",
            "Epoch 52/70\n",
            "750/750 [==============================] - 2s 3ms/step - loss: 0.2947 - accuracy: 0.9183 - val_loss: 0.2864 - val_accuracy: 0.9206\n",
            "Epoch 53/70\n",
            "750/750 [==============================] - 2s 3ms/step - loss: 0.2941 - accuracy: 0.9179 - val_loss: 0.2860 - val_accuracy: 0.9202\n",
            "Epoch 54/70\n",
            "750/750 [==============================] - 3s 3ms/step - loss: 0.2936 - accuracy: 0.9185 - val_loss: 0.2856 - val_accuracy: 0.9206\n",
            "Epoch 55/70\n",
            "750/750 [==============================] - 2s 3ms/step - loss: 0.2929 - accuracy: 0.9189 - val_loss: 0.2854 - val_accuracy: 0.9208\n",
            "Epoch 56/70\n",
            "750/750 [==============================] - 2s 3ms/step - loss: 0.2924 - accuracy: 0.9186 - val_loss: 0.2849 - val_accuracy: 0.9204\n",
            "Epoch 57/70\n",
            "750/750 [==============================] - 3s 4ms/step - loss: 0.2918 - accuracy: 0.9192 - val_loss: 0.2848 - val_accuracy: 0.9208\n",
            "Epoch 58/70\n",
            "750/750 [==============================] - 2s 3ms/step - loss: 0.2913 - accuracy: 0.9188 - val_loss: 0.2844 - val_accuracy: 0.9209\n",
            "Epoch 59/70\n",
            "750/750 [==============================] - 2s 3ms/step - loss: 0.2908 - accuracy: 0.9194 - val_loss: 0.2838 - val_accuracy: 0.9209\n",
            "Epoch 60/70\n",
            "750/750 [==============================] - 2s 3ms/step - loss: 0.2903 - accuracy: 0.9195 - val_loss: 0.2835 - val_accuracy: 0.9211\n",
            "Epoch 61/70\n",
            "750/750 [==============================] - 2s 3ms/step - loss: 0.2899 - accuracy: 0.9194 - val_loss: 0.2832 - val_accuracy: 0.9214\n",
            "Epoch 62/70\n",
            "750/750 [==============================] - 2s 3ms/step - loss: 0.2894 - accuracy: 0.9196 - val_loss: 0.2830 - val_accuracy: 0.9209\n",
            "Epoch 63/70\n",
            "750/750 [==============================] - 2s 3ms/step - loss: 0.2889 - accuracy: 0.9195 - val_loss: 0.2826 - val_accuracy: 0.9213\n",
            "Epoch 64/70\n",
            "750/750 [==============================] - 2s 3ms/step - loss: 0.2884 - accuracy: 0.9198 - val_loss: 0.2822 - val_accuracy: 0.9215\n",
            "Epoch 65/70\n",
            "750/750 [==============================] - 3s 4ms/step - loss: 0.2880 - accuracy: 0.9200 - val_loss: 0.2822 - val_accuracy: 0.9215\n",
            "Epoch 66/70\n",
            "750/750 [==============================] - 2s 3ms/step - loss: 0.2875 - accuracy: 0.9200 - val_loss: 0.2817 - val_accuracy: 0.9217\n",
            "Epoch 67/70\n",
            "750/750 [==============================] - 2s 3ms/step - loss: 0.2871 - accuracy: 0.9207 - val_loss: 0.2813 - val_accuracy: 0.9218\n",
            "Epoch 68/70\n",
            "750/750 [==============================] - 2s 3ms/step - loss: 0.2867 - accuracy: 0.9205 - val_loss: 0.2812 - val_accuracy: 0.9216\n",
            "Epoch 69/70\n",
            "750/750 [==============================] - 2s 3ms/step - loss: 0.2863 - accuracy: 0.9207 - val_loss: 0.2808 - val_accuracy: 0.9216\n",
            "Epoch 70/70\n",
            "750/750 [==============================] - 3s 4ms/step - loss: 0.2858 - accuracy: 0.9202 - val_loss: 0.2809 - val_accuracy: 0.9212\n"
          ]
        }
      ]
    },
    {
      "cell_type": "code",
      "source": [
        "import matplotlib.pyplot as plt\n",
        "%matplotlib inline\n",
        "print(training.history.keys())"
      ],
      "metadata": {
        "id": "xdUQTlv2cWjj",
        "colab": {
          "base_uri": "https://localhost:8080/"
        },
        "outputId": "d2dde1b9-ec9c-4c7c-ede0-4834cbcd7509"
      },
      "execution_count": 17,
      "outputs": [
        {
          "output_type": "stream",
          "name": "stdout",
          "text": [
            "dict_keys(['loss', 'accuracy', 'val_loss', 'val_accuracy'])\n"
          ]
        }
      ]
    },
    {
      "cell_type": "code",
      "source": [
        "plt.plot(training.history['accuracy'])\n",
        "plt.plot(training.history['val_accuracy'])\n",
        "plt.title('model accuracy')\n",
        "plt.ylabel('accuracy')\n",
        "plt.xlabel('epoch')\n",
        "plt.legend(['train', 'test'], loc='upper left')\n",
        "plt.show()"
      ],
      "metadata": {
        "id": "UAFZZzhutVqh",
        "colab": {
          "base_uri": "https://localhost:8080/",
          "height": 472
        },
        "outputId": "3b136c9a-3c35-4346-f2c3-f55cf8d25f7b"
      },
      "execution_count": 18,
      "outputs": [
        {
          "output_type": "display_data",
          "data": {
            "text/plain": [
              "<Figure size 640x480 with 1 Axes>"
            ],
            "image/png": "[encoded data removed]"
          },
          "metadata": {}
        }
      ]
    },
    {
      "cell_type": "code",
      "source": [
        "plt.plot(training.history['loss'])\n",
        "plt.plot(training.history['val_loss'])\n",
        "plt.title('model loss')\n",
        "plt.ylabel('loss')\n",
        "plt.xlabel('epoch')\n",
        "plt.legend(['train', 'test'], loc='upper left')\n",
        "plt.show()"
      ],
      "metadata": {
        "id": "uKV7ogFGtVs6",
        "colab": {
          "base_uri": "https://localhost:8080/",
          "height": 472
        },
        "outputId": "c1a67f88-efa8-4ec3-f5b2-32e3bfef3046"
      },
      "execution_count": 19,
      "outputs": [
        {
          "output_type": "display_data",
          "data": {
            "text/plain": [
              "<Figure size 640x480 with 1 Axes>"
            ],
            "image/png": "[encoded data removed]"
          },
          "metadata": {}
        }
      ]
    },
    {
      "cell_type": "code",
      "source": [
        "test_loss, test_acc = model_0.evaluate(X_test, Y_test)\n",
        "print('Test accuracy:', test_acc)"
      ],
      "metadata": {
        "id": "6j7_vMxLtVwY",
        "colab": {
          "base_uri": "https://localhost:8080/"
        },
        "outputId": "02f5a5aa-0981-40df-a2c2-62d47500e9ca"
      },
      "execution_count": 20,
      "outputs": [
        {
          "output_type": "stream",
          "name": "stdout",
          "text": [
            "313/313 [==============================] - 1s 3ms/step - loss: 0.2831 - accuracy: 0.9215\n",
            "Test accuracy: 0.921500027179718\n"
          ]
        }
      ]
    },
    {
      "cell_type": "code",
      "source": [
        "model_0.summary()"
      ],
      "metadata": {
        "id": "cj4rrDiKcWnB",
        "colab": {
          "base_uri": "https://localhost:8080/"
        },
        "outputId": "7cfc2899-0b78-456c-a46a-e846b2a06ca2"
      },
      "execution_count": 21,
      "outputs": [
        {
          "output_type": "stream",
          "name": "stdout",
          "text": [
            "Model: \"sequential\"\n",
            "_________________________________________________________________\n",
            " Layer (type)                Output Shape              Param #   \n",
            "=================================================================\n",
            " dense_layer (Dense)         (None, 10)                7850      \n",
            "                                                                 \n",
            "=================================================================\n",
            "Total params: 7850 (30.66 KB)\n",
            "Trainable params: 7850 (30.66 KB)\n",
            "Non-trainable params: 0 (0.00 Byte)\n",
            "_________________________________________________________________\n"
          ]
        }
      ]
    },
    {
      "cell_type": "code",
      "source": [
        "from tensorflow.keras.layers import Dropout\n",
        "\n",
        "model_2 = tf.keras.Sequential()\n",
        "N_hidden = 128"
      ],
      "metadata": {
        "id": "cZSs8i9Cx9cm"
      },
      "execution_count": 22,
      "outputs": []
    },
    {
      "cell_type": "code",
      "source": [
        "model_2.add(Dense (N_hidden, name='dense_layer', input_shape=(784,), activation = 'relu' ))\n",
        "model_2.add(Dropout (0.3))"
      ],
      "metadata": {
        "id": "T_Xkc8w9x9fI"
      },
      "execution_count": 23,
      "outputs": []
    },
    {
      "cell_type": "code",
      "source": [
        "model_2.add(Dense (N_hidden, name='dense_layer_2', activation='relu'))\n",
        "model_2.add(Dropout(0.3))"
      ],
      "metadata": {
        "id": "Mlqg4aWZyun9"
      },
      "execution_count": 24,
      "outputs": []
    },
    {
      "cell_type": "code",
      "source": [
        "model_2.add(Dense (10, name='dense_layer_3', activation = 'softmax'))"
      ],
      "metadata": {
        "id": "ra-aPjwfyurT"
      },
      "execution_count": 25,
      "outputs": []
    },
    {
      "cell_type": "code",
      "source": [
        "model_2.compile(optimizer='SGD', loss='categorical_crossentropy', metrics=['accuracy'])"
      ],
      "metadata": {
        "id": "kzB4jBBxx9hd"
      },
      "execution_count": 26,
      "outputs": []
    },
    {
      "cell_type": "code",
      "source": [
        "training = model_2.fit(X_train, Y_train, batch_size=64, epochs=50, validation_split=0.2)"
      ],
      "metadata": {
        "colab": {
          "base_uri": "https://localhost:8080/"
        },
        "id": "XZ8yR8nFzAJi",
        "outputId": "8d190438-d105-47b8-828a-5515d7603694"
      },
      "execution_count": 27,
      "outputs": [
        {
          "output_type": "stream",
          "name": "stdout",
          "text": [
            "Epoch 1/50\n",
            "750/750 [==============================] - 5s 4ms/step - loss: 1.2776 - accuracy: 0.6062 - val_loss: 0.5111 - val_accuracy: 0.8710\n",
            "Epoch 2/50\n",
            "750/750 [==============================] - 3s 4ms/step - loss: 0.6353 - accuracy: 0.8066 - val_loss: 0.3663 - val_accuracy: 0.8991\n",
            "Epoch 3/50\n",
            "750/750 [==============================] - 2s 3ms/step - loss: 0.5034 - accuracy: 0.8478 - val_loss: 0.3130 - val_accuracy: 0.9097\n",
            "Epoch 4/50\n",
            "750/750 [==============================] - 3s 4ms/step - loss: 0.4447 - accuracy: 0.8689 - val_loss: 0.2784 - val_accuracy: 0.9188\n",
            "Epoch 5/50\n",
            "750/750 [==============================] - 2s 3ms/step - loss: 0.4005 - accuracy: 0.8834 - val_loss: 0.2563 - val_accuracy: 0.9246\n",
            "Epoch 6/50\n",
            "750/750 [==============================] - 3s 4ms/step - loss: 0.3694 - accuracy: 0.8911 - val_loss: 0.2369 - val_accuracy: 0.9309\n",
            "Epoch 7/50\n",
            "750/750 [==============================] - 3s 4ms/step - loss: 0.3412 - accuracy: 0.8991 - val_loss: 0.2208 - val_accuracy: 0.9352\n",
            "Epoch 8/50\n",
            "750/750 [==============================] - 3s 4ms/step - loss: 0.3223 - accuracy: 0.9043 - val_loss: 0.2076 - val_accuracy: 0.9399\n",
            "Epoch 9/50\n",
            "750/750 [==============================] - 3s 4ms/step - loss: 0.3084 - accuracy: 0.9100 - val_loss: 0.1966 - val_accuracy: 0.9421\n",
            "Epoch 10/50\n",
            "750/750 [==============================] - 3s 4ms/step - loss: 0.2857 - accuracy: 0.9169 - val_loss: 0.1867 - val_accuracy: 0.9452\n",
            "Epoch 11/50\n",
            "750/750 [==============================] - 2s 3ms/step - loss: 0.2736 - accuracy: 0.9194 - val_loss: 0.1796 - val_accuracy: 0.9474\n",
            "Epoch 12/50\n",
            "750/750 [==============================] - 3s 4ms/step - loss: 0.2647 - accuracy: 0.9226 - val_loss: 0.1715 - val_accuracy: 0.9498\n",
            "Epoch 13/50\n",
            "750/750 [==============================] - 3s 4ms/step - loss: 0.2532 - accuracy: 0.9262 - val_loss: 0.1655 - val_accuracy: 0.9507\n",
            "Epoch 14/50\n",
            "750/750 [==============================] - 3s 4ms/step - loss: 0.2421 - accuracy: 0.9305 - val_loss: 0.1594 - val_accuracy: 0.9533\n",
            "Epoch 15/50\n",
            "750/750 [==============================] - 3s 4ms/step - loss: 0.2342 - accuracy: 0.9315 - val_loss: 0.1544 - val_accuracy: 0.9546\n",
            "Epoch 16/50\n",
            "750/750 [==============================] - 3s 4ms/step - loss: 0.2263 - accuracy: 0.9332 - val_loss: 0.1498 - val_accuracy: 0.9563\n",
            "Epoch 17/50\n",
            "750/750 [==============================] - 4s 5ms/step - loss: 0.2221 - accuracy: 0.9356 - val_loss: 0.1451 - val_accuracy: 0.9573\n",
            "Epoch 18/50\n",
            "750/750 [==============================] - 3s 3ms/step - loss: 0.2144 - accuracy: 0.9366 - val_loss: 0.1412 - val_accuracy: 0.9589\n",
            "Epoch 19/50\n",
            "750/750 [==============================] - 3s 4ms/step - loss: 0.2097 - accuracy: 0.9383 - val_loss: 0.1380 - val_accuracy: 0.9593\n",
            "Epoch 20/50\n",
            "750/750 [==============================] - 3s 3ms/step - loss: 0.2018 - accuracy: 0.9410 - val_loss: 0.1344 - val_accuracy: 0.9598\n",
            "Epoch 21/50\n",
            "750/750 [==============================] - 3s 3ms/step - loss: 0.1970 - accuracy: 0.9420 - val_loss: 0.1313 - val_accuracy: 0.9610\n",
            "Epoch 22/50\n",
            "750/750 [==============================] - 4s 5ms/step - loss: 0.1936 - accuracy: 0.9438 - val_loss: 0.1301 - val_accuracy: 0.9622\n",
            "Epoch 23/50\n",
            "750/750 [==============================] - 2s 3ms/step - loss: 0.1914 - accuracy: 0.9443 - val_loss: 0.1269 - val_accuracy: 0.9631\n",
            "Epoch 24/50\n",
            "750/750 [==============================] - 3s 4ms/step - loss: 0.1854 - accuracy: 0.9461 - val_loss: 0.1234 - val_accuracy: 0.9643\n",
            "Epoch 25/50\n",
            "750/750 [==============================] - 2s 3ms/step - loss: 0.1809 - accuracy: 0.9469 - val_loss: 0.1213 - val_accuracy: 0.9648\n",
            "Epoch 26/50\n",
            "750/750 [==============================] - 3s 4ms/step - loss: 0.1757 - accuracy: 0.9475 - val_loss: 0.1196 - val_accuracy: 0.9652\n",
            "Epoch 27/50\n",
            "750/750 [==============================] - 2s 3ms/step - loss: 0.1702 - accuracy: 0.9500 - val_loss: 0.1169 - val_accuracy: 0.9661\n",
            "Epoch 28/50\n",
            "750/750 [==============================] - 3s 4ms/step - loss: 0.1696 - accuracy: 0.9500 - val_loss: 0.1151 - val_accuracy: 0.9665\n",
            "Epoch 29/50\n",
            "750/750 [==============================] - 3s 4ms/step - loss: 0.1704 - accuracy: 0.9497 - val_loss: 0.1140 - val_accuracy: 0.9670\n",
            "Epoch 30/50\n",
            "750/750 [==============================] - 3s 4ms/step - loss: 0.1636 - accuracy: 0.9529 - val_loss: 0.1123 - val_accuracy: 0.9668\n",
            "Epoch 31/50\n",
            "750/750 [==============================] - 3s 4ms/step - loss: 0.1635 - accuracy: 0.9518 - val_loss: 0.1106 - val_accuracy: 0.9683\n",
            "Epoch 32/50\n",
            "750/750 [==============================] - 2s 3ms/step - loss: 0.1550 - accuracy: 0.9541 - val_loss: 0.1092 - val_accuracy: 0.9678\n",
            "Epoch 33/50\n",
            "750/750 [==============================] - 2s 3ms/step - loss: 0.1538 - accuracy: 0.9537 - val_loss: 0.1087 - val_accuracy: 0.9685\n",
            "Epoch 34/50\n",
            "750/750 [==============================] - 3s 4ms/step - loss: 0.1529 - accuracy: 0.9535 - val_loss: 0.1064 - val_accuracy: 0.9684\n",
            "Epoch 35/50\n",
            "750/750 [==============================] - 3s 5ms/step - loss: 0.1492 - accuracy: 0.9548 - val_loss: 0.1051 - val_accuracy: 0.9699\n",
            "Epoch 36/50\n",
            "750/750 [==============================] - 3s 4ms/step - loss: 0.1473 - accuracy: 0.9562 - val_loss: 0.1046 - val_accuracy: 0.9688\n",
            "Epoch 37/50\n",
            "750/750 [==============================] - 2s 3ms/step - loss: 0.1442 - accuracy: 0.9573 - val_loss: 0.1033 - val_accuracy: 0.9697\n",
            "Epoch 38/50\n",
            "750/750 [==============================] - 2s 3ms/step - loss: 0.1435 - accuracy: 0.9569 - val_loss: 0.1025 - val_accuracy: 0.9702\n",
            "Epoch 39/50\n",
            "750/750 [==============================] - 3s 4ms/step - loss: 0.1418 - accuracy: 0.9580 - val_loss: 0.1022 - val_accuracy: 0.9703\n",
            "Epoch 40/50\n",
            "750/750 [==============================] - 3s 4ms/step - loss: 0.1416 - accuracy: 0.9572 - val_loss: 0.1005 - val_accuracy: 0.9707\n",
            "Epoch 41/50\n",
            "750/750 [==============================] - 2s 3ms/step - loss: 0.1382 - accuracy: 0.9581 - val_loss: 0.0997 - val_accuracy: 0.9712\n",
            "Epoch 42/50\n",
            "750/750 [==============================] - 3s 4ms/step - loss: 0.1322 - accuracy: 0.9602 - val_loss: 0.0990 - val_accuracy: 0.9706\n",
            "Epoch 43/50\n",
            "750/750 [==============================] - 3s 4ms/step - loss: 0.1325 - accuracy: 0.9606 - val_loss: 0.0981 - val_accuracy: 0.9709\n",
            "Epoch 44/50\n",
            "750/750 [==============================] - 4s 6ms/step - loss: 0.1322 - accuracy: 0.9608 - val_loss: 0.0958 - val_accuracy: 0.9719\n",
            "Epoch 45/50\n",
            "750/750 [==============================] - 3s 4ms/step - loss: 0.1282 - accuracy: 0.9611 - val_loss: 0.0956 - val_accuracy: 0.9722\n",
            "Epoch 46/50\n",
            "750/750 [==============================] - 2s 3ms/step - loss: 0.1288 - accuracy: 0.9612 - val_loss: 0.0949 - val_accuracy: 0.9722\n",
            "Epoch 47/50\n",
            "750/750 [==============================] - 3s 4ms/step - loss: 0.1263 - accuracy: 0.9620 - val_loss: 0.0946 - val_accuracy: 0.9720\n",
            "Epoch 48/50\n",
            "750/750 [==============================] - 3s 5ms/step - loss: 0.1267 - accuracy: 0.9614 - val_loss: 0.0934 - val_accuracy: 0.9730\n",
            "Epoch 49/50\n",
            "750/750 [==============================] - 3s 4ms/step - loss: 0.1212 - accuracy: 0.9638 - val_loss: 0.0931 - val_accuracy: 0.9727\n",
            "Epoch 50/50\n",
            "750/750 [==============================] - 3s 4ms/step - loss: 0.1196 - accuracy: 0.9635 - val_loss: 0.0919 - val_accuracy: 0.9731\n"
          ]
        }
      ]
    },
    {
      "cell_type": "code",
      "source": [
        "print(training.history.keys())"
      ],
      "metadata": {
        "colab": {
          "base_uri": "https://localhost:8080/"
        },
        "id": "82YHRWqtzAND",
        "outputId": "264acebc-d981-463e-e876-ca2320b26da8"
      },
      "execution_count": 28,
      "outputs": [
        {
          "output_type": "stream",
          "name": "stdout",
          "text": [
            "dict_keys(['loss', 'accuracy', 'val_loss', 'val_accuracy'])\n"
          ]
        }
      ]
    },
    {
      "cell_type": "code",
      "source": [
        "plt.plot(training.history['accuracy'])\n",
        "plt.plot(training.history['val_accuracy'])\n",
        "plt.title('model accuracy')\n",
        "plt.ylabel('accuracy')\n",
        "plt.xlabel('epoch')\n",
        "plt.legend(['train', 'test'], loc='upper left')\n",
        "plt.show()"
      ],
      "metadata": {
        "colab": {
          "base_uri": "https://localhost:8080/",
          "height": 472
        },
        "id": "jgdOXVb_zaSS",
        "outputId": "d85d2f40-af02-4ef0-f5c6-cc0fbac8326a"
      },
      "execution_count": 29,
      "outputs": [
        {
          "output_type": "display_data",
          "data": {
            "text/plain": [
              "<Figure size 640x480 with 1 Axes>"
            ],
            "image/png": "[encoded data removed]"
          },
          "metadata": {}
        }
      ]
    },
    {
      "cell_type": "code",
      "source": [
        "plt.plot(training.history['loss'])\n",
        "plt.plot(training.history['val_loss'])\n",
        "plt.title('model loss')\n",
        "plt.ylabel('loss')\n",
        "plt.xlabel('epoch')\n",
        "plt.legend(['train', 'test'], loc='upper left')\n",
        "plt.show()"
      ],
      "metadata": {
        "colab": {
          "base_uri": "https://localhost:8080/",
          "height": 472
        },
        "id": "pwLZX850zaUT",
        "outputId": "3408853b-b1c2-4926-a015-155a6ca54fe0"
      },
      "execution_count": 30,
      "outputs": [
        {
          "output_type": "display_data",
          "data": {
            "text/plain": [
              "<Figure size 640x480 with 1 Axes>"
            ],
            "image/png": "[encoded data removed]"
          },
          "metadata": {}
        }
      ]
    },
    {
      "cell_type": "code",
      "source": [
        "model_2.weights[0]"
      ],
      "metadata": {
        "colab": {
          "base_uri": "https://localhost:8080/"
        },
        "id": "S16zN_ikzr0k",
        "outputId": "933e57f2-9243-429f-e061-ca7e11064b99"
      },
      "execution_count": 31,
      "outputs": [
        {
          "output_type": "execute_result",
          "data": {
            "text/plain": [
              "<tf.Variable 'dense_layer/kernel:0' shape=(784, 128) dtype=float32, numpy=\n",
              "array([[-0.03763357, -0.02967321, -0.05704698, ..., -0.05716342,\n",
              "        -0.01004221,  0.04822219],\n",
              "       [ 0.07620499,  0.04504975, -0.0078808 , ...,  0.01791595,\n",
              "         0.08013693,  0.05954856],\n",
              "       [ 0.06055   ,  0.03968776, -0.07122638, ..., -0.04611413,\n",
              "         0.00383809,  0.02677558],\n",
              "       ...,\n",
              "       [-0.06848659, -0.07976911,  0.00940648, ...,  0.03837703,\n",
              "         0.00433932,  0.05737337],\n",
              "       [ 0.01285076, -0.04955764,  0.06941123, ...,  0.07157167,\n",
              "         0.00241464, -0.03145651],\n",
              "       [ 0.0076728 ,  0.06779341,  0.044521  , ...,  0.00140982,\n",
              "         0.0598296 ,  0.0101784 ]], dtype=float32)>"
            ]
          },
          "metadata": {},
          "execution_count": 31
        }
      ]
    },
    {
      "cell_type": "code",
      "source": [
        "test_loss, test_acc  = model_2.evaluate(X_test, Y_test)\n",
        "print('Test accuracy:', test_acc)"
      ],
      "metadata": {
        "colab": {
          "base_uri": "https://localhost:8080/"
        },
        "id": "PjUChtZXzr4B",
        "outputId": "f6aa1e9d-e0a9-4ef6-f627-6f286935da28"
      },
      "execution_count": 32,
      "outputs": [
        {
          "output_type": "stream",
          "name": "stdout",
          "text": [
            "313/313 [==============================] - 1s 3ms/step - loss: 0.0866 - accuracy: 0.9733\n",
            "Test accuracy: 0.9732999801635742\n"
          ]
        }
      ]
    },
    {
      "cell_type": "code",
      "source": [
        "model_2.summary()"
      ],
      "metadata": {
        "colab": {
          "base_uri": "https://localhost:8080/"
        },
        "id": "fpxdOpBRzaXp",
        "outputId": "3d3fb0a2-65f8-4307-962a-3f7111e4fc23"
      },
      "execution_count": 33,
      "outputs": [
        {
          "output_type": "stream",
          "name": "stdout",
          "text": [
            "Model: \"sequential_1\"\n",
            "_________________________________________________________________\n",
            " Layer (type)                Output Shape              Param #   \n",
            "=================================================================\n",
            " dense_layer (Dense)         (None, 128)               100480    \n",
            "                                                                 \n",
            " dropout (Dropout)           (None, 128)               0         \n",
            "                                                                 \n",
            " dense_layer_2 (Dense)       (None, 128)               16512     \n",
            "                                                                 \n",
            " dropout_1 (Dropout)         (None, 128)               0         \n",
            "                                                                 \n",
            " dense_layer_3 (Dense)       (None, 10)                1290      \n",
            "                                                                 \n",
            "=================================================================\n",
            "Total params: 118282 (462.04 KB)\n",
            "Trainable params: 118282 (462.04 KB)\n",
            "Non-trainable params: 0 (0.00 Byte)\n",
            "_________________________________________________________________\n"
          ]
        }
      ]
    },
    {
      "cell_type": "code",
      "source": [
        "model_2.weights"
      ],
      "metadata": {
        "colab": {
          "base_uri": "https://localhost:8080/"
        },
        "id": "l3PLwpOC0La7",
        "outputId": "15285bd7-3e5d-49ff-ab2b-f13a1a26bb9c"
      },
      "execution_count": 34,
      "outputs": [
        {
          "output_type": "execute_result",
          "data": {
            "text/plain": [
              "[<tf.Variable 'dense_layer/kernel:0' shape=(784, 128) dtype=float32, numpy=\n",
              " array([[-0.03763357, -0.02967321, -0.05704698, ..., -0.05716342,\n",
              "         -0.01004221,  0.04822219],\n",
              "        [ 0.07620499,  0.04504975, -0.0078808 , ...,  0.01791595,\n",
              "          0.08013693,  0.05954856],\n",
              "        [ 0.06055   ,  0.03968776, -0.07122638, ..., -0.04611413,\n",
              "          0.00383809,  0.02677558],\n",
              "        ...,\n",
              "        [-0.06848659, -0.07976911,  0.00940648, ...,  0.03837703,\n",
              "          0.00433932,  0.05737337],\n",
              "        [ 0.01285076, -0.04955764,  0.06941123, ...,  0.07157167,\n",
              "          0.00241464, -0.03145651],\n",
              "        [ 0.0076728 ,  0.06779341,  0.044521  , ...,  0.00140982,\n",
              "          0.0598296 ,  0.0101784 ]], dtype=float32)>,\n",
              " <tf.Variable 'dense_layer/bias:0' shape=(128,) dtype=float32, numpy=\n",
              " array([-0.083843  , -0.0114522 , -0.04901008,  0.07201925, -0.04155479,\n",
              "         0.02174373,  0.08990559, -0.08325162, -0.00078588,  0.07123784,\n",
              "         0.07330935,  0.01708767,  0.00204278,  0.0471178 , -0.04179632,\n",
              "        -0.02799698, -0.02861708,  0.09509225,  0.15992686,  0.08020826,\n",
              "        -0.03838023, -0.00321226,  0.13963418, -0.07240152, -0.03745066,\n",
              "         0.01159453,  0.05716746,  0.1280466 , -0.05174719,  0.08743995,\n",
              "         0.00287351,  0.03503544,  0.05895925,  0.00859236, -0.04831462,\n",
              "         0.00050207,  0.04039925, -0.05661548, -0.0921208 ,  0.0378069 ,\n",
              "         0.02064254, -0.01406257, -0.03807038, -0.14504334, -0.04709959,\n",
              "         0.03261125, -0.0876562 , -0.14104702, -0.17400955, -0.03209324,\n",
              "        -0.11265364,  0.12872745,  0.01331531,  0.06249561, -0.0017272 ,\n",
              "        -0.1365704 , -0.07115027,  0.01612267,  0.07441586,  0.07454364,\n",
              "        -0.02801169,  0.06354424,  0.05225323, -0.03706304,  0.09913296,\n",
              "        -0.10380703, -0.05844504, -0.04274495, -0.06209605,  0.14901787,\n",
              "        -0.00676938,  0.00114186,  0.0455667 ,  0.01753519, -0.00915862,\n",
              "         0.00913798, -0.05531036,  0.05564931, -0.00928744, -0.03574701,\n",
              "         0.0573765 , -0.01415023,  0.0297201 ,  0.15006037,  0.00029174,\n",
              "        -0.0477658 , -0.03587317,  0.10327517,  0.12336522,  0.0308513 ,\n",
              "        -0.088156  , -0.01306155,  0.06730089,  0.10483029, -0.14842616,\n",
              "         0.04855934,  0.15536205,  0.07600515,  0.06912924, -0.1032747 ,\n",
              "         0.08314653, -0.06204368, -0.06732988,  0.15137632,  0.04787054,\n",
              "         0.09458473, -0.10767289,  0.06009683,  0.05107022,  0.06076869,\n",
              "        -0.02970283,  0.07841392,  0.0247229 , -0.05119338,  0.03103446,\n",
              "        -0.03087965,  0.07483154,  0.03537824, -0.03441195, -0.00302496,\n",
              "        -0.05544399, -0.02634737, -0.02465492,  0.15578625,  0.01740694,\n",
              "         0.0227225 ,  0.04430834, -0.00439373], dtype=float32)>,\n",
              " <tf.Variable 'dense_layer_2/kernel:0' shape=(128, 128) dtype=float32, numpy=\n",
              " array([[-0.13625392,  0.11433651,  0.01761476, ..., -0.02446168,\n",
              "         -0.13950059,  0.21551722],\n",
              "        [ 0.06841914,  0.13097127,  0.14944617, ..., -0.0557171 ,\n",
              "         -0.06982121,  0.09609071],\n",
              "        [ 0.07829902, -0.01766143, -0.00114839, ..., -0.04390959,\n",
              "         -0.01690667, -0.07472105],\n",
              "        ...,\n",
              "        [-0.09866315, -0.00722803, -0.10280483, ..., -0.04599836,\n",
              "          0.12479619, -0.03979814],\n",
              "        [-0.03660125,  0.07683966,  0.02126259, ..., -0.11383484,\n",
              "          0.07752924,  0.02401194],\n",
              "        [-0.05529201,  0.06577449,  0.04644762, ..., -0.14332701,\n",
              "          0.11348524,  0.10919757]], dtype=float32)>,\n",
              " <tf.Variable 'dense_layer_2/bias:0' shape=(128,) dtype=float32, numpy=\n",
              " array([ 0.02893275,  0.10467044,  0.03563895,  0.07221601, -0.00715597,\n",
              "        -0.02006085,  0.09135704,  0.00207417,  0.07018623,  0.08690695,\n",
              "         0.09434728,  0.05383355, -0.00384138,  0.04964947,  0.00031734,\n",
              "         0.07014692, -0.0002267 ,  0.07685117,  0.1170832 ,  0.08580606,\n",
              "        -0.00474222, -0.00287926,  0.03819561, -0.01079228,  0.07564693,\n",
              "         0.02684349,  0.03582169,  0.06865317,  0.02267337,  0.04538122,\n",
              "         0.10469659, -0.00415976,  0.01874643,  0.01393588,  0.14056575,\n",
              "         0.05466795,  0.08736498,  0.13425127,  0.05253153,  0.09905864,\n",
              "         0.10595842,  0.06821739,  0.05167741,  0.03252613,  0.01078289,\n",
              "         0.06623086, -0.04160455,  0.05997843,  0.0434952 ,  0.03807859,\n",
              "         0.08897112,  0.05185578,  0.08048248,  0.02155834, -0.00724402,\n",
              "         0.08361417,  0.00323157,  0.04086918,  0.10247048,  0.0140274 ,\n",
              "         0.15248443,  0.10672604,  0.05482218,  0.03595774,  0.05014424,\n",
              "         0.10559364,  0.11589724,  0.01900207,  0.04185444,  0.11265341,\n",
              "         0.04564514,  0.08436588,  0.04663386,  0.00682449,  0.1243275 ,\n",
              "         0.00458351,  0.03382331,  0.11283073,  0.03175987,  0.03615783,\n",
              "         0.0621849 ,  0.09282913,  0.08060453,  0.11943492,  0.01284404,\n",
              "         0.07788979, -0.01158264,  0.0226809 ,  0.12454604,  0.05727255,\n",
              "         0.05495245,  0.03852209,  0.04402639,  0.04668194, -0.01580816,\n",
              "         0.020447  ,  0.06411505,  0.09536273,  0.01262645,  0.03311205,\n",
              "         0.06147914,  0.0338845 ,  0.05093876,  0.10273849,  0.03413013,\n",
              "         0.02338839,  0.05488112,  0.0190095 ,  0.08868057,  0.11566906,\n",
              "         0.135059  ,  0.09913342,  0.14156125,  0.10208981,  0.06566659,\n",
              "         0.01949367,  0.04176532,  0.02279935,  0.12793203,  0.02333775,\n",
              "         0.09046191,  0.04671603,  0.03472032,  0.03602859,  0.05796284,\n",
              "         0.05222017,  0.00283741,  0.05090695], dtype=float32)>,\n",
              " <tf.Variable 'dense_layer_3/kernel:0' shape=(128, 10) dtype=float32, numpy=\n",
              " array([[ 0.29200098,  0.05160507,  0.06876369, ...,  0.11613191,\n",
              "         -0.16418074, -0.12689486],\n",
              "        [ 0.03221735, -0.13295108, -0.19841978, ...,  0.17136951,\n",
              "         -0.30174252,  0.18598847],\n",
              "        [-0.05517421,  0.22949317, -0.22223553, ..., -0.0984792 ,\n",
              "         -0.01561993,  0.00477076],\n",
              "        ...,\n",
              "        [-0.12384499,  0.19172674, -0.13661969, ...,  0.08379775,\n",
              "          0.08032899, -0.10670909],\n",
              "        [-0.04189201,  0.19522662,  0.25047866, ..., -0.17715591,\n",
              "         -0.36406502, -0.23958828],\n",
              "        [-0.36365053,  0.2035932 , -0.14119983, ..., -0.04637829,\n",
              "         -0.3198592 ,  0.23850045]], dtype=float32)>,\n",
              " <tf.Variable 'dense_layer_3/bias:0' shape=(10,) dtype=float32, numpy=\n",
              " array([-0.15451682,  0.06073648, -0.08368859, -0.12498409,  0.08869004,\n",
              "         0.08394177, -0.0275054 , -0.02762909,  0.12812762,  0.05682898],\n",
              "       dtype=float32)>]"
            ]
          },
          "metadata": {},
          "execution_count": 34
        }
      ]
    },
    {
      "cell_type": "code",
      "source": [
        "model_3 = tf.keras.Sequential()\n",
        "N_hidden = 64"
      ],
      "metadata": {
        "id": "jpAHz_b10Lea"
      },
      "execution_count": 42,
      "outputs": []
    },
    {
      "cell_type": "code",
      "source": [
        "model_3.add(Dense (N_hidden, name='dense_layer', input_shape=(784,), activation = 'relu'))"
      ],
      "metadata": {
        "id": "l_H4Wyomx9k_"
      },
      "execution_count": 43,
      "outputs": []
    },
    {
      "cell_type": "code",
      "source": [
        "model_3.add(Dropout(0.3))"
      ],
      "metadata": {
        "id": "ory8qCEC1JM4"
      },
      "execution_count": 44,
      "outputs": []
    },
    {
      "cell_type": "code",
      "source": [
        "model_3.add(Dense (N_hidden, name='dense_layer_2', activation='relu'))"
      ],
      "metadata": {
        "id": "2Px6bLMj09_j"
      },
      "execution_count": 45,
      "outputs": []
    },
    {
      "cell_type": "code",
      "source": [
        "model_3.add(Dropout(0.3))"
      ],
      "metadata": {
        "id": "XDRNwQIM1Pb8"
      },
      "execution_count": 46,
      "outputs": []
    },
    {
      "cell_type": "code",
      "source": [
        "model_3.add(Dense (10, name='dense_layer_3', activation = 'softmax'))"
      ],
      "metadata": {
        "id": "X_zKL0ZT1RgL"
      },
      "execution_count": 47,
      "outputs": []
    },
    {
      "cell_type": "code",
      "source": [
        "model_3.compile(optimizer='Adam', loss='categorical_crossentropy', metrics=['accuracy'])"
      ],
      "metadata": {
        "id": "uIHU-N6t1UGs"
      },
      "execution_count": 48,
      "outputs": []
    },
    {
      "cell_type": "code",
      "source": [
        "training = model_3.fit(X_train, Y_train, batch_size=128, epochs=20, validation_split=0.2)"
      ],
      "metadata": {
        "colab": {
          "base_uri": "https://localhost:8080/"
        },
        "id": "t9IhHl_41kWY",
        "outputId": "be35b4d6-3ea6-404e-ee76-c543d617b928"
      },
      "execution_count": 49,
      "outputs": [
        {
          "output_type": "stream",
          "name": "stdout",
          "text": [
            "Epoch 1/20\n",
            "375/375 [==============================] - 3s 4ms/step - loss: 0.7086 - accuracy: 0.7810 - val_loss: 0.2378 - val_accuracy: 0.9308\n",
            "Epoch 2/20\n",
            "375/375 [==============================] - 1s 3ms/step - loss: 0.3439 - accuracy: 0.9000 - val_loss: 0.1772 - val_accuracy: 0.9471\n",
            "Epoch 3/20\n",
            "375/375 [==============================] - 1s 4ms/step - loss: 0.2772 - accuracy: 0.9193 - val_loss: 0.1535 - val_accuracy: 0.9554\n",
            "Epoch 4/20\n",
            "375/375 [==============================] - 1s 4ms/step - loss: 0.2386 - accuracy: 0.9297 - val_loss: 0.1326 - val_accuracy: 0.9605\n",
            "Epoch 5/20\n",
            "375/375 [==============================] - 2s 4ms/step - loss: 0.2118 - accuracy: 0.9382 - val_loss: 0.1250 - val_accuracy: 0.9632\n",
            "Epoch 6/20\n",
            "375/375 [==============================] - 2s 4ms/step - loss: 0.1983 - accuracy: 0.9412 - val_loss: 0.1167 - val_accuracy: 0.9644\n",
            "Epoch 7/20\n",
            "375/375 [==============================] - 1s 4ms/step - loss: 0.1822 - accuracy: 0.9454 - val_loss: 0.1162 - val_accuracy: 0.9658\n",
            "Epoch 8/20\n",
            "375/375 [==============================] - 1s 3ms/step - loss: 0.1711 - accuracy: 0.9486 - val_loss: 0.1119 - val_accuracy: 0.9682\n",
            "Epoch 9/20\n",
            "375/375 [==============================] - 1s 3ms/step - loss: 0.1620 - accuracy: 0.9515 - val_loss: 0.1111 - val_accuracy: 0.9665\n",
            "Epoch 10/20\n",
            "375/375 [==============================] - 1s 4ms/step - loss: 0.1546 - accuracy: 0.9531 - val_loss: 0.1066 - val_accuracy: 0.9683\n",
            "Epoch 11/20\n",
            "375/375 [==============================] - 1s 3ms/step - loss: 0.1498 - accuracy: 0.9549 - val_loss: 0.1037 - val_accuracy: 0.9706\n",
            "Epoch 12/20\n",
            "375/375 [==============================] - 1s 4ms/step - loss: 0.1441 - accuracy: 0.9562 - val_loss: 0.1007 - val_accuracy: 0.9706\n",
            "Epoch 13/20\n",
            "375/375 [==============================] - 1s 3ms/step - loss: 0.1427 - accuracy: 0.9569 - val_loss: 0.1022 - val_accuracy: 0.9701\n",
            "Epoch 14/20\n",
            "375/375 [==============================] - 2s 5ms/step - loss: 0.1338 - accuracy: 0.9596 - val_loss: 0.1044 - val_accuracy: 0.9706\n",
            "Epoch 15/20\n",
            "375/375 [==============================] - 1s 4ms/step - loss: 0.1285 - accuracy: 0.9608 - val_loss: 0.0962 - val_accuracy: 0.9725\n",
            "Epoch 16/20\n",
            "375/375 [==============================] - 1s 4ms/step - loss: 0.1267 - accuracy: 0.9607 - val_loss: 0.0984 - val_accuracy: 0.9726\n",
            "Epoch 17/20\n",
            "375/375 [==============================] - 1s 4ms/step - loss: 0.1213 - accuracy: 0.9626 - val_loss: 0.0986 - val_accuracy: 0.9733\n",
            "Epoch 18/20\n",
            "375/375 [==============================] - 1s 3ms/step - loss: 0.1216 - accuracy: 0.9634 - val_loss: 0.0958 - val_accuracy: 0.9728\n",
            "Epoch 19/20\n",
            "375/375 [==============================] - 1s 3ms/step - loss: 0.1165 - accuracy: 0.9640 - val_loss: 0.0989 - val_accuracy: 0.9718\n",
            "Epoch 20/20\n",
            "375/375 [==============================] - 1s 4ms/step - loss: 0.1162 - accuracy: 0.9641 - val_loss: 0.0985 - val_accuracy: 0.9732\n"
          ]
        }
      ]
    },
    {
      "cell_type": "code",
      "source": [
        "print(training.history.keys())"
      ],
      "metadata": {
        "colab": {
          "base_uri": "https://localhost:8080/"
        },
        "id": "bP2D_9hs1sdH",
        "outputId": "f0e362ba-c8ee-4282-f0ef-05ac31268958"
      },
      "execution_count": 50,
      "outputs": [
        {
          "output_type": "stream",
          "name": "stdout",
          "text": [
            "dict_keys(['loss', 'accuracy', 'val_loss', 'val_accuracy'])\n"
          ]
        }
      ]
    },
    {
      "cell_type": "code",
      "source": [
        "plt.plot(training.history['accuracy'])\n",
        "plt.plot(training.history['val_accuracy'])\n",
        "plt.title('model accuracy')\n",
        "plt.ylabel('accuracy')\n",
        "plt.xlabel('epoch')\n",
        "plt.legend(['train', 'test'], loc='upper left')\n",
        "plt.show()"
      ],
      "metadata": {
        "colab": {
          "base_uri": "https://localhost:8080/",
          "height": 472
        },
        "id": "7fYIov2V2KoL",
        "outputId": "807016ef-8eaf-4072-96b9-3971eb4a95c0"
      },
      "execution_count": 51,
      "outputs": [
        {
          "output_type": "display_data",
          "data": {
            "text/plain": [
              "<Figure size 640x480 with 1 Axes>"
            ],
            "image/png": "[encoded data removed]"
          },
          "metadata": {}
        }
      ]
    },
    {
      "cell_type": "code",
      "source": [
        "plt.plot(training.history['loss'])\n",
        "plt.plot(training.history['val_loss'])\n",
        "plt.title('model loss')\n",
        "plt.ylabel('loss')\n",
        "plt.xlabel('epoch')\n",
        "plt.legend(['train', 'test'], loc='upper left')\n",
        "plt.show()"
      ],
      "metadata": {
        "colab": {
          "base_uri": "https://localhost:8080/",
          "height": 472
        },
        "id": "mSFzdF682OoL",
        "outputId": "74d465bf-db6c-4e80-ebb8-e7df6bdd503d"
      },
      "execution_count": 52,
      "outputs": [
        {
          "output_type": "display_data",
          "data": {
            "text/plain": [
              "<Figure size 640x480 with 1 Axes>"
            ],
            "image/png": "[encoded data removed]"
          },
          "metadata": {}
        }
      ]
    },
    {
      "cell_type": "code",
      "source": [
        "test_loss, test_acc = model_3.evaluate(X_test, Y_test)\n",
        "print('Test accuracy:', test_acc)"
      ],
      "metadata": {
        "colab": {
          "base_uri": "https://localhost:8080/"
        },
        "id": "8S7r8n1A2Sxq",
        "outputId": "9de2b8b5-67fa-4b32-a847-62947ee587a6"
      },
      "execution_count": 53,
      "outputs": [
        {
          "output_type": "stream",
          "name": "stdout",
          "text": [
            "313/313 [==============================] - 1s 2ms/step - loss: 0.0960 - accuracy: 0.9729\n",
            "Test accuracy: 0.9728999733924866\n"
          ]
        }
      ]
    },
    {
      "cell_type": "code",
      "source": [
        "model_3.summary()"
      ],
      "metadata": {
        "colab": {
          "base_uri": "https://localhost:8080/"
        },
        "id": "vXhjcOkr2bCJ",
        "outputId": "b14dafd5-3bdd-4fc1-d114-63e1c2294ad1"
      },
      "execution_count": 56,
      "outputs": [
        {
          "output_type": "stream",
          "name": "stdout",
          "text": [
            "Model: \"sequential_3\"\n",
            "_________________________________________________________________\n",
            " Layer (type)                Output Shape              Param #   \n",
            "=================================================================\n",
            " dense_layer (Dense)         (None, 64)                50240     \n",
            "                                                                 \n",
            " dropout_5 (Dropout)         (None, 64)                0         \n",
            "                                                                 \n",
            " dense_layer_2 (Dense)       (None, 64)                4160      \n",
            "                                                                 \n",
            " dropout_6 (Dropout)         (None, 64)                0         \n",
            "                                                                 \n",
            " dense_layer_3 (Dense)       (None, 10)                650       \n",
            "                                                                 \n",
            "=================================================================\n",
            "Total params: 55050 (215.04 KB)\n",
            "Trainable params: 55050 (215.04 KB)\n",
            "Non-trainable params: 0 (0.00 Byte)\n",
            "_________________________________________________________________\n"
          ]
        }
      ]
    },
    {
      "cell_type": "code",
      "source": [
        "model_3.weights"
      ],
      "metadata": {
        "colab": {
          "base_uri": "https://localhost:8080/"
        },
        "id": "VLyo9KHJ2bEe",
        "outputId": "bc5ecdd6-3447-43cd-9a24-da1dc6a2eed4"
      },
      "execution_count": 55,
      "outputs": [
        {
          "output_type": "execute_result",
          "data": {
            "text/plain": [
              "[<tf.Variable 'dense_layer/kernel:0' shape=(784, 64) dtype=float32, numpy=\n",
              " array([[-0.06267823, -0.08118621, -0.03012017, ..., -0.0610993 ,\n",
              "          0.04585799,  0.07390522],\n",
              "        [ 0.03727693, -0.01641568,  0.02977771, ..., -0.01366659,\n",
              "          0.02098943, -0.05976223],\n",
              "        [ 0.07640568, -0.06487722,  0.0742742 , ..., -0.08358516,\n",
              "         -0.00021737,  0.08346523],\n",
              "        ...,\n",
              "        [ 0.01451523,  0.04547799,  0.05357718, ..., -0.03467184,\n",
              "          0.07977694, -0.07186066],\n",
              "        [ 0.00213972,  0.03148942, -0.06824279, ...,  0.06985437,\n",
              "          0.05199786,  0.02642598],\n",
              "        [-0.00167068, -0.07563891, -0.00072625, ..., -0.0548974 ,\n",
              "          0.02734844, -0.05012238]], dtype=float32)>,\n",
              " <tf.Variable 'dense_layer/bias:0' shape=(64,) dtype=float32, numpy=\n",
              " array([-9.81056243e-02,  6.29633814e-02,  4.27554063e-02, -1.08886890e-01,\n",
              "        -6.03034608e-02,  1.25756010e-01, -4.06208068e-01, -1.08343307e-02,\n",
              "         2.00612284e-03, -3.25407535e-02,  1.24385193e-01,  1.21300399e-01,\n",
              "        -1.41621277e-01, -7.97114149e-03, -2.60486513e-01,  1.08296879e-01,\n",
              "         1.37655377e-01,  1.59662560e-01, -1.29205331e-01, -5.29593602e-02,\n",
              "         1.78492874e-01,  1.72891274e-01,  6.08267933e-02, -4.21105027e-02,\n",
              "        -2.47607958e-02, -1.01058282e-01,  3.31960502e-04, -1.97633058e-02,\n",
              "        -1.94768906e-01,  1.09183118e-01, -2.66182780e-01,  8.92231390e-02,\n",
              "         1.51082128e-01, -1.65160358e-01,  1.59128048e-02, -1.75339282e-02,\n",
              "        -2.02027455e-01,  1.77703023e-01, -3.72756630e-01,  1.59285098e-01,\n",
              "        -2.21165493e-02, -1.49369150e-01,  5.72907319e-03,  1.08815156e-01,\n",
              "         3.07347421e-02,  6.61419705e-02, -6.49795728e-03,  2.59980947e-01,\n",
              "         2.84714073e-01,  1.09317109e-01, -3.65211070e-02, -8.31391811e-02,\n",
              "         1.59100145e-01,  2.85629854e-02, -1.02357432e-01,  6.43001422e-02,\n",
              "        -6.36027381e-02, -1.38801590e-01, -2.27826819e-01,  2.06737131e-01,\n",
              "         1.23776317e-01, -8.89976472e-02, -1.62052423e-01,  2.32814267e-01],\n",
              "       dtype=float32)>,\n",
              " <tf.Variable 'dense_layer_2/kernel:0' shape=(64, 64) dtype=float32, numpy=\n",
              " array([[-0.44997457,  0.09079522, -0.89817065, ...,  0.03818236,\n",
              "          0.1441006 ,  0.17655452],\n",
              "        [ 0.15838994, -0.18232958, -0.01239208, ..., -0.04628168,\n",
              "         -0.07041116, -0.03317722],\n",
              "        [ 0.12995142,  0.27426922,  0.03666234, ..., -0.16621785,\n",
              "          0.08434583, -0.09150031],\n",
              "        ...,\n",
              "        [ 0.06615838, -0.16445938,  0.01734457, ..., -0.17485265,\n",
              "         -0.09013516,  0.1636591 ],\n",
              "        [-0.18386315, -0.06193372,  0.06663409, ..., -0.03620621,\n",
              "         -0.07539453,  0.08145585],\n",
              "        [-0.04139767, -0.24298736,  0.31229463, ...,  0.1295354 ,\n",
              "          0.19204678,  0.07129104]], dtype=float32)>,\n",
              " <tf.Variable 'dense_layer_2/bias:0' shape=(64,) dtype=float32, numpy=\n",
              " array([ 0.02995983,  0.21388333,  0.04824042, -0.07595898,  0.05523538,\n",
              "         0.25200936,  0.11079112, -0.05571441,  0.08944061,  0.15395366,\n",
              "         0.333701  , -0.13082619, -0.11673629,  0.19297242, -0.14654545,\n",
              "         0.11854678,  0.07282087,  0.05652259,  0.16896954,  0.21948771,\n",
              "         0.17008263,  0.27878883,  0.19551088,  0.29913867,  0.03400908,\n",
              "        -0.06573788,  0.36334106,  0.04861009, -0.08010852,  0.24523006,\n",
              "         0.18679605,  0.3350893 ,  0.16364568,  0.34721792,  0.30337307,\n",
              "         0.41313985,  0.01509025, -0.12316261, -0.02031013,  0.18401748,\n",
              "         0.00183283,  0.4002614 ,  0.13431773,  0.4094682 ,  0.20783742,\n",
              "        -0.01464801, -0.05754199,  0.12629424,  0.24885668,  0.01206556,\n",
              "         0.27641004, -0.04226646, -0.12118153,  0.16419232,  0.46806353,\n",
              "         0.17802791,  0.364139  ,  0.34559298,  0.09145298,  0.27990174,\n",
              "        -0.03922376, -0.00957741, -0.01077275, -0.00639119], dtype=float32)>,\n",
              " <tf.Variable 'dense_layer_3/kernel:0' shape=(64, 10) dtype=float32, numpy=\n",
              " array([[-5.84179498e-02, -4.25958931e-01,  2.01703504e-01,\n",
              "         -2.39318132e-01, -2.30682015e-01, -4.32585746e-01,\n",
              "          4.43083853e-01,  1.94274589e-01, -1.31902367e-01,\n",
              "         -2.29014102e-02],\n",
              "        [-3.54317188e-01,  1.77710816e-01,  1.39688104e-01,\n",
              "          1.80255622e-01,  1.80889040e-01, -6.78654909e-01,\n",
              "         -3.87177616e-01,  2.08135262e-01,  1.17892042e-01,\n",
              "          2.42778689e-01],\n",
              "        [ 3.70408654e-01, -3.13960463e-01,  1.98607460e-01,\n",
              "         -2.70866007e-01, -8.95455107e-02, -2.28452668e-01,\n",
              "         -4.36721653e-01,  3.05295855e-01, -3.58745337e-01,\n",
              "         -3.35559636e-01],\n",
              "        [-1.70239598e-01, -9.37417448e-02,  2.23649427e-01,\n",
              "         -8.06352347e-02, -1.78041626e-02,  6.60152286e-02,\n",
              "         -5.32234311e-01,  2.04464644e-01, -5.98045528e-01,\n",
              "         -5.96363306e-01],\n",
              "        [-5.47238469e-01, -6.55375779e-01, -3.28050554e-01,\n",
              "          2.74880528e-01, -8.94341096e-02, -1.03645518e-01,\n",
              "         -5.36303282e-01,  2.59454846e-01, -4.55866665e-01,\n",
              "          5.22693276e-01],\n",
              "        [ 2.64396787e-01, -4.29437697e-01, -1.80014879e-01,\n",
              "          3.04490011e-02,  2.82748163e-01,  1.29881606e-01,\n",
              "         -3.91138673e-01,  5.23769483e-03, -2.83156574e-01,\n",
              "          3.45752507e-01],\n",
              "        [ 2.05207780e-01, -4.49191958e-01,  2.09139630e-01,\n",
              "          2.03219905e-01, -2.81425387e-01, -4.02064264e-01,\n",
              "         -6.30214214e-01,  8.49070549e-02,  2.28187561e-01,\n",
              "         -5.59038892e-02],\n",
              "        [-5.46605945e-01, -3.82706195e-01, -2.35251486e-01,\n",
              "          5.55923402e-01, -3.53394479e-01, -4.12524551e-01,\n",
              "         -4.95460898e-01, -1.47586182e-01, -2.48244539e-01,\n",
              "         -1.52076364e-01],\n",
              "        [ 3.82537812e-01, -4.87486839e-01, -2.12380081e-01,\n",
              "         -1.59521103e-01,  2.38118157e-01, -3.15427542e-01,\n",
              "          2.75670171e-01,  2.69047171e-01, -3.24716240e-01,\n",
              "         -2.79277921e-01],\n",
              "        [-1.44114360e-01,  3.88780862e-01, -2.51269817e-01,\n",
              "         -1.91570491e-01,  4.11985338e-01, -3.60255867e-01,\n",
              "         -4.06094849e-01, -5.07365763e-01, -4.36021715e-01,\n",
              "         -2.29844660e-01],\n",
              "        [ 2.48513818e-01,  2.50055403e-01, -4.66495574e-01,\n",
              "         -4.21573132e-01, -2.66968697e-01,  3.57659578e-01,\n",
              "          4.03043658e-01, -3.88822973e-01,  3.82611036e-01,\n",
              "         -4.79932576e-01],\n",
              "        [-5.98347962e-01, -3.86127234e-01,  1.42073452e-01,\n",
              "          2.70508975e-01, -9.35758203e-02,  2.55558014e-01,\n",
              "          1.27880007e-01,  9.57824588e-02, -1.01138696e-01,\n",
              "         -6.45338520e-02],\n",
              "        [-4.11287725e-01,  2.60882884e-01,  3.16790313e-01,\n",
              "          2.84525126e-01, -2.16860056e-01, -4.26253945e-01,\n",
              "         -1.33100435e-01,  3.29575956e-01,  1.06874727e-01,\n",
              "         -4.23733115e-01],\n",
              "        [ 1.75962329e-01, -8.54198039e-01,  1.54955434e-02,\n",
              "         -1.58159956e-01,  1.49167717e-01, -1.84913114e-01,\n",
              "          1.80270076e-01, -5.14218688e-01, -1.01674773e-01,\n",
              "          2.67639488e-01],\n",
              "        [-1.99169189e-01,  2.96370149e-01,  2.86225855e-01,\n",
              "          2.29456231e-01, -5.20272195e-01,  5.05487472e-02,\n",
              "         -7.43856192e-01,  2.93947458e-01, -1.43601388e-01,\n",
              "         -5.69259226e-01],\n",
              "        [-3.93132091e-01, -3.22307795e-01,  5.30241802e-02,\n",
              "         -1.79964066e-01, -8.00341010e-01,  3.23837042e-01,\n",
              "         -3.97178441e-01,  1.82629824e-01, -1.50909439e-01,\n",
              "          2.67443925e-01],\n",
              "        [ 1.35391146e-01, -7.27622584e-03, -4.02124703e-01,\n",
              "         -1.07016608e-01,  1.98202580e-01, -3.34483027e-01,\n",
              "          2.48419747e-01,  2.06240863e-01, -2.99509794e-01,\n",
              "         -6.05419874e-01],\n",
              "        [-3.60728323e-01,  4.77591813e-01,  2.59556562e-01,\n",
              "         -1.28725335e-01, -4.49042879e-02, -1.97334826e-01,\n",
              "          4.56961781e-01, -2.42675200e-01,  1.63814187e-01,\n",
              "         -6.52878284e-02],\n",
              "        [ 2.60655403e-01,  2.97787637e-01, -1.89737573e-01,\n",
              "          1.60685912e-01, -1.21814810e-01,  1.17491797e-01,\n",
              "         -6.48715347e-02, -5.08582175e-01, -3.22387576e-01,\n",
              "         -1.17630124e-01],\n",
              "        [-3.41156691e-01, -3.27111930e-01, -4.08304363e-01,\n",
              "          2.26195291e-01, -2.41806179e-01,  2.09700137e-01,\n",
              "         -5.42089492e-02, -5.96005201e-01,  2.43047699e-01,\n",
              "          1.68933079e-01],\n",
              "        [-3.26660633e-01, -6.59330487e-01,  1.62263155e-01,\n",
              "         -6.70199320e-02,  2.84288049e-01,  1.41639978e-01,\n",
              "         -2.64684379e-01, -3.53865236e-01, -2.75665164e-01,\n",
              "          2.71833569e-01],\n",
              "        [-2.37167582e-01,  4.95242596e-01, -2.26448521e-01,\n",
              "         -4.77914006e-01,  2.32375920e-01,  2.18842134e-01,\n",
              "         -1.80820841e-02, -1.71672851e-01,  3.84056121e-01,\n",
              "         -5.14883161e-01],\n",
              "        [ 1.56798810e-02, -4.74661320e-01, -2.23138541e-01,\n",
              "          4.86861840e-02, -2.36544654e-01, -1.45115361e-01,\n",
              "         -4.94863451e-01,  3.62639815e-01, -5.52977860e-01,\n",
              "          4.57519472e-01],\n",
              "        [-6.40251875e-01,  2.64297247e-01, -5.24404585e-01,\n",
              "          2.52245545e-01, -2.09965736e-01,  2.67554253e-01,\n",
              "          1.33973241e-01, -5.62721670e-01,  2.67340004e-01,\n",
              "          1.39170840e-01],\n",
              "        [-9.64585766e-02,  1.53322872e-02, -5.47066145e-02,\n",
              "         -2.62504905e-01,  3.48563015e-01,  3.04106653e-01,\n",
              "         -4.64746743e-01,  2.59820700e-01, -3.39925736e-01,\n",
              "         -3.22471350e-01],\n",
              "        [-2.26914242e-01, -3.73836637e-01,  2.99398154e-01,\n",
              "          2.52713114e-01,  2.42244959e-01,  3.23907495e-01,\n",
              "         -3.69556725e-01,  4.79467250e-02, -4.52050507e-01,\n",
              "         -2.63974994e-01],\n",
              "        [-3.51974815e-01,  4.81145084e-01, -4.88977760e-01,\n",
              "          1.01307957e-02, -2.51100570e-01, -4.18361843e-01,\n",
              "         -3.84328663e-01,  3.25089127e-01,  3.94563258e-01,\n",
              "         -1.78656802e-01],\n",
              "        [ 2.49095201e-01, -1.70967460e-01,  1.18782811e-01,\n",
              "         -4.36121374e-01,  4.36365977e-02, -4.63083774e-01,\n",
              "          1.89259723e-01, -4.05980825e-01, -2.73704499e-01,\n",
              "          1.22145109e-03],\n",
              "        [-2.51144528e-01, -2.20100775e-01,  2.35591829e-01,\n",
              "         -7.94384349e-03,  2.08134353e-01,  1.46555096e-01,\n",
              "          8.11792687e-02, -4.31305110e-01, -5.08516669e-01,\n",
              "         -2.51970679e-01],\n",
              "        [-2.05012470e-01, -5.08980572e-01, -3.84291172e-01,\n",
              "          2.30720758e-01,  2.03907266e-01,  1.89690843e-01,\n",
              "         -5.54854810e-01,  4.04374450e-02,  1.51429072e-01,\n",
              "          2.36429125e-01],\n",
              "        [ 3.13157588e-01, -1.84568077e-01,  3.41836929e-01,\n",
              "          4.77836952e-02,  4.95204516e-02, -2.74510860e-01,\n",
              "         -3.85837048e-01, -4.46055591e-01,  2.60919154e-01,\n",
              "         -3.15751247e-02],\n",
              "        [-3.07400286e-01, -4.08447415e-01, -2.93713689e-01,\n",
              "         -5.70801556e-01,  2.77645230e-01,  6.12609349e-02,\n",
              "          2.66775519e-01, -4.50483710e-01,  2.50492960e-01,\n",
              "          2.67904490e-01],\n",
              "        [-4.88843143e-01, -3.66132051e-01, -4.26468104e-01,\n",
              "          2.54232585e-01,  1.35791302e-01, -4.37781252e-02,\n",
              "         -5.93226254e-01,  1.63661465e-02,  2.16004789e-01,\n",
              "          5.08839265e-02],\n",
              "        [-3.76507401e-01,  5.02330959e-01, -2.92495757e-01,\n",
              "         -5.72022855e-01,  4.40536857e-01, -4.74143922e-01,\n",
              "         -3.06590259e-01, -1.90447867e-01, -2.87805200e-01,\n",
              "          4.12251651e-01],\n",
              "        [ 1.90857545e-01,  2.39768997e-01,  2.25961491e-01,\n",
              "          1.84264541e-01, -1.02207494e+00,  1.34176642e-01,\n",
              "         -5.68310261e-01,  2.70614207e-01,  2.43751749e-01,\n",
              "          1.22816727e-01],\n",
              "        [-5.75596273e-01,  2.49275342e-01, -3.89500737e-01,\n",
              "          9.12296996e-02,  2.29262844e-01, -5.73960364e-01,\n",
              "         -5.75708508e-01,  2.59482652e-01,  1.70377597e-01,\n",
              "          2.69652128e-01],\n",
              "        [ 2.23967686e-01, -4.86482799e-01, -1.34272322e-01,\n",
              "          1.83366925e-01, -5.63664556e-01,  2.17878476e-01,\n",
              "          2.01016203e-01, -4.39449072e-01, -1.33335084e-01,\n",
              "         -2.77920276e-01],\n",
              "        [ 2.16127083e-01, -9.13598866e-04,  2.51056641e-01,\n",
              "          2.29519174e-01,  8.00063014e-02, -7.88791627e-02,\n",
              "         -5.63820481e-01,  1.63692273e-02, -1.76576212e-01,\n",
              "         -5.96317649e-01],\n",
              "        [-2.70374864e-01,  3.58437151e-01,  2.46652722e-01,\n",
              "         -2.86161508e-02,  2.21790552e-01,  1.79914206e-01,\n",
              "          2.98306912e-01, -9.36525315e-03, -8.58640000e-02,\n",
              "         -8.47570062e-01],\n",
              "        [ 3.97682488e-01, -3.59940946e-01, -8.28678906e-02,\n",
              "         -3.97303104e-01,  9.95507240e-02,  2.89659530e-01,\n",
              "         -7.27873072e-02, -6.93483092e-03, -2.39073455e-01,\n",
              "          4.26062882e-01],\n",
              "        [-3.39334518e-01, -1.81023911e-01,  4.19621617e-01,\n",
              "          1.51282176e-01,  3.41490239e-01, -1.53208196e-01,\n",
              "          9.09676179e-02, -7.10451454e-02,  2.43759066e-01,\n",
              "         -1.55376881e-01],\n",
              "        [ 2.39296556e-01, -5.35000145e-01, -1.79786101e-01,\n",
              "          1.65626884e-01, -4.53735381e-01,  1.48216799e-01,\n",
              "         -2.31859475e-01, -5.01415670e-01,  2.07067594e-01,\n",
              "         -8.06864947e-02],\n",
              "        [-1.34626806e-01, -2.14939252e-01,  2.87551552e-01,\n",
              "          7.83807337e-02,  2.70646542e-01,  9.62181017e-02,\n",
              "          2.58550584e-01, -2.63233364e-01,  3.58909309e-01,\n",
              "         -3.86113614e-01],\n",
              "        [-4.35954422e-01,  1.80080950e-01, -3.10897529e-01,\n",
              "         -5.35433948e-01,  1.36241764e-01,  1.32977694e-01,\n",
              "          7.62492642e-02, -7.53090203e-01,  1.49233103e-01,\n",
              "          1.77651063e-01],\n",
              "        [ 2.94788718e-01, -6.56592906e-01, -6.10399656e-02,\n",
              "         -7.37272799e-02,  2.29224637e-01,  1.85391396e-01,\n",
              "          2.79303759e-01,  2.89431423e-01, -3.32002640e-01,\n",
              "          2.87755549e-01],\n",
              "        [ 3.83879095e-02, -3.81280035e-01,  1.43250450e-01,\n",
              "         -3.09762239e-01,  2.21783474e-01,  3.13078761e-02,\n",
              "          2.85692453e-01,  6.05065748e-02,  2.77123544e-02,\n",
              "         -5.87043881e-01],\n",
              "        [-5.73188424e-01,  3.36745143e-01,  3.46268833e-01,\n",
              "          3.07810932e-01, -3.85946244e-01, -4.39811617e-01,\n",
              "         -3.69137883e-01,  3.18536490e-01,  4.76474129e-02,\n",
              "         -6.58584952e-01],\n",
              "        [ 2.48707086e-01, -2.68342406e-01,  2.02500775e-01,\n",
              "          2.70276636e-01, -3.62644017e-01,  2.73800731e-01,\n",
              "          2.52378523e-01, -6.70341492e-01,  2.30100647e-01,\n",
              "          8.09884071e-02],\n",
              "        [ 1.73857018e-01, -2.22810984e-01,  1.39411137e-01,\n",
              "         -4.49337125e-01,  2.16103792e-01, -4.02253687e-01,\n",
              "          2.59786487e-01, -3.27775925e-01,  1.79381043e-01,\n",
              "         -9.32464004e-02],\n",
              "        [ 3.13614339e-01, -3.31800878e-01, -5.83913960e-02,\n",
              "         -1.56074598e-01, -3.24043274e-01,  2.62986392e-01,\n",
              "          2.56248832e-01,  1.03014074e-01, -4.21492070e-01,\n",
              "         -3.68342310e-01],\n",
              "        [ 1.80633634e-01, -1.02156296e-01,  2.88294256e-01,\n",
              "          2.17470601e-01, -2.98202842e-01, -6.17900431e-01,\n",
              "          6.40437305e-02,  2.78008789e-01,  3.18836600e-01,\n",
              "          2.77590603e-01],\n",
              "        [-3.42921287e-01,  1.81647241e-01,  2.22234711e-01,\n",
              "          1.32795364e-01,  1.92405283e-01, -3.15929681e-01,\n",
              "          1.71637937e-01, -1.09715410e-01, -3.90709370e-01,\n",
              "         -2.53831089e-01],\n",
              "        [-4.56648678e-01,  3.08658600e-01,  2.44210824e-01,\n",
              "          1.83404967e-01, -2.58893639e-01,  1.39904842e-01,\n",
              "         -5.14835596e-01, -2.19902843e-01, -3.59269947e-01,\n",
              "         -3.36946845e-01],\n",
              "        [-3.66779566e-01,  2.94341087e-01,  1.64205894e-01,\n",
              "         -3.52108300e-01, -3.50607097e-01,  2.79113382e-01,\n",
              "          3.03560376e-01, -3.94547462e-01,  2.42047071e-01,\n",
              "         -6.76993251e-01],\n",
              "        [-4.88623708e-01,  2.57453918e-01, -3.04631323e-01,\n",
              "         -1.34709269e-01,  2.70230651e-01, -7.72424489e-02,\n",
              "         -3.80653739e-01,  2.51012713e-01,  1.52188361e-01,\n",
              "          2.52754956e-01],\n",
              "        [-4.17019367e-01,  2.42336079e-01, -2.63440609e-01,\n",
              "          4.25960459e-02,  2.32299298e-01, -2.59253532e-01,\n",
              "         -3.39998066e-01,  2.73233056e-01, -6.41069710e-01,\n",
              "          2.65160084e-01],\n",
              "        [ 2.68643945e-01, -7.44790554e-01,  4.71336357e-02,\n",
              "         -3.47007781e-01, -3.16679031e-01, -1.69785321e-01,\n",
              "         -3.28834265e-01,  1.80643573e-01,  2.59687394e-01,\n",
              "         -1.81944296e-02],\n",
              "        [-1.19810976e-01, -3.99968475e-01, -4.40214276e-01,\n",
              "         -2.88893491e-01,  3.53608400e-01, -1.97273176e-02,\n",
              "         -5.32193519e-02, -1.99242756e-01,  5.79942584e-01,\n",
              "         -1.96264163e-01],\n",
              "        [-7.96266794e-02,  4.71657515e-01, -1.73315242e-01,\n",
              "         -3.98021013e-01, -2.41621956e-01, -2.63067871e-01,\n",
              "          5.24316549e-01, -2.47015849e-01, -1.65601432e-01,\n",
              "         -4.60127652e-01],\n",
              "        [ 2.29368627e-01, -1.62063375e-01,  5.81259429e-02,\n",
              "         -9.34057906e-02, -6.73586965e-01,  1.70090780e-01,\n",
              "          1.73925653e-01, -6.20711923e-01,  1.21945709e-01,\n",
              "         -4.47446078e-01],\n",
              "        [-5.98383009e-01,  2.61227608e-01, -1.15705341e-01,\n",
              "          3.45942140e-01, -2.45459974e-01,  3.48070890e-01,\n",
              "         -5.22584200e-01, -7.13235557e-01, -2.70932794e-01,\n",
              "          2.44069070e-01],\n",
              "        [-2.70709932e-01, -6.21401787e-01, -1.02525175e-01,\n",
              "         -4.04166043e-01,  2.02005774e-01,  3.10820252e-01,\n",
              "          2.49137804e-01,  3.04792494e-01, -6.34921193e-02,\n",
              "         -1.35547593e-01],\n",
              "        [-2.54510529e-02,  2.92234778e-01, -1.90144166e-01,\n",
              "          3.23673457e-01, -2.21765712e-02,  3.50049585e-01,\n",
              "         -4.41123813e-01,  3.23163331e-01, -4.99223918e-01,\n",
              "          2.61486590e-01],\n",
              "        [-4.63092119e-01,  2.98810482e-01,  3.09322387e-01,\n",
              "          3.14412564e-01, -8.92168820e-01,  2.70776927e-01,\n",
              "         -6.00312054e-01,  2.97779262e-01,  2.16607809e-01,\n",
              "         -7.51582608e-02]], dtype=float32)>,\n",
              " <tf.Variable 'dense_layer_3/bias:0' shape=(10,) dtype=float32, numpy=\n",
              " array([ 0.22744276, -0.02647029, -0.3377545 , -0.23469578, -0.09092274,\n",
              "        -0.22785455, -0.0051472 , -0.08695586,  0.41460106,  0.33783886],\n",
              "       dtype=float32)>]"
            ]
          },
          "metadata": {},
          "execution_count": 55
        }
      ]
    },
    {
      "cell_type": "code",
      "source": [
        "model_4 = tf.keras.Sequential()\n",
        "N_hidden = 512"
      ],
      "metadata": {
        "id": "dHMvkbWz2bIC"
      },
      "execution_count": 57,
      "outputs": []
    },
    {
      "cell_type": "code",
      "source": [
        "model_4.add(Dense (N_hidden, name='dense_layer', input_shape=(784,), activation = 'relu'))"
      ],
      "metadata": {
        "id": "8O3tLXPa2veO"
      },
      "execution_count": 58,
      "outputs": []
    },
    {
      "cell_type": "code",
      "source": [
        "model_4.add(Dropout (0.3))"
      ],
      "metadata": {
        "id": "0y9bnSoo3RoZ"
      },
      "execution_count": 59,
      "outputs": []
    },
    {
      "cell_type": "code",
      "source": [
        "model_4.add(Dense (N_hidden, name='dense_layer_2', activation='relu'))"
      ],
      "metadata": {
        "id": "7ZDQZOfl2vgu"
      },
      "execution_count": 60,
      "outputs": []
    },
    {
      "cell_type": "code",
      "source": [
        "model_4.add(Dropout (0.3))"
      ],
      "metadata": {
        "id": "kI4W3Wy82vjt"
      },
      "execution_count": 61,
      "outputs": []
    },
    {
      "cell_type": "code",
      "source": [
        "model_4.add(Dense (10, name='dense_layer_3', activation = 'softmax'))"
      ],
      "metadata": {
        "id": "Y5jCX9xN3do8"
      },
      "execution_count": 62,
      "outputs": []
    },
    {
      "cell_type": "code",
      "source": [
        "model_4.compile(optimizer='Adam', loss='categorical_crossentropy', metrics=['accuracy'])"
      ],
      "metadata": {
        "id": "pW-n-xpQ3eXG"
      },
      "execution_count": 65,
      "outputs": []
    },
    {
      "cell_type": "code",
      "source": [
        "training = model_4.fit(X_train, Y_train, batch_size=128, epochs=31, validation_split=0.2)"
      ],
      "metadata": {
        "colab": {
          "base_uri": "https://localhost:8080/"
        },
        "id": "vn3dIVKP3lE4",
        "outputId": "baf2c4d2-84d9-4bcd-bd15-6340c9fac1fd"
      },
      "execution_count": 66,
      "outputs": [
        {
          "output_type": "stream",
          "name": "stdout",
          "text": [
            "Epoch 1/31\n",
            "375/375 [==============================] - 3s 4ms/step - loss: 0.3043 - accuracy: 0.9072 - val_loss: 0.1301 - val_accuracy: 0.9605\n",
            "Epoch 2/31\n",
            "375/375 [==============================] - 1s 3ms/step - loss: 0.1261 - accuracy: 0.9619 - val_loss: 0.0976 - val_accuracy: 0.9697\n",
            "Epoch 3/31\n",
            "375/375 [==============================] - 1s 4ms/step - loss: 0.0925 - accuracy: 0.9710 - val_loss: 0.0847 - val_accuracy: 0.9747\n",
            "Epoch 4/31\n",
            "375/375 [==============================] - 1s 4ms/step - loss: 0.0743 - accuracy: 0.9775 - val_loss: 0.0884 - val_accuracy: 0.9731\n",
            "Epoch 5/31\n",
            "375/375 [==============================] - 2s 6ms/step - loss: 0.0585 - accuracy: 0.9816 - val_loss: 0.0863 - val_accuracy: 0.9754\n",
            "Epoch 6/31\n",
            "375/375 [==============================] - 2s 6ms/step - loss: 0.0529 - accuracy: 0.9831 - val_loss: 0.0788 - val_accuracy: 0.9778\n",
            "Epoch 7/31\n",
            "375/375 [==============================] - 2s 5ms/step - loss: 0.0453 - accuracy: 0.9853 - val_loss: 0.0801 - val_accuracy: 0.9778\n",
            "Epoch 8/31\n",
            "375/375 [==============================] - 1s 3ms/step - loss: 0.0417 - accuracy: 0.9857 - val_loss: 0.0763 - val_accuracy: 0.9791\n",
            "Epoch 9/31\n",
            "375/375 [==============================] - 1s 4ms/step - loss: 0.0370 - accuracy: 0.9878 - val_loss: 0.0779 - val_accuracy: 0.9793\n",
            "Epoch 10/31\n",
            "375/375 [==============================] - 1s 4ms/step - loss: 0.0352 - accuracy: 0.9880 - val_loss: 0.0919 - val_accuracy: 0.9753\n",
            "Epoch 11/31\n",
            "375/375 [==============================] - 1s 3ms/step - loss: 0.0300 - accuracy: 0.9901 - val_loss: 0.0859 - val_accuracy: 0.9780\n",
            "Epoch 12/31\n",
            "375/375 [==============================] - 1s 3ms/step - loss: 0.0291 - accuracy: 0.9899 - val_loss: 0.0914 - val_accuracy: 0.9783\n",
            "Epoch 13/31\n",
            "375/375 [==============================] - 2s 4ms/step - loss: 0.0303 - accuracy: 0.9899 - val_loss: 0.0873 - val_accuracy: 0.9786\n",
            "Epoch 14/31\n",
            "375/375 [==============================] - 2s 5ms/step - loss: 0.0298 - accuracy: 0.9898 - val_loss: 0.0931 - val_accuracy: 0.9778\n",
            "Epoch 15/31\n",
            "375/375 [==============================] - 1s 4ms/step - loss: 0.0245 - accuracy: 0.9915 - val_loss: 0.0826 - val_accuracy: 0.9807\n",
            "Epoch 16/31\n",
            "375/375 [==============================] - 1s 4ms/step - loss: 0.0233 - accuracy: 0.9925 - val_loss: 0.0865 - val_accuracy: 0.9797\n",
            "Epoch 17/31\n",
            "375/375 [==============================] - 1s 3ms/step - loss: 0.0207 - accuracy: 0.9934 - val_loss: 0.0958 - val_accuracy: 0.9788\n",
            "Epoch 18/31\n",
            "375/375 [==============================] - 1s 3ms/step - loss: 0.0221 - accuracy: 0.9925 - val_loss: 0.0965 - val_accuracy: 0.9798\n",
            "Epoch 19/31\n",
            "375/375 [==============================] - 1s 4ms/step - loss: 0.0215 - accuracy: 0.9930 - val_loss: 0.0921 - val_accuracy: 0.9812\n",
            "Epoch 20/31\n",
            "375/375 [==============================] - 1s 4ms/step - loss: 0.0178 - accuracy: 0.9941 - val_loss: 0.0909 - val_accuracy: 0.9803\n",
            "Epoch 21/31\n",
            "375/375 [==============================] - 1s 4ms/step - loss: 0.0176 - accuracy: 0.9940 - val_loss: 0.1117 - val_accuracy: 0.9786\n",
            "Epoch 22/31\n",
            "375/375 [==============================] - 2s 5ms/step - loss: 0.0263 - accuracy: 0.9916 - val_loss: 0.1016 - val_accuracy: 0.9797\n",
            "Epoch 23/31\n",
            "375/375 [==============================] - 1s 3ms/step - loss: 0.0173 - accuracy: 0.9944 - val_loss: 0.1000 - val_accuracy: 0.9807\n",
            "Epoch 24/31\n",
            "375/375 [==============================] - 1s 4ms/step - loss: 0.0213 - accuracy: 0.9929 - val_loss: 0.0986 - val_accuracy: 0.9805\n",
            "Epoch 25/31\n",
            "375/375 [==============================] - 1s 3ms/step - loss: 0.0162 - accuracy: 0.9947 - val_loss: 0.0985 - val_accuracy: 0.9822\n",
            "Epoch 26/31\n",
            "375/375 [==============================] - 1s 3ms/step - loss: 0.0169 - accuracy: 0.9945 - val_loss: 0.1003 - val_accuracy: 0.9806\n",
            "Epoch 27/31\n",
            "375/375 [==============================] - 1s 3ms/step - loss: 0.0207 - accuracy: 0.9933 - val_loss: 0.0970 - val_accuracy: 0.9809\n",
            "Epoch 28/31\n",
            "375/375 [==============================] - 1s 3ms/step - loss: 0.0171 - accuracy: 0.9941 - val_loss: 0.1080 - val_accuracy: 0.9812\n",
            "Epoch 29/31\n",
            "375/375 [==============================] - 1s 4ms/step - loss: 0.0162 - accuracy: 0.9945 - val_loss: 0.1038 - val_accuracy: 0.9815\n",
            "Epoch 30/31\n",
            "375/375 [==============================] - 2s 4ms/step - loss: 0.0198 - accuracy: 0.9942 - val_loss: 0.1051 - val_accuracy: 0.9815\n",
            "Epoch 31/31\n",
            "375/375 [==============================] - 2s 5ms/step - loss: 0.0161 - accuracy: 0.9949 - val_loss: 0.1064 - val_accuracy: 0.9813\n"
          ]
        }
      ]
    },
    {
      "cell_type": "code",
      "source": [
        "test_loss, test_acc = model_4.evaluate(X_test, Y_test)\n",
        "print('Test accuracy:', test_acc)"
      ],
      "metadata": {
        "colab": {
          "base_uri": "https://localhost:8080/"
        },
        "id": "02j70dqe3lHD",
        "outputId": "c3d0d215-ccbf-4ad9-8a1b-7ef1109f3587"
      },
      "execution_count": 67,
      "outputs": [
        {
          "output_type": "stream",
          "name": "stdout",
          "text": [
            "313/313 [==============================] - 1s 2ms/step - loss: 0.0878 - accuracy: 0.9819\n",
            "Test accuracy: 0.9818999767303467\n"
          ]
        }
      ]
    },
    {
      "cell_type": "code",
      "source": [
        "print(training.history.keys())"
      ],
      "metadata": {
        "colab": {
          "base_uri": "https://localhost:8080/"
        },
        "id": "5BuarT9k3lJm",
        "outputId": "398553a9-ebd2-4b79-f4cd-d2457090809b"
      },
      "execution_count": 68,
      "outputs": [
        {
          "output_type": "stream",
          "name": "stdout",
          "text": [
            "dict_keys(['loss', 'accuracy', 'val_loss', 'val_accuracy'])\n"
          ]
        }
      ]
    },
    {
      "cell_type": "code",
      "source": [
        "plt.plot(training.history['accuracy'])\n",
        "plt.plot(training.history['val_accuracy'])\n",
        "plt.title('model accuracy')\n",
        "plt.ylabel('accuracy')\n",
        "plt.xlabel('epoch')\n",
        "plt.legend(['train', 'test'], loc='upper left')\n",
        "plt.show()"
      ],
      "metadata": {
        "colab": {
          "base_uri": "https://localhost:8080/",
          "height": 472
        },
        "id": "4lAhmg6i3lLO",
        "outputId": "1a5d2ffe-1a89-49ed-d849-8406697a4668"
      },
      "execution_count": 69,
      "outputs": [
        {
          "output_type": "display_data",
          "data": {
            "text/plain": [
              "<Figure size 640x480 with 1 Axes>"
            ],
            "image/png": "[encoded data removed]"
          },
          "metadata": {}
        }
      ]
    },
    {
      "cell_type": "code",
      "source": [
        "plt.plot(training.history['loss'])\n",
        "plt.plot(training.history['val_loss'])\n",
        "plt.title('model loss')\n",
        "plt.ylabel('loss')\n",
        "plt.xlabel('epoch')\n",
        "plt.legend(['train', 'test'], loc='upper left')\n",
        "plt.show()"
      ],
      "metadata": {
        "colab": {
          "base_uri": "https://localhost:8080/",
          "height": 472
        },
        "id": "lpoypnGR7iDn",
        "outputId": "7f1581d1-b89b-44e5-a3db-145e74e57304"
      },
      "execution_count": 70,
      "outputs": [
        {
          "output_type": "display_data",
          "data": {
            "text/plain": [
              "<Figure size 640x480 with 1 Axes>"
            ],
            "image/png": "[encoded data removed]"
          },
          "metadata": {}
        }
      ]
    },
    {
      "cell_type": "code",
      "source": [
        "model_4.summary()"
      ],
      "metadata": {
        "colab": {
          "base_uri": "https://localhost:8080/"
        },
        "id": "d5EeBMSG7iF3",
        "outputId": "dd6cfd3c-2622-4723-866f-be169ad6bac8"
      },
      "execution_count": 73,
      "outputs": [
        {
          "output_type": "stream",
          "name": "stdout",
          "text": [
            "Model: \"sequential_4\"\n",
            "_________________________________________________________________\n",
            " Layer (type)                Output Shape              Param #   \n",
            "=================================================================\n",
            " dense_layer (Dense)         (None, 512)               401920    \n",
            "                                                                 \n",
            " dropout_7 (Dropout)         (None, 512)               0         \n",
            "                                                                 \n",
            " dense_layer_2 (Dense)       (None, 512)               262656    \n",
            "                                                                 \n",
            " dropout_8 (Dropout)         (None, 512)               0         \n",
            "                                                                 \n",
            " dense_layer_3 (Dense)       (None, 10)                5130      \n",
            "                                                                 \n",
            "=================================================================\n",
            "Total params: 669706 (2.55 MB)\n",
            "Trainable params: 669706 (2.55 MB)\n",
            "Non-trainable params: 0 (0.00 Byte)\n",
            "_________________________________________________________________\n"
          ]
        }
      ]
    },
    {
      "cell_type": "code",
      "source": [
        "model_4.weights"
      ],
      "metadata": {
        "colab": {
          "base_uri": "https://localhost:8080/"
        },
        "id": "u79wvqll8EYF",
        "outputId": "aaf49cf7-4dda-49e6-ef86-bbbb083554ca"
      },
      "execution_count": 74,
      "outputs": [
        {
          "output_type": "execute_result",
          "data": {
            "text/plain": [
              "[<tf.Variable 'dense_layer/kernel:0' shape=(784, 512) dtype=float32, numpy=\n",
              " array([[-0.00022309, -0.02937781,  0.05724147, ...,  0.06284802,\n",
              "         -0.04645483, -0.024847  ],\n",
              "        [-0.03194689,  0.03572912,  0.01549602, ..., -0.00092606,\n",
              "          0.01757031,  0.03218033],\n",
              "        [ 0.04181808, -0.04426425,  0.06601734, ..., -0.02979424,\n",
              "         -0.00128922, -0.00737688],\n",
              "        ...,\n",
              "        [-0.05846552, -0.01103409, -0.04217624, ...,  0.06430589,\n",
              "         -0.0158201 ,  0.02173855],\n",
              "        [ 0.06042647, -0.0389515 ,  0.01231793, ..., -0.00343143,\n",
              "         -0.06536228,  0.04307815],\n",
              "        [ 0.0334084 ,  0.0509374 , -0.04772264, ..., -0.01149659,\n",
              "          0.01066954, -0.02509215]], dtype=float32)>,\n",
              " <tf.Variable 'dense_layer/bias:0' shape=(512,) dtype=float32, numpy=\n",
              " array([ 6.64875284e-02, -7.15514272e-02,  2.81967111e-02,  9.11036581e-02,\n",
              "        -4.85546887e-02, -6.03244230e-02, -7.06934109e-02,  1.00049794e-01,\n",
              "        -6.54454827e-02,  4.49353456e-02, -1.23402044e-01, -1.41561767e-02,\n",
              "        -4.37644683e-02, -4.25794832e-02,  4.07882966e-02, -6.87580854e-02,\n",
              "         3.44966352e-02, -4.82948832e-02,  2.72870436e-02,  4.66592461e-02,\n",
              "        -4.90658693e-02,  1.21986112e-02, -8.99763852e-02, -3.59561779e-02,\n",
              "        -2.09507644e-02,  7.73013532e-02, -8.71781632e-02, -2.33513843e-02,\n",
              "        -9.49095935e-02, -1.98261496e-02, -1.82179466e-01, -5.47653697e-02,\n",
              "        -2.28064619e-02, -3.60678136e-02, -1.45884110e-02, -3.50452513e-02,\n",
              "        -8.08776692e-02, -1.10074028e-01,  4.58818004e-02,  5.42320013e-02,\n",
              "        -1.94337312e-02,  1.87243000e-02, -1.92085709e-02, -6.54177070e-02,\n",
              "         8.78845751e-02,  4.29017507e-02, -2.57488282e-05,  4.69945483e-02,\n",
              "        -8.82079303e-02, -8.29359442e-02, -6.06842153e-02, -2.09060628e-02,\n",
              "         1.88947096e-02,  5.53054325e-02, -1.30637258e-01,  4.81424220e-02,\n",
              "         1.38758896e-02, -4.72377613e-02, -6.87898397e-02,  1.70591362e-02,\n",
              "        -7.13692093e-03,  4.43653651e-02, -1.21466098e-02, -9.02126282e-02,\n",
              "         1.06106966e-03, -7.80366734e-03, -8.39552879e-02,  8.32699332e-03,\n",
              "        -8.33674595e-02, -1.53420642e-01, -3.50387804e-02, -6.77296892e-03,\n",
              "        -2.74714082e-02, -1.58310123e-02, -4.10897210e-02, -1.69269536e-02,\n",
              "        -1.02845147e-01,  1.40478332e-02,  1.34152696e-02, -6.90957755e-02,\n",
              "         5.05665652e-02, -9.30774882e-02, -4.13771197e-02, -3.39667313e-02,\n",
              "        -3.84678170e-02, -3.14101838e-02, -5.61608933e-02, -2.98819989e-02,\n",
              "        -8.52887332e-02,  5.94391627e-03, -1.36911690e-01,  6.24213889e-02,\n",
              "        -6.53555570e-03, -2.97412295e-02, -3.83777209e-02,  5.27819544e-02,\n",
              "        -4.13743854e-02, -1.75697599e-02, -4.59984764e-02, -4.13539447e-03,\n",
              "         8.60961061e-03, -6.27259910e-02, -3.72939464e-03,  8.96694791e-03,\n",
              "        -9.83809084e-02, -4.10722047e-02,  1.13360863e-02, -1.33690879e-01,\n",
              "        -4.17784117e-02, -5.59050823e-03, -3.57058533e-02, -6.62389770e-02,\n",
              "         8.51268917e-02,  1.31007272e-03, -6.05810583e-02,  1.01266736e-02,\n",
              "         1.33123413e-01, -1.55446768e-01, -1.88844316e-02, -2.33465414e-02,\n",
              "        -1.11529879e-01, -3.76872160e-02,  5.31546362e-02,  7.78363347e-02,\n",
              "        -3.30006592e-02, -1.99098662e-02, -6.49477169e-02, -5.10652624e-02,\n",
              "        -8.96291435e-03, -3.27555686e-02, -2.89004557e-02, -8.54119211e-02,\n",
              "        -7.86422491e-02, -1.74499191e-02, -8.80541503e-02, -1.10768639e-01,\n",
              "         7.50873908e-02, -1.86155494e-02, -4.46503200e-02, -3.62195969e-02,\n",
              "        -9.72931534e-02,  5.54283382e-03, -5.50902411e-02, -3.13526317e-02,\n",
              "         8.16446915e-02,  3.59740891e-02, -3.35509293e-02,  1.12404369e-01,\n",
              "        -8.11957270e-02, -7.37178400e-02, -1.61338598e-02, -4.53800000e-02,\n",
              "        -2.14160811e-02, -5.02899513e-02, -1.33283108e-01, -1.39553383e-01,\n",
              "        -2.44755130e-02, -6.53618714e-03,  4.39670719e-02,  1.80422515e-02,\n",
              "        -3.44708487e-02, -1.04756974e-01, -1.32121742e-01, -4.18504104e-02,\n",
              "         3.12475543e-02, -6.92616850e-02, -3.34100574e-02, -7.32888207e-02,\n",
              "        -7.86739290e-02,  3.70575227e-02, -4.17468660e-02, -9.25223082e-02,\n",
              "        -3.54861803e-02, -9.90255326e-02,  4.46191877e-02,  6.20677583e-02,\n",
              "        -2.51107779e-03, -2.14013487e-01, -7.57920509e-03,  2.04761997e-02,\n",
              "        -5.59185408e-02, -9.18866768e-02, -1.39739853e-03, -1.02529816e-01,\n",
              "        -4.61219484e-03, -3.66896279e-02,  3.47051658e-02, -3.91515205e-03,\n",
              "         2.63561830e-02, -5.60514852e-02, -1.44363791e-01,  4.53126356e-02,\n",
              "        -1.16440013e-01, -4.08591181e-02,  4.12449203e-02,  1.65921710e-02,\n",
              "        -4.91395481e-02, -4.46431339e-02, -4.58699688e-02, -1.51474804e-01,\n",
              "         3.10290866e-02, -4.02034819e-02,  6.44106269e-02, -1.14795947e-02,\n",
              "        -8.15596581e-02,  2.43948475e-02, -6.55811280e-02, -2.29250714e-02,\n",
              "         5.33740548e-03,  7.17798155e-03, -3.40230986e-02, -9.08856988e-02,\n",
              "         2.09830608e-02, -5.23618013e-02, -7.86269382e-02, -1.49172440e-01,\n",
              "        -8.26585572e-03, -6.31706342e-02, -5.12132384e-02, -3.42492200e-02,\n",
              "        -8.86995718e-02,  4.09454256e-02, -8.39601308e-02, -3.09281293e-02,\n",
              "         2.74380352e-02, -9.86329094e-03, -5.63593069e-03, -5.31588793e-02,\n",
              "        -3.35832834e-02,  7.79015850e-03, -4.48923483e-02, -1.59901083e-02,\n",
              "        -8.70497450e-02,  9.58940201e-03, -4.16374356e-02,  3.15936059e-02,\n",
              "        -1.21530041e-01,  4.70966063e-02, -7.99935777e-03, -7.29655102e-02,\n",
              "        -1.43107846e-01, -5.28137274e-02,  3.66254821e-02,  2.29643974e-02,\n",
              "         2.81612528e-03, -9.13895890e-02, -6.39016256e-02, -1.18952920e-03,\n",
              "        -4.62777391e-02, -7.08609968e-02, -8.76393169e-02, -1.74018770e-01,\n",
              "         6.26675934e-02,  3.10518425e-02, -6.41385764e-02, -7.32921436e-02,\n",
              "        -1.95722142e-03,  1.01090111e-01, -1.46808892e-01, -6.76459447e-02,\n",
              "        -9.24744681e-02, -6.63059279e-02,  3.15073058e-02, -5.26227318e-02,\n",
              "        -6.05676994e-02, -9.85024869e-02, -1.04152774e-02,  1.72247179e-02,\n",
              "        -2.89224144e-02, -4.86103371e-02, -2.79193521e-02,  5.79119194e-03,\n",
              "         3.77940503e-03, -6.20643348e-02, -8.92238244e-02, -1.70588996e-02,\n",
              "        -4.56322432e-02, -1.76254332e-01, -3.00641097e-02, -8.46111402e-02,\n",
              "         3.36832483e-04, -1.69061571e-02, -5.48134744e-02,  4.03543264e-02,\n",
              "        -2.05212142e-02, -9.33631361e-02, -7.24393651e-02, -4.99864519e-02,\n",
              "         6.42260313e-02, -4.23358493e-02, -9.04668197e-02, -9.44513604e-02,\n",
              "         1.75719184e-03, -7.37131462e-02, -2.01507390e-01, -9.33851153e-02,\n",
              "        -3.32094766e-02, -1.20174505e-01, -1.34884655e-01, -4.95878905e-02,\n",
              "         4.14166301e-02,  9.41622555e-02,  5.72418943e-02, -5.24985045e-02,\n",
              "        -1.18139818e-01, -7.00113177e-02,  4.11551591e-04, -6.63644820e-03,\n",
              "        -3.65991630e-02,  2.99535189e-02, -7.19329566e-02, -9.87884328e-02,\n",
              "         9.98442527e-04, -9.07105505e-02,  5.56003340e-02, -8.32590610e-02,\n",
              "        -2.76704282e-02,  3.52841951e-02, -8.98278654e-02, -5.32917231e-02,\n",
              "        -2.60804575e-02, -8.05496424e-02, -2.55551990e-02,  2.52246410e-02,\n",
              "        -1.00717261e-01, -3.60782780e-02, -4.32280079e-02,  7.05267563e-02,\n",
              "         1.20081869e-03, -9.80024561e-02,  3.27263586e-02, -5.69605008e-02,\n",
              "        -6.90734189e-04,  7.86168426e-02, -1.35233715e-01,  3.05594131e-02,\n",
              "         3.16685773e-02, -2.87740473e-02, -6.02161810e-02, -1.54450526e-02,\n",
              "        -8.29338282e-02, -7.39087835e-02, -1.48906717e-02,  9.32325125e-02,\n",
              "         4.29234393e-02, -6.25417009e-02,  1.02002239e-02, -2.55970191e-02,\n",
              "        -6.15062565e-02, -9.50774327e-02, -5.78872822e-02, -3.06316931e-02,\n",
              "         2.52670031e-02,  1.02999084e-01, -1.08080797e-01, -8.47724527e-02,\n",
              "        -8.78787786e-02, -2.81177741e-02, -5.17721362e-02, -1.00699188e-02,\n",
              "        -7.09294006e-02, -4.67336997e-02, -4.48299479e-03, -3.23652402e-02,\n",
              "         6.15753084e-02,  1.53139466e-02, -1.02055624e-01, -4.52722627e-04,\n",
              "        -2.92280409e-02, -1.42705850e-02,  5.13325781e-02, -5.24190664e-02,\n",
              "         1.32268539e-03, -1.44181356e-01,  3.71648604e-03, -8.37880075e-02,\n",
              "         5.66602536e-02, -1.77263152e-02,  5.38495146e-02,  9.20315906e-02,\n",
              "        -3.46966572e-02, -9.62939020e-03, -2.13785376e-02, -5.53213283e-02,\n",
              "        -5.08490838e-02, -7.41661759e-04, -5.87641373e-02, -6.37500808e-02,\n",
              "         3.48978937e-02,  5.37651815e-02, -9.24807489e-02,  1.14002682e-01,\n",
              "        -8.60384032e-02, -4.41423133e-02, -3.41775790e-02, -6.25161752e-02,\n",
              "        -1.31361350e-01,  4.89492863e-02, -7.06983656e-02,  1.24063216e-01,\n",
              "        -2.91067529e-02, -5.27315661e-02, -3.31227928e-02,  8.70795995e-02,\n",
              "        -3.21865566e-02,  1.34388264e-02,  1.59570985e-02,  2.59396737e-03,\n",
              "         8.28442723e-02, -4.48003523e-02, -3.10680876e-03,  7.08563030e-02,\n",
              "         8.98358785e-03, -8.26674923e-02,  7.11509166e-03, -2.87181581e-03,\n",
              "         1.69897527e-02,  3.74684222e-02,  3.36571485e-02, -1.75031438e-01,\n",
              "        -2.03114953e-02,  1.30862892e-02, -8.84247106e-03, -1.19186498e-01,\n",
              "        -1.56105220e-01, -3.00776716e-02, -3.95648591e-02, -6.98641688e-02,\n",
              "         1.11060545e-01,  6.56738952e-02, -4.44517620e-02, -5.46173640e-02,\n",
              "         2.77724806e-02, -5.70570081e-02, -5.43230362e-02,  1.96092594e-02,\n",
              "        -5.77141121e-02, -9.92865264e-02,  2.52273399e-02, -4.38655168e-03,\n",
              "         1.99373588e-02,  2.70919446e-02,  1.80643424e-02, -2.06583008e-01,\n",
              "        -4.32719365e-02,  4.11461815e-02,  7.67184282e-03,  2.95539410e-03,\n",
              "         1.08574377e-02, -9.82793272e-02,  2.89111491e-02,  2.91349571e-02,\n",
              "         2.85225175e-02, -1.21431231e-01,  7.03415181e-03, -1.12458438e-04,\n",
              "        -4.49292921e-02, -1.02250218e-01,  3.96870200e-05, -3.17726880e-02,\n",
              "        -9.82078835e-02, -1.39553696e-02, -9.76016745e-02, -2.62524448e-02,\n",
              "        -1.95605867e-02, -4.13403697e-02,  6.19534999e-02,  4.80107119e-05,\n",
              "        -1.66005924e-01,  2.15225369e-02, -1.18686073e-02, -3.42702568e-02,\n",
              "         7.93384574e-03,  4.75321375e-02, -3.78498845e-02, -5.95484376e-02,\n",
              "        -4.90768924e-02, -7.61429071e-02, -9.51359514e-03,  8.85378644e-02,\n",
              "        -3.85476202e-02, -1.00841999e-01, -1.49089694e-02, -2.67271288e-02,\n",
              "         2.23804004e-02, -6.58670440e-03,  1.94615852e-02, -3.63191925e-02,\n",
              "        -5.01855761e-02, -1.24734133e-01, -3.90521325e-02,  4.07315902e-02,\n",
              "        -1.06237121e-01, -2.09702477e-02, -1.15721121e-01, -1.07909322e-01,\n",
              "         4.03085053e-02,  4.56778109e-02,  2.41512507e-02,  4.52972502e-02,\n",
              "        -7.98280984e-02, -5.55026978e-02, -3.07304878e-02,  3.67915817e-03,\n",
              "        -2.25649178e-02, -3.99073474e-02, -1.11634731e-01, -3.90607975e-02,\n",
              "        -1.32003501e-02, -5.95001541e-02, -1.03076120e-04,  1.01818763e-01],\n",
              "       dtype=float32)>,\n",
              " <tf.Variable 'dense_layer_2/kernel:0' shape=(512, 512) dtype=float32, numpy=\n",
              " array([[ 0.11022509, -0.05757381, -0.10033274, ..., -0.03975544,\n",
              "          0.14946009, -0.00955394],\n",
              "        [-0.00680495, -0.05419446, -0.10346838, ...,  0.10108286,\n",
              "          0.04570359, -0.13700207],\n",
              "        [-0.02386583,  0.02320086,  0.0495319 , ...,  0.14192598,\n",
              "          0.03565552, -0.11861188],\n",
              "        ...,\n",
              "        [-0.09671947, -0.07809788, -0.24875239, ...,  0.03791716,\n",
              "          0.03531506, -0.03509156],\n",
              "        [-0.07459651, -0.08612374,  0.05544443, ...,  0.13510415,\n",
              "          0.11722162, -0.02484071],\n",
              "        [ 0.11578064,  0.13832368, -0.19053067, ...,  0.0584443 ,\n",
              "          0.07334545,  0.08268709]], dtype=float32)>,\n",
              " <tf.Variable 'dense_layer_2/bias:0' shape=(512,) dtype=float32, numpy=\n",
              " array([-6.65485784e-02,  1.21594042e-01,  9.34081003e-02, -1.73863713e-02,\n",
              "        -1.19794376e-01, -1.53016090e-01,  1.36228681e-01, -9.77607071e-02,\n",
              "        -3.97727415e-02,  1.09811162e-03, -3.83965783e-02,  1.18323099e-02,\n",
              "        -1.65591091e-02, -1.82916105e-01, -5.77781573e-02, -9.94335786e-02,\n",
              "        -8.07288587e-02, -7.90824890e-02, -2.88804352e-01,  1.03113778e-01,\n",
              "        -1.20339759e-01,  1.01955473e-01,  7.97430146e-03,  7.52850203e-03,\n",
              "         1.41622737e-01,  2.37258337e-02, -1.19270906e-01,  1.74890816e-01,\n",
              "         1.57062307e-01, -8.32509100e-02,  7.43355155e-02, -7.57757351e-02,\n",
              "         1.16425954e-01,  1.54183343e-01,  6.15032911e-02, -1.05951719e-01,\n",
              "        -1.46753147e-01, -4.82003391e-02,  1.14382364e-01,  1.11962281e-01,\n",
              "         4.91386466e-02,  5.73353954e-02, -8.90621245e-02,  8.09226111e-02,\n",
              "        -1.06713004e-01, -2.58987043e-02, -5.93706034e-02,  1.44955829e-01,\n",
              "        -3.96668017e-02,  7.33035952e-02, -9.69288573e-02, -6.78539798e-02,\n",
              "        -4.73362356e-02, -1.48978541e-02, -1.92723468e-01,  1.84900656e-01,\n",
              "         1.14087947e-01, -1.54148117e-01,  1.47482306e-01, -1.71092331e-01,\n",
              "        -3.45798838e-03,  1.01622164e-01,  1.38166189e-01,  3.07683796e-02,\n",
              "        -3.89898103e-03, -1.09764002e-01, -6.01387806e-02, -1.13768250e-01,\n",
              "        -3.93256694e-02, -9.27252695e-02, -4.76068147e-02, -4.74613421e-02,\n",
              "        -6.52249232e-02,  5.99441342e-02, -2.19805107e-01, -1.58872595e-03,\n",
              "        -1.95992082e-01,  1.16762280e-01, -1.17045633e-01, -9.63420868e-02,\n",
              "         1.50212854e-01,  2.00578839e-01,  1.01671435e-01,  1.06348112e-01,\n",
              "        -1.13006353e-01, -2.85229925e-03, -2.02004090e-01, -5.21327630e-02,\n",
              "        -4.36373875e-02, -7.32312631e-03,  1.54018053e-03,  1.09617978e-01,\n",
              "        -7.77013302e-02, -1.42230153e-01,  6.41477481e-03,  3.39512192e-02,\n",
              "        -9.98890698e-02,  8.16996172e-02, -4.86608297e-02, -3.60748433e-02,\n",
              "        -4.63023670e-02,  1.17022909e-01, -9.05361623e-02, -8.38482287e-03,\n",
              "        -3.54646482e-02, -2.90188249e-02, -5.30259907e-02, -2.95620300e-02,\n",
              "         1.05427861e-01, -4.54329699e-02,  1.62608474e-01, -4.68400344e-02,\n",
              "        -6.62527755e-02, -9.78160426e-02,  3.71228829e-02,  5.16606420e-02,\n",
              "         1.19783022e-01, -1.33431554e-01, -5.16418740e-02, -1.00859359e-01,\n",
              "         1.04406796e-01, -1.08822331e-01, -2.54681390e-02, -1.16029546e-01,\n",
              "        -4.45570331e-03, -9.49523523e-02,  7.24649131e-02,  1.30008489e-01,\n",
              "        -1.44526377e-01,  1.43441975e-01,  4.50315960e-02, -6.28993586e-02,\n",
              "         2.12399274e-01, -1.61164343e-01, -5.65041490e-02,  9.15941074e-02,\n",
              "        -1.05849266e-01,  1.24240015e-02, -3.57090607e-02, -3.35276686e-02,\n",
              "         1.09471522e-01, -3.16981785e-02, -7.99006224e-02, -1.24309607e-01,\n",
              "        -8.13008100e-02,  7.62289241e-02, -1.47490054e-01, -1.09261900e-01,\n",
              "         8.84958804e-02, -1.06558546e-01,  1.81284964e-01,  6.85862303e-02,\n",
              "        -1.40410855e-01,  3.27237253e-03, -6.39576763e-02,  1.35759532e-01,\n",
              "        -1.11536421e-02,  1.13570273e-01, -5.62114492e-02, -1.75858021e-01,\n",
              "        -1.73890457e-01,  7.77107552e-02, -1.10830963e-01,  8.27913135e-02,\n",
              "        -2.60295160e-02,  1.79504842e-01,  1.24890223e-01,  8.94445777e-02,\n",
              "         7.73039684e-02, -7.08756298e-02, -4.19572815e-02, -1.47478327e-01,\n",
              "         7.26643205e-03, -7.66882822e-02,  3.92951109e-02, -9.98226628e-02,\n",
              "        -2.94567961e-02, -5.66510893e-02, -9.25053209e-02, -1.66413888e-01,\n",
              "        -6.37078732e-02, -6.72647208e-02, -1.52253136e-01,  4.44207676e-02,\n",
              "         5.49178105e-03, -8.20506811e-02, -1.73281617e-02, -9.43422839e-02,\n",
              "        -6.29397705e-02, -1.95978835e-01, -6.69933781e-02, -1.64053321e-01,\n",
              "         6.61516339e-02, -1.15839401e-02, -3.97206992e-02, -1.18571341e-01,\n",
              "        -2.03208938e-01, -6.29105195e-02, -1.23680331e-01,  3.87142710e-02,\n",
              "         4.57327329e-02, -1.08734136e-02, -5.00977077e-02, -1.58968493e-01,\n",
              "        -3.63688879e-02, -1.61126435e-01,  3.64330560e-02, -2.68467795e-03,\n",
              "        -2.12300077e-01,  2.21190751e-02, -1.50936499e-01,  3.93084921e-02,\n",
              "         1.02364704e-01, -5.39456196e-02, -2.00391188e-02,  6.79178014e-02,\n",
              "         1.03200682e-01, -4.64239903e-02,  1.85204864e-01,  1.05307907e-01,\n",
              "         4.25618328e-02,  1.81228206e-01, -1.70890406e-01, -5.88850304e-02,\n",
              "        -1.15530647e-01, -7.47141466e-02, -4.63516526e-02, -1.55832171e-01,\n",
              "         6.72167838e-02, -4.18718569e-02,  1.03008552e-02,  9.85800251e-02,\n",
              "        -2.36306787e-01, -4.96221706e-02, -3.59893963e-02, -5.27418889e-02,\n",
              "        -8.46530870e-02, -7.11038187e-02, -3.15366685e-02,  7.51684606e-02,\n",
              "        -2.68529877e-02, -2.20424920e-01, -2.22027987e-01,  5.56991138e-02,\n",
              "         1.56860992e-01,  6.30842447e-02, -1.16005622e-01, -6.64038816e-04,\n",
              "        -2.55584326e-02,  6.62887171e-02, -1.79890424e-01, -1.94014627e-02,\n",
              "         7.13434964e-02, -1.47217214e-01,  6.95068091e-02, -8.48031715e-02,\n",
              "        -1.17628323e-02, -4.31973077e-02,  2.38588341e-02, -1.89677119e-01,\n",
              "        -5.50565198e-02, -1.56057537e-01,  9.94808078e-02,  1.44495174e-01,\n",
              "         1.56668812e-01, -2.17006966e-01, -8.78066793e-02,  6.61437660e-02,\n",
              "        -5.09092622e-02, -7.84598589e-02,  6.46512210e-02,  3.48180048e-02,\n",
              "        -5.33467159e-03, -1.12449974e-01,  2.60133855e-02, -1.80192888e-01,\n",
              "         4.91518863e-02, -1.25182465e-01, -1.53557301e-01, -8.89018252e-02,\n",
              "        -8.61262009e-02,  1.86681896e-02, -1.88964725e-01, -3.01668942e-02,\n",
              "        -9.99218151e-02, -1.60909191e-01,  4.27897647e-02,  4.92524216e-03,\n",
              "        -7.27619380e-02, -6.64641485e-02,  1.49521783e-01,  1.64695218e-01,\n",
              "         2.32251585e-02, -7.96301886e-02, -6.99607134e-02,  1.89866591e-02,\n",
              "         7.69215897e-02,  5.51802292e-02,  4.89649996e-02, -2.62205563e-02,\n",
              "         3.50677073e-02, -7.41108358e-02, -9.00097787e-02,  9.60078184e-03,\n",
              "         5.84651493e-02,  1.85632840e-01,  1.18705451e-01,  1.31803781e-01,\n",
              "        -4.30903339e-04, -2.01224580e-01, -5.05541228e-02,  1.11529008e-01,\n",
              "        -1.26138583e-01, -1.99137554e-01, -1.47561908e-01,  5.68823293e-02,\n",
              "         4.74619344e-02,  6.57606423e-02, -1.79965556e-01,  2.40517873e-02,\n",
              "        -7.70212263e-02, -1.60366088e-01, -5.57919890e-02,  1.17765203e-01,\n",
              "        -8.10689852e-02, -4.97645847e-02, -9.93997306e-02, -1.58049241e-01,\n",
              "        -1.51806667e-01, -1.98292643e-01,  6.30241036e-02,  6.36403263e-02,\n",
              "        -2.10638661e-02,  6.26393333e-02,  1.81950808e-01,  8.30070227e-02,\n",
              "         5.84210530e-02,  5.03873415e-02,  2.52630506e-02, -1.90622974e-02,\n",
              "         4.03315462e-02, -1.97161600e-01, -1.52661130e-01,  1.21797100e-01,\n",
              "        -2.72925030e-02, -1.73976272e-01,  1.78333782e-02, -1.37505052e-03,\n",
              "        -4.80658747e-02, -8.49471055e-03, -2.91919224e-02, -1.12921186e-02,\n",
              "        -5.54091930e-02,  9.46907848e-02, -1.57145083e-01, -3.64842229e-02,\n",
              "         9.80055891e-03,  1.12413965e-01,  1.02156334e-01, -2.03959271e-01,\n",
              "        -3.32663171e-02, -1.12609714e-01, -5.76814711e-02, -8.84723216e-02,\n",
              "         1.12407226e-02, -5.51976636e-02, -5.82926199e-02,  5.50523289e-02,\n",
              "        -1.09498389e-01, -1.74776345e-01, -1.11230992e-01, -4.18308191e-03,\n",
              "         9.43031833e-02, -2.04280406e-01,  3.41742635e-02,  2.30119936e-02,\n",
              "         9.28984582e-02, -1.56974867e-01, -7.68812522e-02, -6.29267395e-02,\n",
              "         3.60639277e-03, -2.04548046e-01, -3.03742196e-03,  1.05965890e-01,\n",
              "         1.91423763e-02, -1.83319282e-02,  1.54434800e-01,  7.21035386e-03,\n",
              "        -1.82548627e-01,  1.77373275e-01, -9.19093000e-05,  1.02680176e-02,\n",
              "        -2.10002556e-01,  1.75481826e-01,  6.63919300e-02, -1.17957950e-01,\n",
              "        -6.23051152e-02,  8.21933895e-03,  9.33917519e-03, -1.80980880e-02,\n",
              "         1.14940554e-02, -7.06270114e-02,  1.06318049e-01, -7.93043673e-02,\n",
              "         1.28635675e-01, -8.54164362e-02, -5.19018918e-02, -6.70651495e-02,\n",
              "         6.97962344e-02, -6.02641664e-02, -9.29167494e-02,  9.94843617e-03,\n",
              "         1.63858496e-02, -1.49092590e-02,  1.63418934e-01, -1.47478459e-02,\n",
              "         3.78080010e-02,  1.47111062e-02, -6.24540523e-02, -1.03118256e-01,\n",
              "        -4.67062294e-02, -1.74080223e-01, -7.14787543e-02, -9.15924832e-02,\n",
              "         1.49042457e-01, -6.77557364e-02,  5.66930510e-02, -1.08561926e-01,\n",
              "         3.33353803e-02, -7.80203640e-02, -1.02245472e-01,  1.52305812e-02,\n",
              "        -5.81529029e-02, -1.13792673e-01, -7.97413811e-02, -6.51211292e-02,\n",
              "         1.84484154e-01, -2.93551572e-02, -6.23061359e-02, -1.59172460e-01,\n",
              "        -1.25130773e-01, -1.27752498e-01, -1.73707739e-01, -6.38474151e-02,\n",
              "         1.31180719e-01, -8.61615986e-02, -7.11119100e-02,  1.65674955e-01,\n",
              "        -5.61158210e-02, -1.54874176e-01,  1.55719504e-01,  1.02671891e-01,\n",
              "        -4.21677344e-02, -1.67113930e-01, -5.05986065e-02, -8.80812109e-03,\n",
              "        -8.90806913e-02,  1.19138779e-02,  2.50851307e-02,  7.44625926e-02,\n",
              "         2.23698691e-01, -1.21612631e-01, -1.53162211e-01,  1.40518233e-01,\n",
              "         1.97631717e-01, -4.09530625e-02,  1.01686880e-01,  8.52888823e-02,\n",
              "        -1.23821199e-01, -5.46708889e-02,  6.52495474e-02,  1.28624573e-01,\n",
              "        -6.19147643e-02,  5.20824455e-02,  1.11256957e-01, -4.63827625e-02,\n",
              "         2.44251832e-01, -5.43688983e-02, -4.77614403e-02,  1.33283451e-01,\n",
              "         1.45105645e-01, -4.99251820e-02, -2.16905147e-01, -3.22133563e-02,\n",
              "         1.55036137e-01,  1.34944335e-01,  5.71391433e-02, -1.46155611e-01,\n",
              "        -1.10357977e-01, -2.04782337e-01, -6.76221699e-02,  1.28582060e-01,\n",
              "        -9.87171009e-02, -4.52773012e-02, -7.85793141e-02, -8.45767781e-02,\n",
              "        -1.74934622e-02,  2.17991292e-01, -6.23116130e-03, -1.18546508e-01,\n",
              "        -4.86201905e-02,  1.04997560e-01, -6.41347393e-02,  1.06191915e-02,\n",
              "         8.84029493e-02, -1.58055633e-01, -3.36320400e-02,  1.59018099e-01,\n",
              "        -1.79143366e-03,  7.07352906e-02, -1.04288772e-01,  9.21933576e-02],\n",
              "       dtype=float32)>,\n",
              " <tf.Variable 'dense_layer_3/kernel:0' shape=(512, 10) dtype=float32, numpy=\n",
              " array([[ 0.11040763, -0.09398057,  0.05351748, ...,  0.08673948,\n",
              "          0.04807679, -0.09209607],\n",
              "        [ 0.13248707,  0.08668626, -0.09241037, ..., -0.02707897,\n",
              "         -0.0561855 ,  0.03033917],\n",
              "        [ 0.17316242, -0.05741168, -0.18068193, ..., -0.08817033,\n",
              "         -0.11902576, -0.05977075],\n",
              "        ...,\n",
              "        [ 0.12175459,  0.00166884, -0.21500967, ..., -0.18648718,\n",
              "          0.08765435,  0.10554187],\n",
              "        [-0.1228084 ,  0.12584987,  0.09553981, ..., -0.08489794,\n",
              "         -0.15243575,  0.08232304],\n",
              "        [ 0.0831255 ,  0.04762037, -0.11940383, ...,  0.09138189,\n",
              "          0.08575368,  0.04501804]], dtype=float32)>,\n",
              " <tf.Variable 'dense_layer_3/bias:0' shape=(10,) dtype=float32, numpy=\n",
              " array([ 0.0353269 , -0.07274748, -0.1246957 , -0.01685254, -0.04824818,\n",
              "        -0.0496034 , -0.1019376 , -0.1504808 ,  0.33402503,  0.07256818],\n",
              "       dtype=float32)>]"
            ]
          },
          "metadata": {},
          "execution_count": 74
        }
      ]
    },
    {
      "cell_type": "code",
      "source": [
        "model_5= tf.keras.Sequential()\n",
        "N_hidden = 512"
      ],
      "metadata": {
        "id": "sc8f_-po8Ebn"
      },
      "execution_count": 75,
      "outputs": []
    },
    {
      "cell_type": "code",
      "source": [
        "model_5.add(Dense (N_hidden, name='dense_layer', input_shape=(784,), activation = 'relu'))"
      ],
      "metadata": {
        "id": "aL1jxH6M8EeV"
      },
      "execution_count": 76,
      "outputs": []
    },
    {
      "cell_type": "code",
      "source": [
        "model_5.add(Dropout(0.3))"
      ],
      "metadata": {
        "id": "dVzXnGOw8Egw"
      },
      "execution_count": 77,
      "outputs": []
    },
    {
      "cell_type": "code",
      "source": [
        "model_5.add(Dense (N_hidden, name='dense_layer_2', activation='relu'))"
      ],
      "metadata": {
        "id": "HqEbxgO-8EjF"
      },
      "execution_count": 78,
      "outputs": []
    },
    {
      "cell_type": "code",
      "source": [
        "model_5.add(Dropout (0.3))"
      ],
      "metadata": {
        "id": "FmDPsgTH8Eld"
      },
      "execution_count": 79,
      "outputs": []
    },
    {
      "cell_type": "code",
      "source": [
        "model_5.add(Dense (10, name='dense_layer_3', activation = 'softmax'))"
      ],
      "metadata": {
        "id": "KWaATwJk8Eni"
      },
      "execution_count": 80,
      "outputs": []
    },
    {
      "cell_type": "code",
      "source": [
        "model_5.compile(optimizer='Adam', loss='categorical_crossentropy', metrics=['accuracy'])"
      ],
      "metadata": {
        "id": "1OpY4o868ErB"
      },
      "execution_count": 81,
      "outputs": []
    },
    {
      "cell_type": "code",
      "source": [
        "training = model_5.fit(X_train, Y_train, batch_size=64, epochs=30, validation_split=0.2)"
      ],
      "metadata": {
        "colab": {
          "base_uri": "https://localhost:8080/"
        },
        "id": "DZFaebYr7iID",
        "outputId": "5bfdb57d-5ff7-481a-d99e-898d04e244e9"
      },
      "execution_count": 82,
      "outputs": [
        {
          "output_type": "stream",
          "name": "stdout",
          "text": [
            "Epoch 1/30\n",
            "750/750 [==============================] - 4s 4ms/step - loss: 0.2696 - accuracy: 0.9177 - val_loss: 0.1245 - val_accuracy: 0.9626\n",
            "Epoch 2/30\n",
            "750/750 [==============================] - 4s 5ms/step - loss: 0.1212 - accuracy: 0.9632 - val_loss: 0.0983 - val_accuracy: 0.9685\n",
            "Epoch 3/30\n",
            "750/750 [==============================] - 3s 3ms/step - loss: 0.0941 - accuracy: 0.9705 - val_loss: 0.0819 - val_accuracy: 0.9758\n",
            "Epoch 4/30\n",
            "750/750 [==============================] - 3s 4ms/step - loss: 0.0735 - accuracy: 0.9774 - val_loss: 0.0799 - val_accuracy: 0.9770\n",
            "Epoch 5/30\n",
            "750/750 [==============================] - 3s 4ms/step - loss: 0.0635 - accuracy: 0.9797 - val_loss: 0.1009 - val_accuracy: 0.9707\n",
            "Epoch 6/30\n",
            "750/750 [==============================] - 3s 4ms/step - loss: 0.0564 - accuracy: 0.9817 - val_loss: 0.0901 - val_accuracy: 0.9747\n",
            "Epoch 7/30\n",
            "750/750 [==============================] - 3s 4ms/step - loss: 0.0513 - accuracy: 0.9838 - val_loss: 0.0851 - val_accuracy: 0.9778\n",
            "Epoch 8/30\n",
            "750/750 [==============================] - 3s 4ms/step - loss: 0.0452 - accuracy: 0.9854 - val_loss: 0.0807 - val_accuracy: 0.9790\n",
            "Epoch 9/30\n",
            "750/750 [==============================] - 5s 6ms/step - loss: 0.0432 - accuracy: 0.9861 - val_loss: 0.0832 - val_accuracy: 0.9787\n",
            "Epoch 10/30\n",
            "750/750 [==============================] - 4s 6ms/step - loss: 0.0406 - accuracy: 0.9863 - val_loss: 0.0943 - val_accuracy: 0.9793\n",
            "Epoch 11/30\n",
            "750/750 [==============================] - 3s 4ms/step - loss: 0.0366 - accuracy: 0.9885 - val_loss: 0.0908 - val_accuracy: 0.9786\n",
            "Epoch 12/30\n",
            "750/750 [==============================] - 3s 4ms/step - loss: 0.0379 - accuracy: 0.9876 - val_loss: 0.0870 - val_accuracy: 0.9793\n",
            "Epoch 13/30\n",
            "750/750 [==============================] - 3s 4ms/step - loss: 0.0332 - accuracy: 0.9891 - val_loss: 0.0917 - val_accuracy: 0.9785\n",
            "Epoch 14/30\n",
            "750/750 [==============================] - 3s 4ms/step - loss: 0.0300 - accuracy: 0.9909 - val_loss: 0.0981 - val_accuracy: 0.9787\n",
            "Epoch 15/30\n",
            "750/750 [==============================] - 3s 3ms/step - loss: 0.0328 - accuracy: 0.9895 - val_loss: 0.0916 - val_accuracy: 0.9794\n",
            "Epoch 16/30\n",
            "750/750 [==============================] - 3s 4ms/step - loss: 0.0290 - accuracy: 0.9905 - val_loss: 0.0959 - val_accuracy: 0.9792\n",
            "Epoch 17/30\n",
            "750/750 [==============================] - 3s 4ms/step - loss: 0.0303 - accuracy: 0.9902 - val_loss: 0.0952 - val_accuracy: 0.9801\n",
            "Epoch 18/30\n",
            "750/750 [==============================] - 3s 4ms/step - loss: 0.0293 - accuracy: 0.9909 - val_loss: 0.0843 - val_accuracy: 0.9814\n",
            "Epoch 19/30\n",
            "750/750 [==============================] - 3s 4ms/step - loss: 0.0270 - accuracy: 0.9915 - val_loss: 0.1074 - val_accuracy: 0.9798\n",
            "Epoch 20/30\n",
            "750/750 [==============================] - 3s 4ms/step - loss: 0.0271 - accuracy: 0.9919 - val_loss: 0.0881 - val_accuracy: 0.9803\n",
            "Epoch 21/30\n",
            "750/750 [==============================] - 4s 5ms/step - loss: 0.0283 - accuracy: 0.9914 - val_loss: 0.0865 - val_accuracy: 0.9822\n",
            "Epoch 22/30\n",
            "750/750 [==============================] - 4s 6ms/step - loss: 0.0229 - accuracy: 0.9930 - val_loss: 0.0912 - val_accuracy: 0.9827\n",
            "Epoch 23/30\n",
            "750/750 [==============================] - 3s 4ms/step - loss: 0.0249 - accuracy: 0.9926 - val_loss: 0.1010 - val_accuracy: 0.9812\n",
            "Epoch 24/30\n",
            "750/750 [==============================] - 3s 4ms/step - loss: 0.0242 - accuracy: 0.9929 - val_loss: 0.1084 - val_accuracy: 0.9803\n",
            "Epoch 25/30\n",
            "750/750 [==============================] - 3s 4ms/step - loss: 0.0265 - accuracy: 0.9920 - val_loss: 0.1031 - val_accuracy: 0.9808\n",
            "Epoch 26/30\n",
            "750/750 [==============================] - 3s 4ms/step - loss: 0.0226 - accuracy: 0.9929 - val_loss: 0.1115 - val_accuracy: 0.9792\n",
            "Epoch 27/30\n",
            "750/750 [==============================] - 3s 4ms/step - loss: 0.0205 - accuracy: 0.9937 - val_loss: 0.1030 - val_accuracy: 0.9804\n",
            "Epoch 28/30\n",
            "750/750 [==============================] - 3s 4ms/step - loss: 0.0222 - accuracy: 0.9931 - val_loss: 0.1019 - val_accuracy: 0.9822\n",
            "Epoch 29/30\n",
            "750/750 [==============================] - 3s 4ms/step - loss: 0.0208 - accuracy: 0.9935 - val_loss: 0.1261 - val_accuracy: 0.9790\n",
            "Epoch 30/30\n",
            "750/750 [==============================] - 3s 4ms/step - loss: 0.0216 - accuracy: 0.9935 - val_loss: 0.1030 - val_accuracy: 0.9831\n"
          ]
        }
      ]
    },
    {
      "cell_type": "code",
      "source": [
        "print(training.history.keys())"
      ],
      "metadata": {
        "colab": {
          "base_uri": "https://localhost:8080/"
        },
        "id": "bpyOzHis7iWl",
        "outputId": "05be65b7-2d6b-44b6-c0c6-dc733bc486e6"
      },
      "execution_count": 83,
      "outputs": [
        {
          "output_type": "stream",
          "name": "stdout",
          "text": [
            "dict_keys(['loss', 'accuracy', 'val_loss', 'val_accuracy'])\n"
          ]
        }
      ]
    },
    {
      "cell_type": "code",
      "source": [
        "plt.plot(training.history['accuracy'])\n",
        "plt.plot(training.history['val_accuracy'])\n",
        "plt.title('model accuracy')\n",
        "plt.ylabel('accuracy')\n",
        "plt.xlabel('epoch')\n",
        "plt.legend(['train', 'test'], loc='upper left')\n",
        "plt.show()"
      ],
      "metadata": {
        "colab": {
          "base_uri": "https://localhost:8080/",
          "height": 472
        },
        "id": "30wRKOZu3lOZ",
        "outputId": "6ee983c2-a62e-477e-cb88-75a7f9651cf7"
      },
      "execution_count": 84,
      "outputs": [
        {
          "output_type": "display_data",
          "data": {
            "text/plain": [
              "<Figure size 640x480 with 1 Axes>"
            ],
            "image/png": "[encoded data removed]"
          },
          "metadata": {}
        }
      ]
    },
    {
      "cell_type": "code",
      "source": [
        "plt.plot(training.history['loss'])\n",
        "plt.plot(training.history['val_loss'])\n",
        "plt.title('model loss')\n",
        "plt.ylabel('loss')\n",
        "plt.xlabel('epoch')\n",
        "plt.legend(['train', 'test'], loc='upper left')\n",
        "plt.show()"
      ],
      "metadata": {
        "colab": {
          "base_uri": "https://localhost:8080/",
          "height": 472
        },
        "id": "-hPdoHsR7t-t",
        "outputId": "4df6e419-cdb6-4973-f427-c55d4bba8350"
      },
      "execution_count": 85,
      "outputs": [
        {
          "output_type": "display_data",
          "data": {
            "text/plain": [
              "<Figure size 640x480 with 1 Axes>"
            ],
            "image/png": "[encoded data removed]"
          },
          "metadata": {}
        }
      ]
    },
    {
      "cell_type": "code",
      "source": [
        "model_5.summary()"
      ],
      "metadata": {
        "colab": {
          "base_uri": "https://localhost:8080/"
        },
        "id": "FV1nphSu7uEa",
        "outputId": "42c5737e-adf7-4d5d-eb27-7b8346ec5c0d"
      },
      "execution_count": 87,
      "outputs": [
        {
          "output_type": "stream",
          "name": "stdout",
          "text": [
            "Model: \"sequential_5\"\n",
            "_________________________________________________________________\n",
            " Layer (type)                Output Shape              Param #   \n",
            "=================================================================\n",
            " dense_layer (Dense)         (None, 512)               401920    \n",
            "                                                                 \n",
            " dropout_9 (Dropout)         (None, 512)               0         \n",
            "                                                                 \n",
            " dense_layer_2 (Dense)       (None, 512)               262656    \n",
            "                                                                 \n",
            " dropout_10 (Dropout)        (None, 512)               0         \n",
            "                                                                 \n",
            " dense_layer_3 (Dense)       (None, 10)                5130      \n",
            "                                                                 \n",
            "=================================================================\n",
            "Total params: 669706 (2.55 MB)\n",
            "Trainable params: 669706 (2.55 MB)\n",
            "Non-trainable params: 0 (0.00 Byte)\n",
            "_________________________________________________________________\n"
          ]
        }
      ]
    },
    {
      "cell_type": "code",
      "source": [
        "model_5.weights"
      ],
      "metadata": {
        "colab": {
          "base_uri": "https://localhost:8080/"
        },
        "id": "bdw42qtF9Dvp",
        "outputId": "c5a747c4-1e48-4825-ab2d-02d78acde478"
      },
      "execution_count": 88,
      "outputs": [
        {
          "output_type": "execute_result",
          "data": {
            "text/plain": [
              "[<tf.Variable 'dense_layer/kernel:0' shape=(784, 512) dtype=float32, numpy=\n",
              " array([[-0.02072208, -0.05148338, -0.01835518, ...,  0.03941897,\n",
              "         -0.03464788,  0.03645946],\n",
              "        [-0.00090373,  0.00682876,  0.05015442, ...,  0.01664332,\n",
              "          0.02090149, -0.06148396],\n",
              "        [-0.02697467, -0.00061087, -0.03373114, ...,  0.0229011 ,\n",
              "          0.01816705,  0.01656936],\n",
              "        ...,\n",
              "        [ 0.0419779 ,  0.0600338 ,  0.057667  , ...,  0.01851646,\n",
              "          0.02869096,  0.05094876],\n",
              "        [-0.05598863, -0.03300938,  0.02834116, ...,  0.01218516,\n",
              "         -0.02682069, -0.06751333],\n",
              "        [-0.00486238, -0.00348488, -0.03629677, ...,  0.03583227,\n",
              "          0.06475651,  0.01098408]], dtype=float32)>,\n",
              " <tf.Variable 'dense_layer/bias:0' shape=(512,) dtype=float32, numpy=\n",
              " array([ 1.64134167e-02, -1.92983881e-01, -8.46973658e-02, -1.44323269e-02,\n",
              "         1.41206970e-02, -2.38958467e-02, -3.95917520e-03, -2.28185896e-02,\n",
              "         2.91502159e-02,  3.07908878e-02, -1.15549549e-01, -6.16987385e-02,\n",
              "        -2.41866452e-03,  2.93680560e-02,  1.37577757e-01,  9.65952575e-02,\n",
              "        -1.51621804e-01,  4.71622078e-03, -5.83666451e-02, -6.12830520e-02,\n",
              "        -2.69241910e-02, -6.45787790e-02, -7.99758881e-02, -1.12780593e-01,\n",
              "         2.80600693e-02, -1.04474999e-01, -1.32304102e-01, -9.92550477e-02,\n",
              "        -1.29121721e-01, -1.08800411e-01, -1.31303027e-01, -2.91300267e-02,\n",
              "         5.27827740e-02, -9.48344991e-02,  6.30312040e-02,  1.08137066e-02,\n",
              "        -1.45596592e-02, -3.99441011e-02,  1.16202328e-02, -3.24405879e-02,\n",
              "        -4.07225229e-02,  2.91121146e-03, -1.03246629e-01, -9.82996672e-02,\n",
              "        -1.26755349e-02,  1.27414152e-01, -1.74894005e-01,  1.98745262e-02,\n",
              "        -6.94568977e-02, -3.78712569e-03,  7.42059499e-02, -7.85047561e-02,\n",
              "        -1.05670020e-01,  8.84000063e-02, -2.33946860e-01, -2.16102645e-01,\n",
              "        -2.47261450e-02,  5.80781465e-03,  4.42368537e-02, -1.04978211e-01,\n",
              "        -6.80085197e-02, -1.33996889e-01, -3.62786874e-02, -8.67326856e-02,\n",
              "        -3.02926973e-02, -6.75640181e-02, -1.67203277e-01, -1.48890451e-01,\n",
              "        -8.34362730e-02, -1.97707593e-01,  8.64672586e-02, -1.92976221e-01,\n",
              "        -2.98716575e-02, -1.57089412e-01, -1.84971735e-01, -6.08392358e-02,\n",
              "        -2.10661113e-01, -1.96185932e-01, -6.93849474e-02, -5.17713800e-02,\n",
              "        -6.23498857e-02,  2.85099559e-02, -1.13607079e-01,  5.84804639e-03,\n",
              "        -1.81325316e-01, -2.66567525e-02, -9.02518779e-02, -7.26174191e-02,\n",
              "        -3.80289881e-03,  8.02283287e-02, -3.32516819e-01, -2.41177771e-02,\n",
              "        -6.92077577e-02,  5.97987249e-02, -6.48921579e-02,  3.28013375e-02,\n",
              "        -8.66965204e-02, -9.23997164e-02,  7.13864863e-02,  5.21226190e-02,\n",
              "         1.48788422e-01, -4.27305289e-02, -1.63140580e-01,  1.34516768e-02,\n",
              "        -5.86108044e-02, -6.56069592e-02,  1.02428654e-02, -2.96253245e-03,\n",
              "        -2.96426043e-02, -1.60257950e-01, -1.99237168e-02, -7.73820654e-02,\n",
              "        -3.37119177e-02, -6.88021779e-02, -7.95298591e-02, -1.09611310e-01,\n",
              "         4.33262140e-02, -1.01144269e-01, -7.18724653e-02, -7.32964650e-02,\n",
              "         2.15753186e-02, -2.77449321e-02, -1.13932855e-01, -1.15836814e-01,\n",
              "        -1.12519823e-01,  2.25687269e-02,  9.82432216e-02, -7.17228130e-02,\n",
              "         6.65147603e-03, -1.36100966e-02, -9.42492485e-02, -1.90841824e-01,\n",
              "        -6.33234605e-02, -4.01828997e-02, -2.13212706e-02, -3.70874964e-02,\n",
              "        -1.17218755e-01, -6.39509037e-02,  3.06780785e-02, -1.33093432e-01,\n",
              "        -4.77884784e-02, -9.72367600e-02, -7.57710338e-02, -1.79604977e-01,\n",
              "        -6.11924902e-02, -3.49235572e-02, -7.40245134e-02, -5.57111166e-02,\n",
              "        -6.79273829e-02, -1.04529774e-02, -1.35326371e-01, -8.07015300e-02,\n",
              "        -8.99460986e-02,  1.83884166e-02,  2.99526956e-02, -6.82029352e-02,\n",
              "        -1.35697141e-01, -9.88577977e-02, -1.24597535e-01,  1.08492086e-02,\n",
              "        -4.57991511e-02,  4.74302508e-02, -8.75365138e-02, -5.34490310e-02,\n",
              "         1.43728396e-02, -2.00418711e-01,  4.76813912e-02,  7.38154203e-02,\n",
              "         9.37271789e-02,  6.78523779e-02, -1.16948664e-01, -7.06651658e-02,\n",
              "        -4.57285531e-02, -3.07900435e-03, -3.98207048e-05,  5.02652079e-02,\n",
              "        -1.26235401e-02, -6.43078536e-02, -3.69979851e-02, -1.24430969e-01,\n",
              "        -1.54413924e-01, -6.82060644e-02, -1.00100085e-01,  7.88868684e-03,\n",
              "         3.10097449e-03, -9.77784097e-02,  3.66951972e-02, -4.43953760e-02,\n",
              "        -1.35787278e-01, -8.72885138e-02, -1.10731177e-01, -2.07330082e-02,\n",
              "         6.54614531e-03, -7.73250014e-02, -7.09457994e-02, -5.71723096e-02,\n",
              "        -1.74975827e-01, -4.82728854e-02, -1.02174848e-01, -2.23453250e-03,\n",
              "        -7.88802281e-02,  1.05618229e-02, -3.14881541e-02, -2.48607527e-02,\n",
              "        -1.31550536e-01, -1.60939284e-02, -1.43873412e-02, -6.77301064e-02,\n",
              "        -5.18684573e-02,  9.05944556e-02, -1.10605091e-01, -2.60581374e-02,\n",
              "        -1.08146109e-01, -1.10661544e-01,  2.25925427e-02, -5.97672013e-04,\n",
              "         1.75881367e-02, -5.21648023e-03, -3.68994400e-02, -3.17290612e-02,\n",
              "        -6.46042032e-03, -1.50013613e-02, -7.26055866e-03, -6.28129691e-02,\n",
              "        -1.14093788e-01, -1.47050545e-01,  3.29447389e-02, -3.68317924e-02,\n",
              "         5.11905961e-02, -1.36826783e-01, -2.44555064e-02,  2.02085704e-01,\n",
              "        -1.57937452e-01, -2.97052544e-02,  2.25644815e-03,  1.12795919e-01,\n",
              "        -4.01510596e-02,  2.06183027e-02, -5.93051389e-02, -1.80504709e-01,\n",
              "         3.36897862e-03,  3.05413827e-02, -1.37555063e-01, -1.85203344e-01,\n",
              "         2.77487133e-02, -8.52089152e-02, -1.24511532e-01, -1.44041568e-01,\n",
              "        -1.34642065e-01, -1.36632785e-01, -1.74042732e-01, -5.95749915e-02,\n",
              "         5.18992618e-02, -1.43409669e-01, -4.38811816e-02, -1.38306290e-01,\n",
              "         6.36611786e-03, -1.32149085e-01, -1.83066204e-01, -2.07806289e-01,\n",
              "         6.75994977e-02,  1.44445136e-01, -1.06792254e-02,  9.75659341e-02,\n",
              "         1.13840066e-01, -9.32191759e-02, -2.71669049e-02, -2.82901768e-02,\n",
              "         5.58601990e-02, -4.71976995e-02,  1.42665356e-01, -8.13259557e-02,\n",
              "        -2.60838792e-02,  8.58135670e-02, -1.43077746e-01, -1.27227440e-01,\n",
              "         1.01182200e-01, -6.63024262e-02,  9.62057412e-02, -5.09130284e-02,\n",
              "         4.63787001e-03, -9.11009163e-02, -2.12305561e-02, -1.81393370e-01,\n",
              "        -8.39131251e-02, -8.12497810e-02, -1.79524899e-01,  2.35334481e-03,\n",
              "         5.65710701e-02,  2.34486926e-02, -1.11785181e-01, -7.65212849e-02,\n",
              "        -8.30260739e-02, -1.33305132e-01, -2.15435214e-02,  3.55996154e-02,\n",
              "         8.99115205e-02,  2.18899474e-02,  1.67978760e-02, -1.94054082e-01,\n",
              "         7.44433552e-02, -7.57454932e-02, -7.22899511e-02,  2.12226640e-02,\n",
              "        -4.15969640e-02,  8.87403544e-03,  5.05468771e-02, -2.81785824e-03,\n",
              "        -1.35163814e-02, -5.53213283e-02,  8.49592164e-02,  7.17614591e-02,\n",
              "        -8.29154439e-03, -2.50678770e-02, -6.24765940e-02, -1.13145016e-01,\n",
              "         4.57106940e-02,  7.35533005e-03, -1.90746877e-03, -5.60057051e-02,\n",
              "        -1.03552639e-01, -3.70503180e-02,  3.15941758e-02, -4.91748191e-02,\n",
              "        -9.32109877e-02, -1.06001511e-01, -1.09285042e-01, -1.46567956e-01,\n",
              "         1.01849325e-01, -8.81842002e-02,  5.37793785e-02, -6.32809997e-02,\n",
              "         2.97313202e-02, -9.62907746e-02, -1.28835320e-01, -6.06203899e-02,\n",
              "        -2.17799529e-01, -2.30438802e-02, -7.09870160e-02, -1.67062834e-01,\n",
              "        -3.37108634e-02,  4.53709364e-02, -7.92055950e-02, -9.42016542e-02,\n",
              "        -4.56464030e-02,  7.14025199e-02, -3.08762342e-02, -1.34232745e-01,\n",
              "        -7.90804401e-02,  1.96173843e-02, -3.66254337e-02, -1.65342256e-01,\n",
              "        -1.90095633e-01, -2.58935597e-02,  1.27761848e-02,  3.95858102e-02,\n",
              "        -5.87241538e-02,  1.00393714e-02, -1.09980889e-01, -6.32658899e-02,\n",
              "         2.96782032e-02,  1.29420608e-02, -6.84320852e-02, -1.52818277e-01,\n",
              "        -9.61837918e-02,  9.90306865e-03, -8.27671960e-02, -1.40628800e-01,\n",
              "        -6.55460432e-02,  9.34544876e-02, -4.90593575e-02,  2.47679222e-02,\n",
              "         4.88658510e-02, -1.56049386e-01, -1.71515718e-02, -1.17603943e-01,\n",
              "        -1.06592096e-01, -1.96425483e-01,  1.96803380e-02, -9.36619714e-02,\n",
              "        -3.59402932e-02, -1.55184697e-02, -2.34950352e-02,  5.21981865e-02,\n",
              "        -5.29532246e-02,  1.75001118e-02, -1.10900871e-01, -9.14975330e-02,\n",
              "         1.64280497e-02, -2.25532562e-01, -1.13877729e-01, -8.30394104e-02,\n",
              "        -4.03152592e-02, -1.28736511e-01,  7.22128607e-04,  5.13646752e-02,\n",
              "         4.53599868e-03, -1.17660714e-02, -3.77170928e-03, -2.82297373e-01,\n",
              "        -2.46412262e-01, -1.14651151e-01, -9.30812806e-02, -2.49879241e-01,\n",
              "        -1.71710357e-01, -1.61454324e-02, -8.54082629e-02,  5.53359054e-02,\n",
              "        -9.67879668e-02, -5.03572263e-02, -4.28972673e-03,  3.69149968e-02,\n",
              "         2.55031381e-02,  5.79082929e-02, -1.25868887e-01, -1.60899200e-02,\n",
              "         1.89567031e-03, -2.37796940e-02,  3.37200761e-02, -4.51882407e-02,\n",
              "         1.16434740e-02, -1.00744367e-01, -7.70909861e-02,  2.52030529e-02,\n",
              "         3.07626836e-03, -1.62145540e-01, -1.07699566e-01, -5.17726764e-02,\n",
              "        -2.68612448e-02, -2.10778892e-01, -4.12332639e-02, -1.39419109e-01,\n",
              "        -6.75329715e-02,  9.30125192e-02, -3.81418392e-02, -5.30069992e-02,\n",
              "        -6.42050132e-02, -1.10800087e-01,  1.83227323e-02,  1.25420820e-02,\n",
              "        -2.81864256e-01, -7.33093619e-02, -3.26638408e-02, -1.45035014e-01,\n",
              "        -1.44884974e-01, -2.23363452e-02, -2.35229582e-02, -4.34131064e-02,\n",
              "        -5.85232042e-02, -2.02745991e-03, -1.20330304e-01, -8.81230310e-02,\n",
              "        -6.61005974e-02,  1.75703522e-02,  1.92968047e-03,  2.57985462e-02,\n",
              "        -2.03346506e-01,  7.81200528e-02, -9.54765230e-02,  6.37331679e-02,\n",
              "         5.80798183e-03, -1.70547217e-01, -8.94004852e-02, -5.27867414e-02,\n",
              "        -2.72256304e-02, -1.64151505e-01, -3.17801721e-02, -6.27980754e-02,\n",
              "         1.19356953e-01, -1.59775764e-01, -8.34215507e-02, -4.33187336e-02,\n",
              "        -1.07205417e-02, -2.21003331e-02, -4.48266463e-03, -2.47275636e-01,\n",
              "         2.21761968e-02, -9.65893716e-02, -2.06408018e-04,  5.82412668e-02,\n",
              "        -5.24302050e-02, -9.36109424e-02, -5.08319438e-02,  1.68042071e-03,\n",
              "        -2.20587049e-02,  4.08179983e-02, -1.41557381e-01,  1.65841561e-02,\n",
              "        -1.26701053e-02,  2.36791931e-02,  1.04832023e-01,  5.66905132e-04,\n",
              "        -5.42073287e-02, -2.14110106e-01, -9.17880237e-02, -1.15625679e-01,\n",
              "        -1.46894250e-02, -5.34036718e-02,  7.98459202e-02, -5.97282648e-02,\n",
              "        -6.22058250e-02,  7.42160380e-02,  1.58989318e-02, -9.39377323e-02,\n",
              "         1.29515409e-01, -5.56931160e-02, -1.44770265e-01,  2.72839852e-02,\n",
              "         1.25071714e-02, -7.68779544e-03, -9.47157070e-02,  9.85190347e-02],\n",
              "       dtype=float32)>,\n",
              " <tf.Variable 'dense_layer_2/kernel:0' shape=(512, 512) dtype=float32, numpy=\n",
              " array([[ 0.1798262 ,  0.04286097,  0.01929569, ..., -0.06433285,\n",
              "         -0.02405041,  0.01473799],\n",
              "        [ 0.00731192, -0.16235055, -0.07014179, ..., -0.13275772,\n",
              "         -0.00413599,  0.07010841],\n",
              "        [ 0.04421314,  0.26379794, -0.12084902, ...,  0.06501241,\n",
              "         -0.04002476, -0.21880464],\n",
              "        ...,\n",
              "        [-0.06927069, -0.0012169 ,  0.02975007, ...,  0.0922123 ,\n",
              "         -0.03811365, -0.08362193],\n",
              "        [-0.14977254, -0.06022334, -0.05455083, ...,  0.04786795,\n",
              "         -0.13156183, -0.28555486],\n",
              "        [-0.01161186, -0.1150635 , -0.11174276, ..., -0.0343341 ,\n",
              "         -0.0236637 , -0.08612838]], dtype=float32)>,\n",
              " <tf.Variable 'dense_layer_2/bias:0' shape=(512,) dtype=float32, numpy=\n",
              " array([ 0.03738833, -0.01700922, -0.3465549 ,  0.00862312, -0.12277657,\n",
              "         0.00681237, -0.05053172, -0.11293557,  0.22946174, -0.11012933,\n",
              "        -0.10505361, -0.03845441, -0.22281368, -0.06848144, -0.14557682,\n",
              "         0.20440625, -0.08998583,  0.06807923,  0.24138802,  0.0528402 ,\n",
              "        -0.03918909, -0.10145316, -0.10847467, -0.26600337, -0.10876095,\n",
              "         0.06518875, -0.0925237 , -0.14445762, -0.03489974, -0.26162994,\n",
              "        -0.1455915 , -0.22068997,  0.0021174 , -0.04870959,  0.04926038,\n",
              "        -0.03888218, -0.14421465, -0.0985275 , -0.24111259, -0.3114419 ,\n",
              "        -0.17582269, -0.31479493, -0.24371183, -0.19280943, -0.09009723,\n",
              "        -0.32561415,  0.27865174,  0.04737078, -0.42390534, -0.18533383,\n",
              "        -0.22311647,  0.14747277, -0.09411681, -0.26371774,  0.12393228,\n",
              "         0.22144048, -0.33944067,  0.10268342,  0.01395039, -0.43298295,\n",
              "        -0.09745846, -0.00648739, -0.03260618,  0.12216827, -0.00875072,\n",
              "        -0.11872235, -0.14542072,  0.1640616 , -0.26774108, -0.36599228,\n",
              "        -0.19455458,  0.06869965, -0.09845936,  0.11688636, -0.03436275,\n",
              "        -0.5607772 , -0.02229083, -0.1595606 ,  0.12546204, -0.03100005,\n",
              "        -0.1656895 , -0.35907003, -0.20091045, -0.23211527, -0.2405321 ,\n",
              "         0.03673576,  0.1957858 , -0.12314838, -0.20408952, -0.22191703,\n",
              "        -0.25692976, -0.09787589, -0.16766445,  0.16891035, -0.11668126,\n",
              "        -0.16453071,  0.12493544, -0.07704978, -0.3658043 , -0.22345039,\n",
              "        -0.1304086 , -0.05172374,  0.28891656,  0.22993737, -0.14543477,\n",
              "        -0.06346556, -0.23615403, -0.11706191,  0.06120366,  0.03482949,\n",
              "        -0.30638644,  0.00842697,  0.03819615,  0.14155109, -0.1053414 ,\n",
              "        -0.12770823, -0.24521686, -0.2619169 , -0.0922142 ,  0.08805697,\n",
              "        -0.37266153, -0.31669095, -0.11958925, -0.23385999, -0.17457943,\n",
              "         0.03681148,  0.0777955 , -0.04850437, -0.25726226, -0.2765752 ,\n",
              "        -0.25777557, -0.02624962, -0.19827585,  0.00384854, -0.25774553,\n",
              "        -0.186382  , -0.15350814, -0.19446217,  0.18885915, -0.09257855,\n",
              "        -0.21656676, -0.30685493, -0.02459986, -0.14596422, -0.04062017,\n",
              "        -0.28623506, -0.09785257,  0.01783209, -0.04702318,  0.10111194,\n",
              "        -0.17670466,  0.1966382 ,  0.04860117, -0.00783836,  0.00114649,\n",
              "         0.05397763, -0.13111328, -0.31132734,  0.03881982, -0.1973685 ,\n",
              "        -0.36250612, -0.22390184, -0.16039382, -0.3608073 , -0.21770279,\n",
              "        -0.00927209, -0.10559977, -0.14554451, -0.07343081, -0.022816  ,\n",
              "        -0.00956148, -0.10847548, -0.15482233,  0.124866  ,  0.07605035,\n",
              "        -0.08160052, -0.14775588, -0.51530963, -0.2348792 ,  0.00688869,\n",
              "        -0.00697206,  0.0373629 , -0.01155092, -0.10965834, -0.2616852 ,\n",
              "         0.03780629, -0.21191895, -0.0975095 , -0.00874876, -0.30377513,\n",
              "        -0.03240304,  0.18323071, -0.2619351 , -0.02259594, -0.20229809,\n",
              "        -0.28070202,  0.12387077,  0.02758178, -0.20427977,  0.12885305,\n",
              "         0.07748258,  0.00431618, -0.2721808 , -0.1102818 ,  0.02735281,\n",
              "        -0.43998805,  0.1318847 ,  0.07092441, -0.01109108,  0.3087728 ,\n",
              "        -0.32596576, -0.18254618, -0.18995689,  0.10660652,  0.04753098,\n",
              "        -0.03337838, -0.12639898, -0.17487125, -0.17346935, -0.01706897,\n",
              "         0.03735884, -0.07318064, -0.10903847,  0.32994607, -0.14485805,\n",
              "        -0.25346804,  0.12601334, -0.22088839, -0.21038677, -0.25415632,\n",
              "        -0.20602188,  0.06658299,  0.15831651, -0.12593424, -0.16918406,\n",
              "         0.11340547, -0.09119236, -0.05692505,  0.09030101,  0.06449792,\n",
              "        -0.18329741,  0.1299592 , -0.18706512,  0.00808985, -0.29442263,\n",
              "        -0.32077453, -0.08579139, -0.1985155 ,  0.22029215, -0.07939334,\n",
              "         0.2799297 , -0.2663563 , -0.13372648, -0.14780873, -0.17872372,\n",
              "        -0.29732683, -0.33716974, -0.12426986, -0.36018962, -0.2566498 ,\n",
              "         0.17936315, -0.16421875, -0.14702708, -0.4493961 , -0.1538253 ,\n",
              "        -0.16339423, -0.06970739,  0.13669477, -0.04236313, -0.20008126,\n",
              "        -0.28996733, -0.17647718, -0.08377516, -0.3653639 , -0.20124309,\n",
              "         0.1036566 ,  0.00480108,  0.17857486, -0.3730527 , -0.06867993,\n",
              "         0.15967788, -0.33059284, -0.1441946 , -0.26297173,  0.02528089,\n",
              "         0.00313401,  0.14214773, -0.1737376 ,  0.06310216,  0.00318881,\n",
              "        -0.11169067, -0.15939471,  0.01626792, -0.04632636,  0.10795442,\n",
              "         0.15657216,  0.04463018, -0.05511121,  0.27525243, -0.232067  ,\n",
              "        -0.32917088, -0.461399  ,  0.03921739,  0.01711308, -0.10304304,\n",
              "        -0.06720641, -0.05361231, -0.29624787, -0.11466058, -0.03206714,\n",
              "        -0.0856455 , -0.0504743 , -0.27464503, -0.37426916, -0.1160162 ,\n",
              "        -0.28690764,  0.10789549,  0.1024345 ,  0.01211344,  0.11513395,\n",
              "        -0.2819299 , -0.19232579,  0.0779352 ,  0.3369892 , -0.2617336 ,\n",
              "        -0.1915551 , -0.33281338,  0.2509885 ,  0.0146896 , -0.1188927 ,\n",
              "        -0.299917  ,  0.17256673, -0.12683085,  0.14686044, -0.02860697,\n",
              "        -0.11234972,  0.00060581, -0.13457982, -0.13994691, -0.2869244 ,\n",
              "         0.09771807, -0.31133017, -0.39047992, -0.00344395, -0.53017515,\n",
              "        -0.00238064, -0.19188783,  0.2281499 , -0.17240101,  0.2912574 ,\n",
              "        -0.17721169, -0.07020389, -0.27784285,  0.05574172,  0.24304779,\n",
              "        -0.22835852, -0.0762563 , -0.0066478 , -0.17642626,  0.0048741 ,\n",
              "        -0.20361957, -0.07396878, -0.12625246,  0.02891184,  0.00391323,\n",
              "        -0.1267195 , -0.1926998 , -0.01123885,  0.08914022, -0.23426193,\n",
              "        -0.00795591, -0.17158978, -0.01125492, -0.10352108, -0.11432706,\n",
              "        -0.26091257, -0.17435092,  0.19166943, -0.1247154 , -0.06063553,\n",
              "         0.00758973,  0.1256125 ,  0.04185778, -0.26584914, -0.18699628,\n",
              "        -0.18321115, -0.02682988, -0.27718815, -0.18271995, -0.2797729 ,\n",
              "        -0.20155814, -0.11113646, -0.42082494, -0.04272007, -0.03201332,\n",
              "        -0.16065224, -0.20600504,  0.10813954, -0.08921814, -0.03424592,\n",
              "         0.1792572 ,  0.19216019, -0.19625792, -0.15021622, -0.04148089,\n",
              "        -0.21711339, -0.05494123, -0.03650591, -0.05023218, -0.11696495,\n",
              "        -0.07952452, -0.0580091 , -0.22356245, -0.16592   ,  0.04554935,\n",
              "        -0.02801901, -0.14544326,  0.0051716 , -0.14132127, -0.19079861,\n",
              "        -0.30284107, -0.1524683 , -0.16672227, -0.22093914, -0.29929727,\n",
              "        -0.19631317,  0.03669941, -0.08324762, -0.32428044, -0.08875419,\n",
              "        -0.08967724, -0.13588598, -0.0447376 ,  0.16129926, -0.02611415,\n",
              "        -0.07451661,  0.3129337 , -0.02234888, -0.26737872, -0.02273968,\n",
              "        -0.12029072, -0.1909464 ,  0.04618701, -0.30841726,  0.01070142,\n",
              "        -0.23680107,  0.20666683,  0.15422499,  0.09912812, -0.22653607,\n",
              "        -0.09213613, -0.11467747, -0.19312777,  0.16695462, -0.39259323,\n",
              "        -0.27783385, -0.20225735, -0.23392016, -0.30499545, -0.03629915,\n",
              "        -0.37218985, -0.0391872 , -0.05739956,  0.22236118, -0.3257051 ,\n",
              "         0.10217065,  0.04904136, -0.29243782, -0.276377  , -0.27500594,\n",
              "         0.06798811, -0.08040941, -0.02316096,  0.0068846 , -0.22383796,\n",
              "        -0.03373326,  0.20372021, -0.22971715, -0.1915064 , -0.4777953 ,\n",
              "         0.1373913 , -0.18750273, -0.00921257,  0.10753891,  0.06243527,\n",
              "         0.07988212, -0.17655908, -0.28413808, -0.05144929, -0.38886324,\n",
              "        -0.1380345 , -0.34657243,  0.06393173, -0.1998603 , -0.21527973,\n",
              "        -0.16969737, -0.25944185, -0.22701523, -0.0157633 , -0.13603444,\n",
              "         0.34927043,  0.06447221,  0.10210766,  0.16806743,  0.02832858,\n",
              "         0.10163438, -0.15971121, -0.06663473, -0.02646295, -0.21878393,\n",
              "        -0.176853  , -0.02072905], dtype=float32)>,\n",
              " <tf.Variable 'dense_layer_3/kernel:0' shape=(512, 10) dtype=float32, numpy=\n",
              " array([[ 0.05826981, -0.23886892,  0.00093814, ...,  0.01640037,\n",
              "         -0.02403512,  0.06414325],\n",
              "        [ 0.02567743, -0.04562186, -0.0987974 , ...,  0.0728853 ,\n",
              "         -0.01994966,  0.07824839],\n",
              "        [-0.19102678, -0.02497424, -0.22985406, ...,  0.02334641,\n",
              "         -0.07237728,  0.0995733 ],\n",
              "        ...,\n",
              "        [ 0.00181156, -0.13300897, -0.01134724, ...,  0.12464984,\n",
              "         -0.16400582, -0.07131691],\n",
              "        [ 0.01185395,  0.10375383,  0.04502918, ..., -0.08586564,\n",
              "         -0.15290844,  0.00496032],\n",
              "        [ 0.0727478 , -0.10644188,  0.08265581, ..., -0.08627409,\n",
              "          0.034853  , -0.11793353]], dtype=float32)>,\n",
              " <tf.Variable 'dense_layer_3/bias:0' shape=(10,) dtype=float32, numpy=\n",
              " array([ 0.03631121, -0.18693765, -0.15039623, -0.12167401, -0.11492527,\n",
              "        -0.07636262, -0.14805064, -0.2380338 ,  0.60326356,  0.17449285],\n",
              "       dtype=float32)>]"
            ]
          },
          "metadata": {},
          "execution_count": 88
        }
      ]
    }
  ]
}