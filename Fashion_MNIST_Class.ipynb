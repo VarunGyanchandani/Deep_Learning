{
  "nbformat": 4,
  "nbformat_minor": 0,
  "metadata": {
    "colab": {
      "provenance": [],
      "gpuType": "T4"
    },
    "kernelspec": {
      "name": "python3",
      "display_name": "Python 3"
    },
    "language_info": {
      "name": "python"
    },
    "accelerator": "GPU"
  },
  "cells": [
    {
      "cell_type": "code",
      "execution_count": null,
      "metadata": {
        "colab": {
          "base_uri": "https://localhost:8080/"
        },
        "id": "mVKR_zQ4bJKH",
        "outputId": "4233c4e0-ac10-4e9a-c793-ae117045a219"
      },
      "outputs": [
        {
          "output_type": "stream",
          "name": "stdout",
          "text": [
            "Requirement already satisfied: tensorflow in /usr/local/lib/python3.10/dist-packages (2.15.0)\n",
            "Requirement already satisfied: absl-py>=1.0.0 in /usr/local/lib/python3.10/dist-packages (from tensorflow) (1.4.0)\n",
            "Requirement already satisfied: astunparse>=1.6.0 in /usr/local/lib/python3.10/dist-packages (from tensorflow) (1.6.3)\n",
            "Requirement already satisfied: flatbuffers>=23.5.26 in /usr/local/lib/python3.10/dist-packages (from tensorflow) (23.5.26)\n",
            "Requirement already satisfied: gast!=0.5.0,!=0.5.1,!=0.5.2,>=0.2.1 in /usr/local/lib/python3.10/dist-packages (from tensorflow) (0.5.4)\n",
            "Requirement already satisfied: google-pasta>=0.1.1 in /usr/local/lib/python3.10/dist-packages (from tensorflow) (0.2.0)\n",
            "Requirement already satisfied: h5py>=2.9.0 in /usr/local/lib/python3.10/dist-packages (from tensorflow) (3.9.0)\n",
            "Requirement already satisfied: libclang>=13.0.0 in /usr/local/lib/python3.10/dist-packages (from tensorflow) (16.0.6)\n",
            "Requirement already satisfied: ml-dtypes~=0.2.0 in /usr/local/lib/python3.10/dist-packages (from tensorflow) (0.2.0)\n",
            "Requirement already satisfied: numpy<2.0.0,>=1.23.5 in /usr/local/lib/python3.10/dist-packages (from tensorflow) (1.25.2)\n",
            "Requirement already satisfied: opt-einsum>=2.3.2 in /usr/local/lib/python3.10/dist-packages (from tensorflow) (3.3.0)\n",
            "Requirement already satisfied: packaging in /usr/local/lib/python3.10/dist-packages (from tensorflow) (23.2)\n",
            "Requirement already satisfied: protobuf!=4.21.0,!=4.21.1,!=4.21.2,!=4.21.3,!=4.21.4,!=4.21.5,<5.0.0dev,>=3.20.3 in /usr/local/lib/python3.10/dist-packages (from tensorflow) (3.20.3)\n",
            "Requirement already satisfied: setuptools in /usr/local/lib/python3.10/dist-packages (from tensorflow) (67.7.2)\n",
            "Requirement already satisfied: six>=1.12.0 in /usr/local/lib/python3.10/dist-packages (from tensorflow) (1.16.0)\n",
            "Requirement already satisfied: termcolor>=1.1.0 in /usr/local/lib/python3.10/dist-packages (from tensorflow) (2.4.0)\n",
            "Requirement already satisfied: typing-extensions>=3.6.6 in /usr/local/lib/python3.10/dist-packages (from tensorflow) (4.10.0)\n",
            "Requirement already satisfied: wrapt<1.15,>=1.11.0 in /usr/local/lib/python3.10/dist-packages (from tensorflow) (1.14.1)\n",
            "Requirement already satisfied: tensorflow-io-gcs-filesystem>=0.23.1 in /usr/local/lib/python3.10/dist-packages (from tensorflow) (0.36.0)\n",
            "Requirement already satisfied: grpcio<2.0,>=1.24.3 in /usr/local/lib/python3.10/dist-packages (from tensorflow) (1.62.0)\n",
            "Requirement already satisfied: tensorboard<2.16,>=2.15 in /usr/local/lib/python3.10/dist-packages (from tensorflow) (2.15.2)\n",
            "Requirement already satisfied: tensorflow-estimator<2.16,>=2.15.0 in /usr/local/lib/python3.10/dist-packages (from tensorflow) (2.15.0)\n",
            "Requirement already satisfied: keras<2.16,>=2.15.0 in /usr/local/lib/python3.10/dist-packages (from tensorflow) (2.15.0)\n",
            "Requirement already satisfied: wheel<1.0,>=0.23.0 in /usr/local/lib/python3.10/dist-packages (from astunparse>=1.6.0->tensorflow) (0.42.0)\n",
            "Requirement already satisfied: google-auth<3,>=1.6.3 in /usr/local/lib/python3.10/dist-packages (from tensorboard<2.16,>=2.15->tensorflow) (2.27.0)\n",
            "Requirement already satisfied: google-auth-oauthlib<2,>=0.5 in /usr/local/lib/python3.10/dist-packages (from tensorboard<2.16,>=2.15->tensorflow) (1.2.0)\n",
            "Requirement already satisfied: markdown>=2.6.8 in /usr/local/lib/python3.10/dist-packages (from tensorboard<2.16,>=2.15->tensorflow) (3.5.2)\n",
            "Requirement already satisfied: requests<3,>=2.21.0 in /usr/local/lib/python3.10/dist-packages (from tensorboard<2.16,>=2.15->tensorflow) (2.31.0)\n",
            "Requirement already satisfied: tensorboard-data-server<0.8.0,>=0.7.0 in /usr/local/lib/python3.10/dist-packages (from tensorboard<2.16,>=2.15->tensorflow) (0.7.2)\n",
            "Requirement already satisfied: werkzeug>=1.0.1 in /usr/local/lib/python3.10/dist-packages (from tensorboard<2.16,>=2.15->tensorflow) (3.0.1)\n",
            "Requirement already satisfied: cachetools<6.0,>=2.0.0 in /usr/local/lib/python3.10/dist-packages (from google-auth<3,>=1.6.3->tensorboard<2.16,>=2.15->tensorflow) (5.3.3)\n",
            "Requirement already satisfied: pyasn1-modules>=0.2.1 in /usr/local/lib/python3.10/dist-packages (from google-auth<3,>=1.6.3->tensorboard<2.16,>=2.15->tensorflow) (0.3.0)\n",
            "Requirement already satisfied: rsa<5,>=3.1.4 in /usr/local/lib/python3.10/dist-packages (from google-auth<3,>=1.6.3->tensorboard<2.16,>=2.15->tensorflow) (4.9)\n",
            "Requirement already satisfied: requests-oauthlib>=0.7.0 in /usr/local/lib/python3.10/dist-packages (from google-auth-oauthlib<2,>=0.5->tensorboard<2.16,>=2.15->tensorflow) (1.3.1)\n",
            "Requirement already satisfied: charset-normalizer<4,>=2 in /usr/local/lib/python3.10/dist-packages (from requests<3,>=2.21.0->tensorboard<2.16,>=2.15->tensorflow) (3.3.2)\n",
            "Requirement already satisfied: idna<4,>=2.5 in /usr/local/lib/python3.10/dist-packages (from requests<3,>=2.21.0->tensorboard<2.16,>=2.15->tensorflow) (3.6)\n",
            "Requirement already satisfied: urllib3<3,>=1.21.1 in /usr/local/lib/python3.10/dist-packages (from requests<3,>=2.21.0->tensorboard<2.16,>=2.15->tensorflow) (2.0.7)\n",
            "Requirement already satisfied: certifi>=2017.4.17 in /usr/local/lib/python3.10/dist-packages (from requests<3,>=2.21.0->tensorboard<2.16,>=2.15->tensorflow) (2024.2.2)\n",
            "Requirement already satisfied: MarkupSafe>=2.1.1 in /usr/local/lib/python3.10/dist-packages (from werkzeug>=1.0.1->tensorboard<2.16,>=2.15->tensorflow) (2.1.5)\n",
            "Requirement already satisfied: pyasn1<0.6.0,>=0.4.6 in /usr/local/lib/python3.10/dist-packages (from pyasn1-modules>=0.2.1->google-auth<3,>=1.6.3->tensorboard<2.16,>=2.15->tensorflow) (0.5.1)\n",
            "Requirement already satisfied: oauthlib>=3.0.0 in /usr/local/lib/python3.10/dist-packages (from requests-oauthlib>=0.7.0->google-auth-oauthlib<2,>=0.5->tensorboard<2.16,>=2.15->tensorflow) (3.2.2)\n"
          ]
        }
      ],
      "source": [
        "!pip install tensorflow"
      ]
    },
    {
      "cell_type": "code",
      "source": [
        "import tensorflow as tf\n",
        "from tensorflow import keras"
      ],
      "metadata": {
        "id": "XY97MCF1cWZX"
      },
      "execution_count": 1,
      "outputs": []
    },
    {
      "cell_type": "code",
      "source": [
        "print(tf.__version__)"
      ],
      "metadata": {
        "colab": {
          "base_uri": "https://localhost:8080/"
        },
        "id": "HQAuXTO9cWbD",
        "outputId": "e787dc5c-f9cb-4327-e9e1-c74e93d8f12f"
      },
      "execution_count": 2,
      "outputs": [
        {
          "output_type": "stream",
          "name": "stdout",
          "text": [
            "2.15.0\n"
          ]
        }
      ]
    },
    {
      "cell_type": "code",
      "source": [
        "fashion_mnist = keras.datasets.fashion_mnist\n",
        "(X_train, Y_train), (X_test, Y_test) = fashion_mnist.load_data()"
      ],
      "metadata": {
        "colab": {
          "base_uri": "https://localhost:8080/"
        },
        "id": "eftfNoTgcWdP",
        "outputId": "08f72598-f92b-4e99-cde5-431dd8f11a6a"
      },
      "execution_count": 3,
      "outputs": [
        {
          "output_type": "stream",
          "name": "stdout",
          "text": [
            "Downloading data from https://storage.googleapis.com/tensorflow/tf-keras-datasets/train-labels-idx1-ubyte.gz\n",
            "29515/29515 [==============================] - 0s 0us/step\n",
            "Downloading data from https://storage.googleapis.com/tensorflow/tf-keras-datasets/train-images-idx3-ubyte.gz\n",
            "26421880/26421880 [==============================] - 0s 0us/step\n",
            "Downloading data from https://storage.googleapis.com/tensorflow/tf-keras-datasets/t10k-labels-idx1-ubyte.gz\n",
            "5148/5148 [==============================] - 0s 0us/step\n",
            "Downloading data from https://storage.googleapis.com/tensorflow/tf-keras-datasets/t10k-images-idx3-ubyte.gz\n",
            "4422102/4422102 [==============================] - 0s 0us/step\n"
          ]
        }
      ]
    },
    {
      "cell_type": "code",
      "source": [
        "print(X_train.shape)\n",
        "print(X_test.shape)\n"
      ],
      "metadata": {
        "colab": {
          "base_uri": "https://localhost:8080/"
        },
        "id": "ZoYqkbXucWfE",
        "outputId": "33416538-9e64-49be-e81e-232124e3b83f"
      },
      "execution_count": 4,
      "outputs": [
        {
          "output_type": "stream",
          "name": "stdout",
          "text": [
            "(60000, 28, 28)\n",
            "(10000, 28, 28)\n"
          ]
        }
      ]
    },
    {
      "cell_type": "code",
      "source": [
        "X_train = X_train.astype('float32')\n",
        "X_test = X_test.astype('float32')"
      ],
      "metadata": {
        "id": "1FUvLFCBcWhQ"
      },
      "execution_count": 5,
      "outputs": []
    },
    {
      "cell_type": "code",
      "source": [
        "RESHAPED = 784"
      ],
      "metadata": {
        "id": "bfgI-G8ievq3"
      },
      "execution_count": 6,
      "outputs": []
    },
    {
      "cell_type": "code",
      "source": [
        "X_train  = X_train.reshape(60000, RESHAPED)\n",
        "X_test = X_test.reshape(10000, RESHAPED)"
      ],
      "metadata": {
        "id": "Ra6PcOnLevuN"
      },
      "execution_count": 7,
      "outputs": []
    },
    {
      "cell_type": "code",
      "source": [
        "X_train = X_train.astype('float32')\n",
        "X_test = X_test.astype('float32')"
      ],
      "metadata": {
        "id": "aKYbhJrkfAzG"
      },
      "execution_count": 8,
      "outputs": []
    },
    {
      "cell_type": "code",
      "source": [
        "X_train /= 255\n",
        "X_test /= 255"
      ],
      "metadata": {
        "id": "aXMH2ntdfA2f"
      },
      "execution_count": 9,
      "outputs": []
    },
    {
      "cell_type": "code",
      "source": [
        "print(X_train.shape, 'train samples')\n",
        "print(X_test.shape, 'test samples')"
      ],
      "metadata": {
        "colab": {
          "base_uri": "https://localhost:8080/"
        },
        "id": "lMUibumdeYct",
        "outputId": "f346eb7a-216c-467b-cf7d-1b771b309c5a"
      },
      "execution_count": 10,
      "outputs": [
        {
          "output_type": "stream",
          "name": "stdout",
          "text": [
            "(60000, 784) train samples\n",
            "(10000, 784) test samples\n"
          ]
        }
      ]
    },
    {
      "cell_type": "code",
      "source": [
        "Y_train = tf.keras.utils.to_categorical(Y_train, 10)\n",
        "Y_test = tf.keras.utils.to_categorical (Y_test, 10)"
      ],
      "metadata": {
        "id": "awC_-mzefW0K"
      },
      "execution_count": 11,
      "outputs": []
    },
    {
      "cell_type": "code",
      "source": [
        "from tensorflow.keras.layers import Flatten\n",
        "from tensorflow.keras.layers import Dense\n",
        "from tensorflow.keras import Sequential\n",
        "model_0 = Sequential()"
      ],
      "metadata": {
        "id": "oQOVnRyBfW3d"
      },
      "execution_count": 12,
      "outputs": []
    },
    {
      "cell_type": "code",
      "source": [
        "model_0.add(Flatten())"
      ],
      "metadata": {
        "id": "jIyAoU6l-0_i"
      },
      "execution_count": 13,
      "outputs": []
    },
    {
      "cell_type": "code",
      "source": [
        "model_0.add(Dense(128,input_shape=(784,), name='dense_layer1', activation='relu'))\n",
        "model_0.add(Dense(64,input_shape=(784,), name='dense_layer2', activation='relu'))"
      ],
      "metadata": {
        "id": "8klrrX2H-143"
      },
      "execution_count": 14,
      "outputs": []
    },
    {
      "cell_type": "code",
      "source": [
        "model_0.add(Dense(10,input_shape=(784,), name='dense_layer3', activation='softmax'))"
      ],
      "metadata": {
        "id": "ftaUsxCLf-D4"
      },
      "execution_count": 15,
      "outputs": []
    },
    {
      "cell_type": "code",
      "source": [
        "model_0.compile(optimizer='SGD', loss='categorical_crossentropy', metrics=['accuracy'])\n",
        "training=model_0.fit(X_train, Y_train, batch_size=64, epochs=70, validation_split=0.2)"
      ],
      "metadata": {
        "colab": {
          "base_uri": "https://localhost:8080/"
        },
        "id": "C8VsChtXeYgV",
        "outputId": "debb27d4-ac86-4334-9d48-f1d2c068bd68"
      },
      "execution_count": 16,
      "outputs": [
        {
          "output_type": "stream",
          "name": "stdout",
          "text": [
            "Epoch 1/70\n",
            "750/750 [==============================] - 5s 4ms/step - loss: 0.9587 - accuracy: 0.6923 - val_loss: 0.6496 - val_accuracy: 0.7837\n",
            "Epoch 2/70\n",
            "750/750 [==============================] - 3s 4ms/step - loss: 0.5891 - accuracy: 0.7967 - val_loss: 0.5535 - val_accuracy: 0.8043\n",
            "Epoch 3/70\n",
            "750/750 [==============================] - 2s 3ms/step - loss: 0.5199 - accuracy: 0.8199 - val_loss: 0.5055 - val_accuracy: 0.8213\n",
            "Epoch 4/70\n",
            "750/750 [==============================] - 2s 3ms/step - loss: 0.4859 - accuracy: 0.8304 - val_loss: 0.4760 - val_accuracy: 0.8317\n",
            "Epoch 5/70\n",
            "750/750 [==============================] - 3s 4ms/step - loss: 0.4631 - accuracy: 0.8375 - val_loss: 0.4630 - val_accuracy: 0.8370\n",
            "Epoch 6/70\n",
            "750/750 [==============================] - 2s 3ms/step - loss: 0.4445 - accuracy: 0.8453 - val_loss: 0.4527 - val_accuracy: 0.8428\n",
            "Epoch 7/70\n",
            "750/750 [==============================] - 3s 4ms/step - loss: 0.4316 - accuracy: 0.8482 - val_loss: 0.4570 - val_accuracy: 0.8368\n",
            "Epoch 8/70\n",
            "750/750 [==============================] - 2s 3ms/step - loss: 0.4213 - accuracy: 0.8530 - val_loss: 0.4708 - val_accuracy: 0.8281\n",
            "Epoch 9/70\n",
            "750/750 [==============================] - 3s 4ms/step - loss: 0.4096 - accuracy: 0.8561 - val_loss: 0.4220 - val_accuracy: 0.8503\n",
            "Epoch 10/70\n",
            "750/750 [==============================] - 3s 4ms/step - loss: 0.4018 - accuracy: 0.8598 - val_loss: 0.4200 - val_accuracy: 0.8528\n",
            "Epoch 11/70\n",
            "750/750 [==============================] - 3s 4ms/step - loss: 0.3948 - accuracy: 0.8613 - val_loss: 0.4092 - val_accuracy: 0.8568\n",
            "Epoch 12/70\n",
            "750/750 [==============================] - 3s 4ms/step - loss: 0.3876 - accuracy: 0.8655 - val_loss: 0.4115 - val_accuracy: 0.8537\n",
            "Epoch 13/70\n",
            "750/750 [==============================] - 4s 6ms/step - loss: 0.3803 - accuracy: 0.8666 - val_loss: 0.4076 - val_accuracy: 0.8545\n",
            "Epoch 14/70\n",
            "750/750 [==============================] - 2s 3ms/step - loss: 0.3746 - accuracy: 0.8679 - val_loss: 0.3974 - val_accuracy: 0.8611\n",
            "Epoch 15/70\n",
            "750/750 [==============================] - 3s 4ms/step - loss: 0.3684 - accuracy: 0.8702 - val_loss: 0.3906 - val_accuracy: 0.8625\n",
            "Epoch 16/70\n",
            "750/750 [==============================] - 2s 3ms/step - loss: 0.3637 - accuracy: 0.8720 - val_loss: 0.3861 - val_accuracy: 0.8670\n",
            "Epoch 17/70\n",
            "750/750 [==============================] - 2s 3ms/step - loss: 0.3581 - accuracy: 0.8746 - val_loss: 0.3834 - val_accuracy: 0.8645\n",
            "Epoch 18/70\n",
            "750/750 [==============================] - 3s 4ms/step - loss: 0.3533 - accuracy: 0.8761 - val_loss: 0.3819 - val_accuracy: 0.8655\n",
            "Epoch 19/70\n",
            "750/750 [==============================] - 3s 4ms/step - loss: 0.3491 - accuracy: 0.8767 - val_loss: 0.3818 - val_accuracy: 0.8666\n",
            "Epoch 20/70\n",
            "750/750 [==============================] - 4s 6ms/step - loss: 0.3448 - accuracy: 0.8784 - val_loss: 0.3719 - val_accuracy: 0.8704\n",
            "Epoch 21/70\n",
            "750/750 [==============================] - 4s 6ms/step - loss: 0.3406 - accuracy: 0.8797 - val_loss: 0.3692 - val_accuracy: 0.8711\n",
            "Epoch 22/70\n",
            "750/750 [==============================] - 6s 8ms/step - loss: 0.3361 - accuracy: 0.8813 - val_loss: 0.3753 - val_accuracy: 0.8672\n",
            "Epoch 23/70\n",
            "750/750 [==============================] - 4s 6ms/step - loss: 0.3329 - accuracy: 0.8829 - val_loss: 0.3740 - val_accuracy: 0.8686\n",
            "Epoch 24/70\n",
            "750/750 [==============================] - 3s 4ms/step - loss: 0.3291 - accuracy: 0.8834 - val_loss: 0.3619 - val_accuracy: 0.8724\n",
            "Epoch 25/70\n",
            "750/750 [==============================] - 4s 6ms/step - loss: 0.3256 - accuracy: 0.8841 - val_loss: 0.3623 - val_accuracy: 0.8715\n",
            "Epoch 26/70\n",
            "750/750 [==============================] - 4s 5ms/step - loss: 0.3213 - accuracy: 0.8852 - val_loss: 0.3560 - val_accuracy: 0.8754\n",
            "Epoch 27/70\n",
            "750/750 [==============================] - 4s 5ms/step - loss: 0.3187 - accuracy: 0.8866 - val_loss: 0.3562 - val_accuracy: 0.8763\n",
            "Epoch 28/70\n",
            "750/750 [==============================] - 3s 4ms/step - loss: 0.3150 - accuracy: 0.8881 - val_loss: 0.3515 - val_accuracy: 0.8763\n",
            "Epoch 29/70\n",
            "750/750 [==============================] - 3s 4ms/step - loss: 0.3118 - accuracy: 0.8904 - val_loss: 0.3555 - val_accuracy: 0.8750\n",
            "Epoch 30/70\n",
            "750/750 [==============================] - 2s 3ms/step - loss: 0.3083 - accuracy: 0.8910 - val_loss: 0.3733 - val_accuracy: 0.8692\n",
            "Epoch 31/70\n",
            "750/750 [==============================] - 3s 3ms/step - loss: 0.3051 - accuracy: 0.8925 - val_loss: 0.3664 - val_accuracy: 0.8705\n",
            "Epoch 32/70\n",
            "750/750 [==============================] - 3s 4ms/step - loss: 0.3037 - accuracy: 0.8926 - val_loss: 0.3464 - val_accuracy: 0.8795\n",
            "Epoch 33/70\n",
            "750/750 [==============================] - 3s 4ms/step - loss: 0.3007 - accuracy: 0.8934 - val_loss: 0.3473 - val_accuracy: 0.8768\n",
            "Epoch 34/70\n",
            "750/750 [==============================] - 3s 3ms/step - loss: 0.2972 - accuracy: 0.8949 - val_loss: 0.3579 - val_accuracy: 0.8739\n",
            "Epoch 35/70\n",
            "750/750 [==============================] - 3s 4ms/step - loss: 0.2951 - accuracy: 0.8955 - val_loss: 0.3434 - val_accuracy: 0.8807\n",
            "Epoch 36/70\n",
            "750/750 [==============================] - 4s 5ms/step - loss: 0.2911 - accuracy: 0.8962 - val_loss: 0.3402 - val_accuracy: 0.8803\n",
            "Epoch 37/70\n",
            "750/750 [==============================] - 5s 7ms/step - loss: 0.2899 - accuracy: 0.8971 - val_loss: 0.3429 - val_accuracy: 0.8773\n",
            "Epoch 38/70\n",
            "750/750 [==============================] - 3s 4ms/step - loss: 0.2861 - accuracy: 0.8985 - val_loss: 0.3474 - val_accuracy: 0.8786\n",
            "Epoch 39/70\n",
            "750/750 [==============================] - 3s 4ms/step - loss: 0.2855 - accuracy: 0.9004 - val_loss: 0.3342 - val_accuracy: 0.8827\n",
            "Epoch 40/70\n",
            "750/750 [==============================] - 2s 3ms/step - loss: 0.2815 - accuracy: 0.8989 - val_loss: 0.3525 - val_accuracy: 0.8762\n",
            "Epoch 41/70\n",
            "750/750 [==============================] - 3s 4ms/step - loss: 0.2789 - accuracy: 0.9008 - val_loss: 0.3346 - val_accuracy: 0.8831\n",
            "Epoch 42/70\n",
            "750/750 [==============================] - 2s 3ms/step - loss: 0.2765 - accuracy: 0.9024 - val_loss: 0.3453 - val_accuracy: 0.8777\n",
            "Epoch 43/70\n",
            "750/750 [==============================] - 3s 3ms/step - loss: 0.2756 - accuracy: 0.9000 - val_loss: 0.3306 - val_accuracy: 0.8836\n",
            "Epoch 44/70\n",
            "750/750 [==============================] - 2s 3ms/step - loss: 0.2719 - accuracy: 0.9036 - val_loss: 0.3308 - val_accuracy: 0.8844\n",
            "Epoch 45/70\n",
            "750/750 [==============================] - 3s 4ms/step - loss: 0.2709 - accuracy: 0.9044 - val_loss: 0.3347 - val_accuracy: 0.8837\n",
            "Epoch 46/70\n",
            "750/750 [==============================] - 3s 4ms/step - loss: 0.2676 - accuracy: 0.9049 - val_loss: 0.3302 - val_accuracy: 0.8821\n",
            "Epoch 47/70\n",
            "750/750 [==============================] - 3s 4ms/step - loss: 0.2653 - accuracy: 0.9066 - val_loss: 0.3371 - val_accuracy: 0.8807\n",
            "Epoch 48/70\n",
            "750/750 [==============================] - 3s 4ms/step - loss: 0.2641 - accuracy: 0.9061 - val_loss: 0.3288 - val_accuracy: 0.8851\n",
            "Epoch 49/70\n",
            "750/750 [==============================] - 2s 3ms/step - loss: 0.2615 - accuracy: 0.9073 - val_loss: 0.3392 - val_accuracy: 0.8811\n",
            "Epoch 50/70\n",
            "750/750 [==============================] - 3s 4ms/step - loss: 0.2585 - accuracy: 0.9079 - val_loss: 0.3291 - val_accuracy: 0.8838\n",
            "Epoch 51/70\n",
            "750/750 [==============================] - 4s 5ms/step - loss: 0.2579 - accuracy: 0.9083 - val_loss: 0.3234 - val_accuracy: 0.8871\n",
            "Epoch 52/70\n",
            "750/750 [==============================] - 3s 4ms/step - loss: 0.2546 - accuracy: 0.9099 - val_loss: 0.3280 - val_accuracy: 0.8837\n",
            "Epoch 53/70\n",
            "750/750 [==============================] - 4s 6ms/step - loss: 0.2532 - accuracy: 0.9097 - val_loss: 0.3263 - val_accuracy: 0.8854\n",
            "Epoch 54/70\n",
            "750/750 [==============================] - 3s 5ms/step - loss: 0.2509 - accuracy: 0.9101 - val_loss: 0.3250 - val_accuracy: 0.8852\n",
            "Epoch 55/70\n",
            "750/750 [==============================] - 3s 4ms/step - loss: 0.2494 - accuracy: 0.9113 - val_loss: 0.3231 - val_accuracy: 0.8867\n",
            "Epoch 56/70\n",
            "750/750 [==============================] - 2s 3ms/step - loss: 0.2474 - accuracy: 0.9130 - val_loss: 0.3300 - val_accuracy: 0.8824\n",
            "Epoch 57/70\n",
            "750/750 [==============================] - 3s 4ms/step - loss: 0.2455 - accuracy: 0.9138 - val_loss: 0.3257 - val_accuracy: 0.8834\n",
            "Epoch 58/70\n",
            "750/750 [==============================] - 3s 4ms/step - loss: 0.2429 - accuracy: 0.9141 - val_loss: 0.3218 - val_accuracy: 0.8863\n",
            "Epoch 59/70\n",
            "750/750 [==============================] - 2s 3ms/step - loss: 0.2419 - accuracy: 0.9137 - val_loss: 0.3325 - val_accuracy: 0.8836\n",
            "Epoch 60/70\n",
            "750/750 [==============================] - 3s 4ms/step - loss: 0.2395 - accuracy: 0.9149 - val_loss: 0.3205 - val_accuracy: 0.8888\n",
            "Epoch 61/70\n",
            "750/750 [==============================] - 2s 3ms/step - loss: 0.2377 - accuracy: 0.9158 - val_loss: 0.3244 - val_accuracy: 0.8864\n",
            "Epoch 62/70\n",
            "750/750 [==============================] - 3s 4ms/step - loss: 0.2362 - accuracy: 0.9157 - val_loss: 0.3261 - val_accuracy: 0.8854\n",
            "Epoch 63/70\n",
            "750/750 [==============================] - 2s 3ms/step - loss: 0.2343 - accuracy: 0.9170 - val_loss: 0.3307 - val_accuracy: 0.8844\n",
            "Epoch 64/70\n",
            "750/750 [==============================] - 3s 4ms/step - loss: 0.2326 - accuracy: 0.9182 - val_loss: 0.3220 - val_accuracy: 0.8860\n",
            "Epoch 65/70\n",
            "750/750 [==============================] - 2s 3ms/step - loss: 0.2316 - accuracy: 0.9174 - val_loss: 0.3220 - val_accuracy: 0.8864\n",
            "Epoch 66/70\n",
            "750/750 [==============================] - 3s 3ms/step - loss: 0.2295 - accuracy: 0.9187 - val_loss: 0.3298 - val_accuracy: 0.8820\n",
            "Epoch 67/70\n",
            "750/750 [==============================] - 3s 4ms/step - loss: 0.2279 - accuracy: 0.9196 - val_loss: 0.3256 - val_accuracy: 0.8857\n",
            "Epoch 68/70\n",
            "750/750 [==============================] - 2s 3ms/step - loss: 0.2267 - accuracy: 0.9198 - val_loss: 0.3216 - val_accuracy: 0.8863\n",
            "Epoch 69/70\n",
            "750/750 [==============================] - 3s 4ms/step - loss: 0.2243 - accuracy: 0.9212 - val_loss: 0.3310 - val_accuracy: 0.8843\n",
            "Epoch 70/70\n",
            "750/750 [==============================] - 3s 5ms/step - loss: 0.2221 - accuracy: 0.9223 - val_loss: 0.3172 - val_accuracy: 0.8890\n"
          ]
        }
      ]
    },
    {
      "cell_type": "code",
      "source": [
        "import matplotlib.pyplot as plt\n",
        "%matplotlib inline\n",
        "print(training.history.keys())"
      ],
      "metadata": {
        "id": "xdUQTlv2cWjj",
        "colab": {
          "base_uri": "https://localhost:8080/"
        },
        "outputId": "8caa4f66-4eee-4868-be39-939a30861505"
      },
      "execution_count": 18,
      "outputs": [
        {
          "output_type": "stream",
          "name": "stdout",
          "text": [
            "dict_keys(['loss', 'accuracy', 'val_loss', 'val_accuracy'])\n"
          ]
        }
      ]
    },
    {
      "cell_type": "code",
      "source": [
        "plt.plot(training.history['accuracy'])\n",
        "plt.plot(training.history['val_accuracy'])\n",
        "plt.title('model accuracy')\n",
        "plt.ylabel('accuracy')\n",
        "plt.xlabel('epoch')\n",
        "plt.legend(['train', 'test'], loc='upper left')\n",
        "plt.show()"
      ],
      "metadata": {
        "id": "UAFZZzhutVqh",
        "colab": {
          "base_uri": "https://localhost:8080/",
          "height": 472
        },
        "outputId": "15d32030-ede0-43bf-c5b2-74501a11cfa4"
      },
      "execution_count": 19,
      "outputs": [
        {
          "output_type": "display_data",
          "data": {
            "text/plain": [
              "<Figure size 640x480 with 1 Axes>"
            ],
            "image/png": "[encoded data removed]"
          },
          "metadata": {}
        }
      ]
    },
    {
      "cell_type": "code",
      "source": [
        "plt.plot(training.history['loss'])\n",
        "plt.plot(training.history['val_loss'])\n",
        "plt.title('model loss')\n",
        "plt.ylabel('loss')\n",
        "plt.xlabel('epoch')\n",
        "plt.legend(['train', 'test'], loc='upper left')\n",
        "plt.show()"
      ],
      "metadata": {
        "id": "uKV7ogFGtVs6",
        "colab": {
          "base_uri": "https://localhost:8080/",
          "height": 472
        },
        "outputId": "1080754f-5c9a-4ba8-9924-8631d2f5fb0b"
      },
      "execution_count": 20,
      "outputs": [
        {
          "output_type": "display_data",
          "data": {
            "text/plain": [
              "<Figure size 640x480 with 1 Axes>"
            ],
            "image/png": "[encoded data removed]"
          },
          "metadata": {}
        }
      ]
    },
    {
      "cell_type": "code",
      "source": [
        "test_loss, test_acc = model_0.evaluate(X_test, Y_test)\n",
        "print('Test accuracy:', test_acc)"
      ],
      "metadata": {
        "id": "6j7_vMxLtVwY",
        "colab": {
          "base_uri": "https://localhost:8080/"
        },
        "outputId": "eb286155-a2c1-4dec-e3dc-2e2c3c0df02f"
      },
      "execution_count": 21,
      "outputs": [
        {
          "output_type": "stream",
          "name": "stdout",
          "text": [
            "313/313 [==============================] - 1s 2ms/step - loss: 0.3394 - accuracy: 0.8810\n",
            "Test accuracy: 0.8809999823570251\n"
          ]
        }
      ]
    },
    {
      "cell_type": "code",
      "source": [
        "model_0.summary()"
      ],
      "metadata": {
        "id": "cj4rrDiKcWnB",
        "colab": {
          "base_uri": "https://localhost:8080/"
        },
        "outputId": "89fe7ac7-15f1-4a52-e52d-c554b8eea1d6"
      },
      "execution_count": 22,
      "outputs": [
        {
          "output_type": "stream",
          "name": "stdout",
          "text": [
            "Model: \"sequential\"\n",
            "_________________________________________________________________\n",
            " Layer (type)                Output Shape              Param #   \n",
            "=================================================================\n",
            " flatten (Flatten)           (None, 784)               0         \n",
            "                                                                 \n",
            " dense_layer1 (Dense)        (None, 128)               100480    \n",
            "                                                                 \n",
            " dense_layer2 (Dense)        (None, 64)                8256      \n",
            "                                                                 \n",
            " dense_layer3 (Dense)        (None, 10)                650       \n",
            "                                                                 \n",
            "=================================================================\n",
            "Total params: 109386 (427.29 KB)\n",
            "Trainable params: 109386 (427.29 KB)\n",
            "Non-trainable params: 0 (0.00 Byte)\n",
            "_________________________________________________________________\n"
          ]
        }
      ]
    },
    {
      "cell_type": "code",
      "source": [
        "from tensorflow.keras.layers import Dropout\n",
        "\n",
        "model_2 = tf.keras.Sequential()\n",
        "N_hidden = 128"
      ],
      "metadata": {
        "id": "cZSs8i9Cx9cm"
      },
      "execution_count": 23,
      "outputs": []
    },
    {
      "cell_type": "code",
      "source": [
        "model_2.add(Dense (N_hidden, name='dense_layer', input_shape=(784,), activation = 'relu' ))\n",
        "model_2.add(Dropout (0.3))"
      ],
      "metadata": {
        "id": "T_Xkc8w9x9fI"
      },
      "execution_count": 24,
      "outputs": []
    },
    {
      "cell_type": "code",
      "source": [
        "model_2.add(Dense (64, name='dense_layer_2', activation='relu'))\n",
        "model_2.add(Dropout(0.3))"
      ],
      "metadata": {
        "id": "Mlqg4aWZyun9"
      },
      "execution_count": 25,
      "outputs": []
    },
    {
      "cell_type": "code",
      "source": [
        "model_2.add(Dense (10, name='dense_layer_3', activation = 'softmax'))"
      ],
      "metadata": {
        "id": "ra-aPjwfyurT"
      },
      "execution_count": 26,
      "outputs": []
    },
    {
      "cell_type": "code",
      "source": [
        "model_2.compile(optimizer='SGD', loss='categorical_crossentropy', metrics=['accuracy'])"
      ],
      "metadata": {
        "id": "kzB4jBBxx9hd"
      },
      "execution_count": 27,
      "outputs": []
    },
    {
      "cell_type": "code",
      "source": [
        "training = model_2.fit(X_train, Y_train, batch_size=64, epochs=50, validation_split=0.2)"
      ],
      "metadata": {
        "colab": {
          "base_uri": "https://localhost:8080/"
        },
        "id": "XZ8yR8nFzAJi",
        "outputId": "15009537-7324-4999-ccbe-5c5f7cc8014d"
      },
      "execution_count": 28,
      "outputs": [
        {
          "output_type": "stream",
          "name": "stdout",
          "text": [
            "Epoch 1/50\n",
            "750/750 [==============================] - 5s 4ms/step - loss: 1.3231 - accuracy: 0.5447 - val_loss: 0.7687 - val_accuracy: 0.7215\n",
            "Epoch 2/50\n",
            "750/750 [==============================] - 3s 4ms/step - loss: 0.8610 - accuracy: 0.6964 - val_loss: 0.6402 - val_accuracy: 0.7752\n",
            "Epoch 3/50\n",
            "750/750 [==============================] - 2s 3ms/step - loss: 0.7362 - accuracy: 0.7429 - val_loss: 0.5724 - val_accuracy: 0.8048\n",
            "Epoch 4/50\n",
            "750/750 [==============================] - 2s 3ms/step - loss: 0.6680 - accuracy: 0.7672 - val_loss: 0.5323 - val_accuracy: 0.8132\n",
            "Epoch 5/50\n",
            "750/750 [==============================] - 3s 3ms/step - loss: 0.6253 - accuracy: 0.7832 - val_loss: 0.5063 - val_accuracy: 0.8221\n",
            "Epoch 6/50\n",
            "750/750 [==============================] - 3s 4ms/step - loss: 0.5891 - accuracy: 0.7931 - val_loss: 0.4856 - val_accuracy: 0.8277\n",
            "Epoch 7/50\n",
            "750/750 [==============================] - 3s 3ms/step - loss: 0.5682 - accuracy: 0.8023 - val_loss: 0.4707 - val_accuracy: 0.8309\n",
            "Epoch 8/50\n",
            "750/750 [==============================] - 3s 3ms/step - loss: 0.5468 - accuracy: 0.8094 - val_loss: 0.4584 - val_accuracy: 0.8360\n",
            "Epoch 9/50\n",
            "750/750 [==============================] - 2s 3ms/step - loss: 0.5301 - accuracy: 0.8150 - val_loss: 0.4458 - val_accuracy: 0.8404\n",
            "Epoch 10/50\n",
            "750/750 [==============================] - 3s 4ms/step - loss: 0.5164 - accuracy: 0.8201 - val_loss: 0.4407 - val_accuracy: 0.8404\n",
            "Epoch 11/50\n",
            "750/750 [==============================] - 3s 4ms/step - loss: 0.5018 - accuracy: 0.8233 - val_loss: 0.4302 - val_accuracy: 0.8443\n",
            "Epoch 12/50\n",
            "750/750 [==============================] - 3s 4ms/step - loss: 0.4922 - accuracy: 0.8279 - val_loss: 0.4218 - val_accuracy: 0.8478\n",
            "Epoch 13/50\n",
            "750/750 [==============================] - 3s 3ms/step - loss: 0.4852 - accuracy: 0.8299 - val_loss: 0.4152 - val_accuracy: 0.8496\n",
            "Epoch 14/50\n",
            "750/750 [==============================] - 2s 3ms/step - loss: 0.4764 - accuracy: 0.8332 - val_loss: 0.4102 - val_accuracy: 0.8512\n",
            "Epoch 15/50\n",
            "750/750 [==============================] - 3s 4ms/step - loss: 0.4672 - accuracy: 0.8361 - val_loss: 0.4054 - val_accuracy: 0.8537\n",
            "Epoch 16/50\n",
            "750/750 [==============================] - 2s 3ms/step - loss: 0.4604 - accuracy: 0.8374 - val_loss: 0.4002 - val_accuracy: 0.8543\n",
            "Epoch 17/50\n",
            "750/750 [==============================] - 2s 3ms/step - loss: 0.4540 - accuracy: 0.8412 - val_loss: 0.3964 - val_accuracy: 0.8587\n",
            "Epoch 18/50\n",
            "750/750 [==============================] - 2s 3ms/step - loss: 0.4483 - accuracy: 0.8414 - val_loss: 0.3922 - val_accuracy: 0.8587\n",
            "Epoch 19/50\n",
            "750/750 [==============================] - 3s 4ms/step - loss: 0.4440 - accuracy: 0.8456 - val_loss: 0.3890 - val_accuracy: 0.8602\n",
            "Epoch 20/50\n",
            "750/750 [==============================] - 3s 4ms/step - loss: 0.4394 - accuracy: 0.8470 - val_loss: 0.3860 - val_accuracy: 0.8610\n",
            "Epoch 21/50\n",
            "750/750 [==============================] - 3s 4ms/step - loss: 0.4321 - accuracy: 0.8482 - val_loss: 0.3823 - val_accuracy: 0.8633\n",
            "Epoch 22/50\n",
            "750/750 [==============================] - 3s 4ms/step - loss: 0.4271 - accuracy: 0.8491 - val_loss: 0.3790 - val_accuracy: 0.8636\n",
            "Epoch 23/50\n",
            "750/750 [==============================] - 3s 4ms/step - loss: 0.4246 - accuracy: 0.8509 - val_loss: 0.3782 - val_accuracy: 0.8637\n",
            "Epoch 24/50\n",
            "750/750 [==============================] - 3s 4ms/step - loss: 0.4208 - accuracy: 0.8528 - val_loss: 0.3743 - val_accuracy: 0.8652\n",
            "Epoch 25/50\n",
            "750/750 [==============================] - 3s 4ms/step - loss: 0.4165 - accuracy: 0.8536 - val_loss: 0.3721 - val_accuracy: 0.8648\n",
            "Epoch 26/50\n",
            "750/750 [==============================] - 3s 4ms/step - loss: 0.4110 - accuracy: 0.8556 - val_loss: 0.3712 - val_accuracy: 0.8651\n",
            "Epoch 27/50\n",
            "750/750 [==============================] - 3s 4ms/step - loss: 0.4112 - accuracy: 0.8558 - val_loss: 0.3670 - val_accuracy: 0.8673\n",
            "Epoch 28/50\n",
            "750/750 [==============================] - 3s 4ms/step - loss: 0.4054 - accuracy: 0.8573 - val_loss: 0.3628 - val_accuracy: 0.8690\n",
            "Epoch 29/50\n",
            "750/750 [==============================] - 3s 4ms/step - loss: 0.4024 - accuracy: 0.8587 - val_loss: 0.3634 - val_accuracy: 0.8696\n",
            "Epoch 30/50\n",
            "750/750 [==============================] - 2s 3ms/step - loss: 0.3990 - accuracy: 0.8586 - val_loss: 0.3596 - val_accuracy: 0.8719\n",
            "Epoch 31/50\n",
            "750/750 [==============================] - 2s 3ms/step - loss: 0.3938 - accuracy: 0.8604 - val_loss: 0.3638 - val_accuracy: 0.8670\n",
            "Epoch 32/50\n",
            "750/750 [==============================] - 3s 4ms/step - loss: 0.3919 - accuracy: 0.8604 - val_loss: 0.3556 - val_accuracy: 0.8722\n",
            "Epoch 33/50\n",
            "750/750 [==============================] - 3s 4ms/step - loss: 0.3880 - accuracy: 0.8612 - val_loss: 0.3541 - val_accuracy: 0.8724\n",
            "Epoch 34/50\n",
            "750/750 [==============================] - 3s 4ms/step - loss: 0.3881 - accuracy: 0.8631 - val_loss: 0.3547 - val_accuracy: 0.8719\n",
            "Epoch 35/50\n",
            "750/750 [==============================] - 2s 3ms/step - loss: 0.3855 - accuracy: 0.8630 - val_loss: 0.3539 - val_accuracy: 0.8728\n",
            "Epoch 36/50\n",
            "750/750 [==============================] - 3s 4ms/step - loss: 0.3815 - accuracy: 0.8664 - val_loss: 0.3497 - val_accuracy: 0.8733\n",
            "Epoch 37/50\n",
            "750/750 [==============================] - 3s 4ms/step - loss: 0.3813 - accuracy: 0.8646 - val_loss: 0.3494 - val_accuracy: 0.8748\n",
            "Epoch 38/50\n",
            "750/750 [==============================] - 3s 4ms/step - loss: 0.3789 - accuracy: 0.8662 - val_loss: 0.3512 - val_accuracy: 0.8737\n",
            "Epoch 39/50\n",
            "750/750 [==============================] - 3s 4ms/step - loss: 0.3762 - accuracy: 0.8665 - val_loss: 0.3451 - val_accuracy: 0.8763\n",
            "Epoch 40/50\n",
            "750/750 [==============================] - 3s 4ms/step - loss: 0.3719 - accuracy: 0.8684 - val_loss: 0.3439 - val_accuracy: 0.8753\n",
            "Epoch 41/50\n",
            "750/750 [==============================] - 3s 4ms/step - loss: 0.3725 - accuracy: 0.8676 - val_loss: 0.3445 - val_accuracy: 0.8777\n",
            "Epoch 42/50\n",
            "750/750 [==============================] - 3s 3ms/step - loss: 0.3695 - accuracy: 0.8678 - val_loss: 0.3459 - val_accuracy: 0.8781\n",
            "Epoch 43/50\n",
            "750/750 [==============================] - 2s 3ms/step - loss: 0.3660 - accuracy: 0.8689 - val_loss: 0.3502 - val_accuracy: 0.8730\n",
            "Epoch 44/50\n",
            "750/750 [==============================] - 3s 3ms/step - loss: 0.3638 - accuracy: 0.8706 - val_loss: 0.3404 - val_accuracy: 0.8783\n",
            "Epoch 45/50\n",
            "750/750 [==============================] - 3s 4ms/step - loss: 0.3612 - accuracy: 0.8725 - val_loss: 0.3425 - val_accuracy: 0.8773\n",
            "Epoch 46/50\n",
            "750/750 [==============================] - 3s 4ms/step - loss: 0.3578 - accuracy: 0.8721 - val_loss: 0.3396 - val_accuracy: 0.8785\n",
            "Epoch 47/50\n",
            "750/750 [==============================] - 3s 4ms/step - loss: 0.3565 - accuracy: 0.8733 - val_loss: 0.3381 - val_accuracy: 0.8788\n",
            "Epoch 48/50\n",
            "750/750 [==============================] - 3s 4ms/step - loss: 0.3571 - accuracy: 0.8727 - val_loss: 0.3369 - val_accuracy: 0.8798\n",
            "Epoch 49/50\n",
            "750/750 [==============================] - 3s 4ms/step - loss: 0.3563 - accuracy: 0.8740 - val_loss: 0.3346 - val_accuracy: 0.8812\n",
            "Epoch 50/50\n",
            "750/750 [==============================] - 3s 4ms/step - loss: 0.3521 - accuracy: 0.8746 - val_loss: 0.3347 - val_accuracy: 0.8802\n"
          ]
        }
      ]
    },
    {
      "cell_type": "code",
      "source": [
        "print(training.history.keys())"
      ],
      "metadata": {
        "colab": {
          "base_uri": "https://localhost:8080/"
        },
        "id": "82YHRWqtzAND",
        "outputId": "51c0f3e2-409e-430c-f987-9fbd32bb90b0"
      },
      "execution_count": 29,
      "outputs": [
        {
          "output_type": "stream",
          "name": "stdout",
          "text": [
            "dict_keys(['loss', 'accuracy', 'val_loss', 'val_accuracy'])\n"
          ]
        }
      ]
    },
    {
      "cell_type": "code",
      "source": [
        "plt.plot(training.history['accuracy'])\n",
        "plt.plot(training.history['val_accuracy'])\n",
        "plt.title('model accuracy')\n",
        "plt.ylabel('accuracy')\n",
        "plt.xlabel('epoch')\n",
        "plt.legend(['train', 'test'], loc='upper left')\n",
        "plt.show()"
      ],
      "metadata": {
        "colab": {
          "base_uri": "https://localhost:8080/",
          "height": 472
        },
        "id": "jgdOXVb_zaSS",
        "outputId": "7f0ecfc7-60f8-4284-ef0c-a5ba22e1bdbd"
      },
      "execution_count": 30,
      "outputs": [
        {
          "output_type": "display_data",
          "data": {
            "text/plain": [
              "<Figure size 640x480 with 1 Axes>"
            ],
            "image/png": "[encoded data removed]"
          },
          "metadata": {}
        }
      ]
    },
    {
      "cell_type": "code",
      "source": [
        "plt.plot(training.history['loss'])\n",
        "plt.plot(training.history['val_loss'])\n",
        "plt.title('model loss')\n",
        "plt.ylabel('loss')\n",
        "plt.xlabel('epoch')\n",
        "plt.legend(['train', 'test'], loc='upper left')\n",
        "plt.show()"
      ],
      "metadata": {
        "colab": {
          "base_uri": "https://localhost:8080/",
          "height": 472
        },
        "id": "pwLZX850zaUT",
        "outputId": "43f957a1-363e-4314-9a6a-cefb401a2379"
      },
      "execution_count": 31,
      "outputs": [
        {
          "output_type": "display_data",
          "data": {
            "text/plain": [
              "<Figure size 640x480 with 1 Axes>"
            ],
            "image/png": "[encoded data removed]"
          },
          "metadata": {}
        }
      ]
    },
    {
      "cell_type": "code",
      "source": [
        "model_2.weights[0]"
      ],
      "metadata": {
        "colab": {
          "base_uri": "https://localhost:8080/"
        },
        "id": "S16zN_ikzr0k",
        "outputId": "1c1cd13d-236b-4a42-be68-07efc3565ad1"
      },
      "execution_count": 32,
      "outputs": [
        {
          "output_type": "execute_result",
          "data": {
            "text/plain": [
              "<tf.Variable 'dense_layer/kernel:0' shape=(784, 128) dtype=float32, numpy=\n",
              "array([[ 0.0793657 , -0.06940009,  0.00803867, ...,  0.00524201,\n",
              "        -0.07270835, -0.02701195],\n",
              "       [ 0.07320512, -0.01821671, -0.00385211, ..., -0.05861746,\n",
              "         0.07753252,  0.07913241],\n",
              "       [-0.04153242, -0.02738059, -0.02450354, ..., -0.03214201,\n",
              "        -0.0359263 ,  0.01196245],\n",
              "       ...,\n",
              "       [ 0.06904264, -0.06438813,  0.05005557, ..., -0.06884333,\n",
              "        -0.0106047 , -0.01587436],\n",
              "       [ 0.02330174,  0.03898092, -0.03598616, ...,  0.03848194,\n",
              "        -0.01658778,  0.01583169],\n",
              "       [ 0.07141334, -0.0399258 , -0.03545928, ..., -0.00653116,\n",
              "        -0.03657798,  0.0485043 ]], dtype=float32)>"
            ]
          },
          "metadata": {},
          "execution_count": 32
        }
      ]
    },
    {
      "cell_type": "code",
      "source": [
        "test_loss, test_acc  = model_2.evaluate(X_test, Y_test)\n",
        "print('Test accuracy:', test_acc)"
      ],
      "metadata": {
        "colab": {
          "base_uri": "https://localhost:8080/"
        },
        "id": "PjUChtZXzr4B",
        "outputId": "79989156-6040-489b-8110-ee7b41d585ee"
      },
      "execution_count": 33,
      "outputs": [
        {
          "output_type": "stream",
          "name": "stdout",
          "text": [
            "313/313 [==============================] - 1s 2ms/step - loss: 0.3607 - accuracy: 0.8704\n",
            "Test accuracy: 0.8704000115394592\n"
          ]
        }
      ]
    },
    {
      "cell_type": "code",
      "source": [
        "model_2.summary()"
      ],
      "metadata": {
        "colab": {
          "base_uri": "https://localhost:8080/"
        },
        "id": "fpxdOpBRzaXp",
        "outputId": "ba4a4160-3289-4591-97cf-d59d1bc38e30"
      },
      "execution_count": 34,
      "outputs": [
        {
          "output_type": "stream",
          "name": "stdout",
          "text": [
            "Model: \"sequential_1\"\n",
            "_________________________________________________________________\n",
            " Layer (type)                Output Shape              Param #   \n",
            "=================================================================\n",
            " dense_layer (Dense)         (None, 128)               100480    \n",
            "                                                                 \n",
            " dropout (Dropout)           (None, 128)               0         \n",
            "                                                                 \n",
            " dense_layer_2 (Dense)       (None, 64)                8256      \n",
            "                                                                 \n",
            " dropout_1 (Dropout)         (None, 64)                0         \n",
            "                                                                 \n",
            " dense_layer_3 (Dense)       (None, 10)                650       \n",
            "                                                                 \n",
            "=================================================================\n",
            "Total params: 109386 (427.29 KB)\n",
            "Trainable params: 109386 (427.29 KB)\n",
            "Non-trainable params: 0 (0.00 Byte)\n",
            "_________________________________________________________________\n"
          ]
        }
      ]
    },
    {
      "cell_type": "code",
      "source": [
        "model_2.weights"
      ],
      "metadata": {
        "colab": {
          "base_uri": "https://localhost:8080/"
        },
        "id": "l3PLwpOC0La7",
        "outputId": "7a61cab0-9f72-4ddd-c8a2-5713676d362b"
      },
      "execution_count": 35,
      "outputs": [
        {
          "output_type": "execute_result",
          "data": {
            "text/plain": [
              "[<tf.Variable 'dense_layer/kernel:0' shape=(784, 128) dtype=float32, numpy=\n",
              " array([[ 0.0793657 , -0.06940009,  0.00803867, ...,  0.00524201,\n",
              "         -0.07270835, -0.02701195],\n",
              "        [ 0.07320512, -0.01821671, -0.00385211, ..., -0.05861746,\n",
              "          0.07753252,  0.07913241],\n",
              "        [-0.04153242, -0.02738059, -0.02450354, ..., -0.03214201,\n",
              "         -0.0359263 ,  0.01196245],\n",
              "        ...,\n",
              "        [ 0.06904264, -0.06438813,  0.05005557, ..., -0.06884333,\n",
              "         -0.0106047 , -0.01587436],\n",
              "        [ 0.02330174,  0.03898092, -0.03598616, ...,  0.03848194,\n",
              "         -0.01658778,  0.01583169],\n",
              "        [ 0.07141334, -0.0399258 , -0.03545928, ..., -0.00653116,\n",
              "         -0.03657798,  0.0485043 ]], dtype=float32)>,\n",
              " <tf.Variable 'dense_layer/bias:0' shape=(128,) dtype=float32, numpy=\n",
              " array([-6.81029707e-02,  2.58183461e-02,  3.57298069e-02, -1.34347126e-01,\n",
              "        -1.39180467e-01,  1.43997133e-01, -9.37444642e-02,  1.49092197e-01,\n",
              "        -2.43441418e-01,  5.37868403e-02,  2.70102043e-02,  4.65101868e-01,\n",
              "         1.76147774e-01, -1.52601395e-02,  1.50695052e-02,  1.31834731e-01,\n",
              "        -2.75378581e-02,  1.77830189e-01,  7.60595948e-02,  4.53959778e-03,\n",
              "        -2.77081281e-02,  1.06850758e-01,  8.06459039e-02, -7.57389190e-03,\n",
              "        -4.16487409e-03,  3.39507982e-02, -2.10569194e-03, -6.22660294e-02,\n",
              "         1.19618654e-01,  2.59028524e-01,  1.65876761e-01,  2.55197704e-01,\n",
              "        -4.32464574e-03,  1.66401379e-02, -1.18103363e-01, -7.47340694e-02,\n",
              "         4.13856357e-02,  1.47609934e-02,  1.35929972e-01,  1.00457653e-01,\n",
              "         1.26077039e-02,  4.01109383e-02, -5.43820001e-02,  1.91232324e-01,\n",
              "         1.53786112e-02,  1.73566833e-01,  3.90072130e-02, -3.15993303e-03,\n",
              "         1.70364395e-01, -9.29376669e-03, -3.76914620e-01,  5.84396580e-03,\n",
              "        -5.06457686e-02,  8.31387192e-03,  1.91304147e-01,  1.58875972e-01,\n",
              "         1.01930492e-01, -2.19307132e-02,  2.45999128e-01,  1.95870548e-01,\n",
              "         7.18298601e-03,  1.92286819e-02, -1.22881204e-01,  1.08985424e-01,\n",
              "         7.45878592e-02, -8.34035501e-02,  1.69346809e-01,  1.22513272e-01,\n",
              "        -8.89426023e-02,  1.17847465e-01,  1.26098633e-01,  3.50204781e-02,\n",
              "         5.74658774e-02, -1.91998318e-01,  2.44073480e-01, -8.12458843e-02,\n",
              "        -4.89583053e-02, -2.42372565e-02,  2.74215247e-02, -5.99247068e-02,\n",
              "        -8.20318516e-03,  1.55307680e-01,  1.10237762e-01, -4.41451967e-02,\n",
              "         1.09055161e-01,  2.01401576e-01,  1.85321309e-02,  9.78200957e-02,\n",
              "         7.56685212e-02,  1.50464773e-01,  1.64801463e-01,  1.69824660e-01,\n",
              "         2.18710139e-01,  6.23521991e-02,  6.76399544e-02, -1.20303258e-02,\n",
              "        -1.07236572e-01, -2.74262317e-02,  3.08417290e-01,  2.99694777e-01,\n",
              "         1.68324009e-01,  2.84450576e-02,  1.86350234e-02,  1.14974633e-01,\n",
              "        -1.37937188e-01,  1.29624277e-01, -1.42541379e-02,  9.49552655e-02,\n",
              "        -5.88935576e-02, -7.53172860e-02, -3.41596780e-03, -1.01906769e-01,\n",
              "         4.33330238e-02,  2.08436638e-01, -6.49776682e-02,  3.34005654e-01,\n",
              "         4.65208888e-02,  1.81182310e-01, -1.61376670e-02,  3.82148437e-02,\n",
              "        -1.35783508e-01,  5.53962812e-02,  1.33686721e-01, -1.37383724e-02,\n",
              "         9.51196160e-03, -3.17494720e-02,  3.45005770e-04, -2.56041557e-01],\n",
              "       dtype=float32)>,\n",
              " <tf.Variable 'dense_layer_2/kernel:0' shape=(128, 64) dtype=float32, numpy=\n",
              " array([[-0.11512768,  0.09398453,  0.0530998 , ...,  0.02232221,\n",
              "          0.13866635, -0.22113004],\n",
              "        [ 0.02147165, -0.07116804, -0.09483377, ..., -0.22454949,\n",
              "         -0.02309439, -0.24919474],\n",
              "        [-0.01652584, -0.09667774,  0.05400493, ...,  0.0287926 ,\n",
              "         -0.13323663,  0.1384975 ],\n",
              "        ...,\n",
              "        [ 0.0793073 ,  0.17853856,  0.16150424, ...,  0.06447045,\n",
              "          0.06395396,  0.09071728],\n",
              "        [-0.06782862,  0.0213187 ,  0.05062178, ..., -0.0798893 ,\n",
              "         -0.00766809, -0.16064128],\n",
              "        [ 0.2825308 ,  0.09145845, -0.05134314, ..., -0.08744065,\n",
              "         -0.13335979,  0.18047002]], dtype=float32)>,\n",
              " <tf.Variable 'dense_layer_2/bias:0' shape=(64,) dtype=float32, numpy=\n",
              " array([-0.02086954,  0.00302123,  0.15260562, -0.02549153,  0.08980235,\n",
              "         0.06553102,  0.05986125,  0.30374965,  0.12538207,  0.10796491,\n",
              "         0.14380112,  0.13078883,  0.01635594,  0.3129845 ,  0.0278112 ,\n",
              "         0.17447177,  0.2613973 ,  0.11319099,  0.28050226,  0.2736751 ,\n",
              "         0.20202687,  0.07094901,  0.07643349,  0.07610664,  0.1111441 ,\n",
              "        -0.07153359,  0.02034002,  0.11483513, -0.01445875,  0.03656334,\n",
              "         0.11678582,  0.21861148,  0.00479484,  0.07290105,  0.07402178,\n",
              "         0.09816787,  0.09368761, -0.05082741, -0.02080424,  0.06042774,\n",
              "         0.18546616,  0.04831409,  0.04936263,  0.03522648,  0.12853025,\n",
              "        -0.01434875,  0.0026651 ,  0.2115749 ,  0.09856553,  0.09929279,\n",
              "         0.12934668,  0.15368755, -0.05896194,  0.17111495,  0.19124433,\n",
              "         0.29727653,  0.12882559,  0.18191975,  0.08945538,  0.18570273,\n",
              "         0.08187563,  0.09352768,  0.01075135,  0.18108328], dtype=float32)>,\n",
              " <tf.Variable 'dense_layer_3/kernel:0' shape=(64, 10) dtype=float32, numpy=\n",
              " array([[ 0.27682734,  0.4179241 ,  0.39106962, -0.2522139 , -0.03513987,\n",
              "          0.01583728, -0.26979598, -0.3363266 ,  0.18805604,  0.3542815 ],\n",
              "        [ 0.05487368, -0.00955947,  0.3687259 , -0.32928953,  0.2537202 ,\n",
              "         -0.48247454, -0.10393269, -0.13295935, -0.44692045,  0.07048645],\n",
              "        [-0.37873548, -0.2318618 ,  0.38358086, -0.06965993,  0.4037874 ,\n",
              "         -0.41625988,  0.4088753 , -0.25639397, -0.35681152, -0.39072397],\n",
              "        [ 0.04327406, -0.2050247 ,  0.14601874, -0.03385191,  0.00185914,\n",
              "         -0.07909319, -0.02331552, -0.20182155,  0.06094558, -0.14842865],\n",
              "        [ 0.33591008, -0.47321534, -0.15866028,  0.24715015, -0.18576251,\n",
              "          0.10217259,  0.17450915,  0.41701978,  0.5071326 ,  0.40186614],\n",
              "        [-0.07263757,  0.12563635,  0.27817288,  0.3475575 ,  0.36569494,\n",
              "         -0.38196862, -0.41973567,  0.29047593,  0.20900723,  0.22862695],\n",
              "        [ 0.09124879,  0.2030251 , -0.08874586,  0.3340051 , -0.20114647,\n",
              "         -0.44784668, -0.32852787,  0.05261157,  0.40979663,  0.2683872 ],\n",
              "        [ 0.15162908, -0.35616186,  0.38563713,  0.33638835,  0.34820285,\n",
              "         -0.10845495,  0.36282867, -0.54185647, -0.40842715, -0.37517244],\n",
              "        [-0.30043662, -0.44167778,  0.3987124 ,  0.26125005,  0.05277045,\n",
              "         -0.16432594, -0.3575548 , -0.43337706, -0.07403018, -0.18063565],\n",
              "        [ 0.06574897,  0.15787567, -0.102539  , -0.0166491 ,  0.07603957,\n",
              "          0.2595829 , -0.29593873,  0.1887447 , -0.2959743 , -0.18209739],\n",
              "        [ 0.39155445, -0.27210593, -0.16232893, -0.20675589, -0.10428346,\n",
              "          0.43805894,  0.06305764,  0.24924962,  0.45333236, -0.4771357 ],\n",
              "        [ 0.42140347, -0.16359201,  0.15089518,  0.2834479 , -0.45707697,\n",
              "         -0.31227407,  0.40133536, -0.25901917,  0.4620332 ,  0.00172028],\n",
              "        [-0.21554324,  0.23062558, -0.13030486, -0.18237688,  0.11809171,\n",
              "         -0.48979175, -0.28228977,  0.19720249, -0.01927313,  0.18499029],\n",
              "        [ 0.28106186, -0.30582073,  0.22441034,  0.3139296 ,  0.3191695 ,\n",
              "         -0.39777207,  0.32022777, -0.48778313,  0.18417737, -0.4710436 ],\n",
              "        [ 0.05850633, -0.04886616, -0.26551303,  0.35122666,  0.18731366,\n",
              "          0.00122065,  0.56209755,  0.02308941, -0.12916876,  0.20494792],\n",
              "        [ 0.3190622 , -0.01324187,  0.0293324 , -0.43900728, -0.39311   ,\n",
              "          0.26482302,  0.3021316 ,  0.42483768,  0.31278747, -0.28935355],\n",
              "        [-0.17310846, -0.2963493 ,  0.3213766 , -0.477251  , -0.44623622,\n",
              "          0.32454786, -0.29281384,  0.33181053,  0.23202193,  0.3255067 ],\n",
              "        [ 0.44980532,  0.4205857 , -0.24972269,  0.38123047, -0.178868  ,\n",
              "         -0.26678577,  0.4100314 , -0.38091704,  0.00377311, -0.46232662],\n",
              "        [ 0.06061325,  0.07330974,  0.24170488, -0.3877926 ,  0.09679168,\n",
              "          0.2972875 ,  0.34579772,  0.3496424 , -0.5291642 , -0.15414329],\n",
              "        [-0.0349571 , -0.06850573,  0.3457273 ,  0.40535548, -0.36039752,\n",
              "         -0.37602842,  0.4600409 , -0.02811505, -0.21223864, -0.25614586],\n",
              "        [ 0.37551272,  0.23405777, -0.33808786,  0.3290609 ,  0.04615964,\n",
              "         -0.4321574 ,  0.35851887, -0.08382119, -0.4685404 , -0.48621228],\n",
              "        [-0.26927558, -0.23348534, -0.32894343,  0.150262  , -0.35783944,\n",
              "          0.2523756 ,  0.00535135,  0.38857237, -0.23369272,  0.3908935 ],\n",
              "        [-0.18017583, -0.07012611,  0.2228545 , -0.46779504,  0.24456102,\n",
              "         -0.3583303 ,  0.2486293 , -0.16398472,  0.31550783,  0.18585591],\n",
              "        [ 0.22975542,  0.32677066, -0.0821577 ,  0.32929403, -0.30653223,\n",
              "          0.37084207, -0.29233983, -0.28520823, -0.16085854,  0.30494264],\n",
              "        [ 0.07094595, -0.29763377, -0.39294824, -0.11598191,  0.09463926,\n",
              "         -0.02542662, -0.2731913 ,  0.36503628, -0.26081705, -0.17028801],\n",
              "        [-0.34436882,  0.26172823, -0.3130955 , -0.24902396,  0.01018017,\n",
              "         -0.40767577,  0.10577903,  0.428754  , -0.07590172,  0.39177352],\n",
              "        [-0.23382698,  0.12542859,  0.02018312, -0.3086485 , -0.36986065,\n",
              "          0.23581074, -0.03049823,  0.4097963 , -0.3941313 ,  0.39471373],\n",
              "        [-0.14333948, -0.2907608 , -0.19846198, -0.14041823, -0.34359577,\n",
              "          0.48467523, -0.3073135 ,  0.4976364 , -0.3850711 ,  0.5210735 ],\n",
              "        [-0.29112786, -0.3484339 , -0.02014167, -0.32728314, -0.2928965 ,\n",
              "         -0.21360765, -0.3008578 , -0.22244063,  0.24514855,  0.34017506],\n",
              "        [-0.42550576, -0.01496402, -0.32979405, -0.26405972,  0.30210114,\n",
              "         -0.10161328,  0.12199557,  0.40050957,  0.17175208, -0.07096291],\n",
              "        [ 0.03485348,  0.4166454 , -0.26412666,  0.32598472, -0.2940592 ,\n",
              "          0.37382865, -0.34099045, -0.2943468 , -0.02466985, -0.21278562],\n",
              "        [ 0.31665102, -0.3911991 ,  0.37507486, -0.45286274,  0.04274962,\n",
              "          0.3122039 ,  0.30860376, -0.45175436, -0.46927705,  0.17930003],\n",
              "        [-0.21415159,  0.44629535, -0.18618937, -0.03761123, -0.33686224,\n",
              "          0.42806607, -0.0396405 , -0.19423845, -0.02360451, -0.3183987 ],\n",
              "        [ 0.08669209,  0.2753612 , -0.11546532, -0.12192246, -0.2760301 ,\n",
              "          0.37477002, -0.10142969, -0.1756902 ,  0.25853145,  0.30818608],\n",
              "        [ 0.16254811,  0.32345968, -0.29262576, -0.02561865, -0.26887223,\n",
              "          0.17153522, -0.24810272, -0.00350897, -0.1918152 , -0.32238257],\n",
              "        [-0.14489408,  0.48863295,  0.28491634,  0.49793056,  0.44444132,\n",
              "          0.05437979, -0.2606074 , -0.14119846, -0.26340815, -0.07027844],\n",
              "        [-0.02357828, -0.04596941, -0.22296602, -0.01195983,  0.12715632,\n",
              "          0.23286876, -0.2131515 ,  0.39968777,  0.23132628,  0.17952769],\n",
              "        [ 0.25847206,  0.02471369, -0.06098007, -0.14360584, -0.13977548,\n",
              "         -0.16393603,  0.08135884, -0.06736659, -0.04753269,  0.05315946],\n",
              "        [-0.2035881 , -0.01163403, -0.28602988, -0.09371303,  0.29912943,\n",
              "          0.18877673, -0.118562  , -0.34424934,  0.11254393, -0.0150088 ],\n",
              "        [-0.17123848,  0.2263959 ,  0.10432179,  0.29840258,  0.05783968,\n",
              "         -0.09805737, -0.3042733 , -0.2770037 ,  0.22517799,  0.4112781 ],\n",
              "        [ 0.16347308,  0.24276087,  0.35312268,  0.22416689, -0.38753748,\n",
              "         -0.31808457, -0.10969681, -0.40330884, -0.40541485, -0.09976341],\n",
              "        [ 0.4731359 , -0.3105467 , -0.02103024, -0.18688683, -0.1660625 ,\n",
              "          0.2805517 , -0.19439743, -0.3153628 , -0.14866738,  0.40452904],\n",
              "        [ 0.3949179 , -0.2378455 ,  0.04741408, -0.35556465, -0.4701378 ,\n",
              "          0.07609708,  0.37113613, -0.02602925, -0.14496197,  0.3581808 ],\n",
              "        [ 0.07140943,  0.1153189 , -0.1506697 ,  0.2779811 ,  0.3000205 ,\n",
              "         -0.5729373 ,  0.05118926, -0.260305  , -0.4867683 ,  0.01208188],\n",
              "        [-0.53912127, -0.41070965, -0.12465682,  0.3483337 ,  0.29087898,\n",
              "          0.3685802 , -0.30946258,  0.40012693, -0.2899038 ,  0.40500125],\n",
              "        [-0.08469326,  0.34671956, -0.35826245, -0.13898163,  0.01612133,\n",
              "         -0.15140587, -0.19764939,  0.3386463 ,  0.4897411 ,  0.2250569 ],\n",
              "        [-0.09774807,  0.01944537, -0.32424942, -0.2854413 , -0.34796205,\n",
              "          0.37842387, -0.01221823, -0.22501205,  0.37175998,  0.29497993],\n",
              "        [ 0.33861327, -0.1399079 ,  0.35174045, -0.01973805,  0.36282793,\n",
              "         -0.5819081 ,  0.3621188 , -0.45649412,  0.07883243, -0.4363413 ],\n",
              "        [-0.08070209,  0.34635767,  0.41730222, -0.18755676,  0.40146035,\n",
              "         -0.25005546,  0.32064766, -0.1445836 ,  0.14477806, -0.05307631],\n",
              "        [-0.03046549,  0.03299509, -0.0763201 , -0.31393513, -0.20396014,\n",
              "         -0.11171912,  0.20149808,  0.2538294 , -0.2186841 ,  0.27331892],\n",
              "        [-0.4514533 ,  0.36749816,  0.3692185 , -0.13216932,  0.35200548,\n",
              "         -0.5154661 ,  0.03660106,  0.28241983,  0.10595866, -0.47534886],\n",
              "        [ 0.22672175,  0.0286878 ,  0.17425841, -0.23834641, -0.0221448 ,\n",
              "          0.14073808,  0.12376368, -0.38068444,  0.17862147, -0.1554318 ],\n",
              "        [ 0.22553861,  0.45313406, -0.26524982, -0.02276748,  0.3407476 ,\n",
              "         -0.46583962,  0.21120994, -0.28241885,  0.30079934, -0.03580983],\n",
              "        [-0.22639441, -0.21130341, -0.20338626, -0.3385867 , -0.22206555,\n",
              "          0.47085392, -0.44372728,  0.48825738,  0.40548536, -0.16850367],\n",
              "        [ 0.35867605, -0.51512074, -0.28168505,  0.2400327 , -0.39136612,\n",
              "         -0.17626926,  0.3608076 ,  0.22213058,  0.34904125, -0.17788334],\n",
              "        [ 0.3476416 ,  0.222815  ,  0.33238196,  0.33166656,  0.34441352,\n",
              "         -0.6551053 ,  0.34843203, -0.23568024, -0.31211388, -0.29251745],\n",
              "        [ 0.19267721,  0.03743309,  0.01051211,  0.05295126,  0.12486482,\n",
              "          0.5725986 , -0.00738429,  0.229488  , -0.23057507, -0.15939344],\n",
              "        [-0.4869071 ,  0.04381174, -0.43118575,  0.17725648,  0.03618381,\n",
              "          0.40773833, -0.14587627,  0.1916169 ,  0.4259974 , -0.4210146 ],\n",
              "        [-0.43042463,  0.00097082, -0.40722492,  0.31451786,  0.32793584,\n",
              "          0.45494124, -0.36073777, -0.17935939,  0.27955237,  0.20029971],\n",
              "        [-0.19154473, -0.18787517,  0.3700098 , -0.05099517,  0.3966937 ,\n",
              "          0.3479885 ,  0.32990137, -0.56723124,  0.3143106 , -0.5365804 ],\n",
              "        [ 0.41513774,  0.46217453, -0.14667526,  0.3641261 , -0.36672622,\n",
              "         -0.11683882,  0.14281577, -0.3961051 ,  0.06785077,  0.02997317],\n",
              "        [-0.04039621, -0.40939012, -0.19647671,  0.22060302,  0.33094928,\n",
              "         -0.09617691,  0.36535108, -0.46509394,  0.37246802, -0.2720187 ],\n",
              "        [-0.10665769,  0.44341743, -0.22215788, -0.27876928, -0.24483775,\n",
              "          0.3108793 , -0.16435112,  0.47233057, -0.29594386,  0.4766066 ],\n",
              "        [ 0.31685933, -0.2534957 ,  0.32135677, -0.1429794 ,  0.3474054 ,\n",
              "         -0.51406074,  0.33182502, -0.3149556 ,  0.34195042, -0.2843106 ]],\n",
              "       dtype=float32)>,\n",
              " <tf.Variable 'dense_layer_3/bias:0' shape=(10,) dtype=float32, numpy=\n",
              " array([-0.03241848, -0.34393188,  0.3235765 ,  0.316345  , -0.09280758,\n",
              "         0.34611163,  0.17243342,  0.04711218, -0.22512287, -0.51130646],\n",
              "       dtype=float32)>]"
            ]
          },
          "metadata": {},
          "execution_count": 35
        }
      ]
    },
    {
      "cell_type": "code",
      "source": [
        "model_3 = tf.keras.Sequential()\n",
        "N_hidden = 64"
      ],
      "metadata": {
        "id": "jpAHz_b10Lea"
      },
      "execution_count": 36,
      "outputs": []
    },
    {
      "cell_type": "code",
      "source": [
        "model_3.add(Dense (N_hidden, name='dense_layer', input_shape=(784,), activation = 'relu'))"
      ],
      "metadata": {
        "id": "l_H4Wyomx9k_"
      },
      "execution_count": 37,
      "outputs": []
    },
    {
      "cell_type": "code",
      "source": [
        "model_3.add(Dropout(0.3))"
      ],
      "metadata": {
        "id": "ory8qCEC1JM4"
      },
      "execution_count": 38,
      "outputs": []
    },
    {
      "cell_type": "code",
      "source": [
        "model_3.add(Dense (N_hidden, name='dense_layer_2', activation='relu'))"
      ],
      "metadata": {
        "id": "2Px6bLMj09_j"
      },
      "execution_count": 39,
      "outputs": []
    },
    {
      "cell_type": "code",
      "source": [
        "model_3.add(Dropout(0.3))"
      ],
      "metadata": {
        "id": "XDRNwQIM1Pb8"
      },
      "execution_count": 40,
      "outputs": []
    },
    {
      "cell_type": "code",
      "source": [
        "model_3.add(Dense (10, name='dense_layer_3', activation = 'softmax'))"
      ],
      "metadata": {
        "id": "X_zKL0ZT1RgL"
      },
      "execution_count": 41,
      "outputs": []
    },
    {
      "cell_type": "code",
      "source": [
        "model_3.compile(optimizer='Adam', loss='categorical_crossentropy', metrics=['accuracy'])"
      ],
      "metadata": {
        "id": "uIHU-N6t1UGs"
      },
      "execution_count": 42,
      "outputs": []
    },
    {
      "cell_type": "code",
      "source": [
        "training = model_3.fit(X_train, Y_train, batch_size=128, epochs=20, validation_split=0.2)"
      ],
      "metadata": {
        "colab": {
          "base_uri": "https://localhost:8080/"
        },
        "id": "t9IhHl_41kWY",
        "outputId": "b47faf50-341f-4c00-e2c2-694f298b56a2"
      },
      "execution_count": 43,
      "outputs": [
        {
          "output_type": "stream",
          "name": "stdout",
          "text": [
            "Epoch 1/20\n",
            "375/375 [==============================] - 3s 4ms/step - loss: 0.8397 - accuracy: 0.6980 - val_loss: 0.4788 - val_accuracy: 0.8292\n",
            "Epoch 2/20\n",
            "375/375 [==============================] - 1s 3ms/step - loss: 0.5434 - accuracy: 0.8070 - val_loss: 0.4180 - val_accuracy: 0.8474\n",
            "Epoch 3/20\n",
            "375/375 [==============================] - 2s 5ms/step - loss: 0.4862 - accuracy: 0.8274 - val_loss: 0.4019 - val_accuracy: 0.8532\n",
            "Epoch 4/20\n",
            "375/375 [==============================] - 2s 4ms/step - loss: 0.4540 - accuracy: 0.8372 - val_loss: 0.3843 - val_accuracy: 0.8597\n",
            "Epoch 5/20\n",
            "375/375 [==============================] - 1s 4ms/step - loss: 0.4363 - accuracy: 0.8440 - val_loss: 0.3731 - val_accuracy: 0.8637\n",
            "Epoch 6/20\n",
            "375/375 [==============================] - 1s 3ms/step - loss: 0.4176 - accuracy: 0.8497 - val_loss: 0.3665 - val_accuracy: 0.8635\n",
            "Epoch 7/20\n",
            "375/375 [==============================] - 1s 4ms/step - loss: 0.4080 - accuracy: 0.8541 - val_loss: 0.3619 - val_accuracy: 0.8680\n",
            "Epoch 8/20\n",
            "375/375 [==============================] - 1s 4ms/step - loss: 0.4015 - accuracy: 0.8541 - val_loss: 0.3654 - val_accuracy: 0.8692\n",
            "Epoch 9/20\n",
            "375/375 [==============================] - 1s 4ms/step - loss: 0.3950 - accuracy: 0.8573 - val_loss: 0.3535 - val_accuracy: 0.8717\n",
            "Epoch 10/20\n",
            "375/375 [==============================] - 1s 4ms/step - loss: 0.3868 - accuracy: 0.8596 - val_loss: 0.3639 - val_accuracy: 0.8654\n",
            "Epoch 11/20\n",
            "375/375 [==============================] - 2s 5ms/step - loss: 0.3782 - accuracy: 0.8623 - val_loss: 0.3461 - val_accuracy: 0.8732\n",
            "Epoch 12/20\n",
            "375/375 [==============================] - 1s 4ms/step - loss: 0.3755 - accuracy: 0.8653 - val_loss: 0.3499 - val_accuracy: 0.8742\n",
            "Epoch 13/20\n",
            "375/375 [==============================] - 1s 4ms/step - loss: 0.3676 - accuracy: 0.8661 - val_loss: 0.3513 - val_accuracy: 0.8726\n",
            "Epoch 14/20\n",
            "375/375 [==============================] - 1s 4ms/step - loss: 0.3640 - accuracy: 0.8669 - val_loss: 0.3438 - val_accuracy: 0.8763\n",
            "Epoch 15/20\n",
            "375/375 [==============================] - 1s 4ms/step - loss: 0.3558 - accuracy: 0.8704 - val_loss: 0.3379 - val_accuracy: 0.8753\n",
            "Epoch 16/20\n",
            "375/375 [==============================] - 1s 3ms/step - loss: 0.3568 - accuracy: 0.8717 - val_loss: 0.3594 - val_accuracy: 0.8735\n",
            "Epoch 17/20\n",
            "375/375 [==============================] - 1s 4ms/step - loss: 0.3507 - accuracy: 0.8718 - val_loss: 0.3373 - val_accuracy: 0.8807\n",
            "Epoch 18/20\n",
            "375/375 [==============================] - 1s 4ms/step - loss: 0.3467 - accuracy: 0.8739 - val_loss: 0.3351 - val_accuracy: 0.8773\n",
            "Epoch 19/20\n",
            "375/375 [==============================] - 2s 4ms/step - loss: 0.3421 - accuracy: 0.8750 - val_loss: 0.3312 - val_accuracy: 0.8788\n",
            "Epoch 20/20\n",
            "375/375 [==============================] - 2s 5ms/step - loss: 0.3418 - accuracy: 0.8747 - val_loss: 0.3347 - val_accuracy: 0.8803\n"
          ]
        }
      ]
    },
    {
      "cell_type": "code",
      "source": [
        "print(training.history.keys())"
      ],
      "metadata": {
        "colab": {
          "base_uri": "https://localhost:8080/"
        },
        "id": "bP2D_9hs1sdH",
        "outputId": "ec69481c-dafc-44d5-e149-96c42c68f792"
      },
      "execution_count": 44,
      "outputs": [
        {
          "output_type": "stream",
          "name": "stdout",
          "text": [
            "dict_keys(['loss', 'accuracy', 'val_loss', 'val_accuracy'])\n"
          ]
        }
      ]
    },
    {
      "cell_type": "code",
      "source": [
        "plt.plot(training.history['accuracy'])\n",
        "plt.plot(training.history['val_accuracy'])\n",
        "plt.title('model accuracy')\n",
        "plt.ylabel('accuracy')\n",
        "plt.xlabel('epoch')\n",
        "plt.legend(['train', 'test'], loc='upper left')\n",
        "plt.show()"
      ],
      "metadata": {
        "colab": {
          "base_uri": "https://localhost:8080/",
          "height": 472
        },
        "id": "7fYIov2V2KoL",
        "outputId": "c0e3dcf4-4ca0-4cf0-abcf-c0d92df41a6e"
      },
      "execution_count": 45,
      "outputs": [
        {
          "output_type": "display_data",
          "data": {
            "text/plain": [
              "<Figure size 640x480 with 1 Axes>"
            ],
            "image/png": "[encoded data removed]"
          },
          "metadata": {}
        }
      ]
    },
    {
      "cell_type": "code",
      "source": [
        "plt.plot(training.history['loss'])\n",
        "plt.plot(training.history['val_loss'])\n",
        "plt.title('model loss')\n",
        "plt.ylabel('loss')\n",
        "plt.xlabel('epoch')\n",
        "plt.legend(['train', 'test'], loc='upper left')\n",
        "plt.show()"
      ],
      "metadata": {
        "colab": {
          "base_uri": "https://localhost:8080/",
          "height": 472
        },
        "id": "mSFzdF682OoL",
        "outputId": "52759089-255e-40e2-a270-f30ccab6a185"
      },
      "execution_count": 46,
      "outputs": [
        {
          "output_type": "display_data",
          "data": {
            "text/plain": [
              "<Figure size 640x480 with 1 Axes>"
            ],
            "image/png": "[encoded data removed]"
          },
          "metadata": {}
        }
      ]
    },
    {
      "cell_type": "code",
      "source": [
        "test_loss, test_acc = model_3.evaluate(X_test, Y_test)\n",
        "print('Test accuracy:', test_acc)"
      ],
      "metadata": {
        "colab": {
          "base_uri": "https://localhost:8080/"
        },
        "id": "8S7r8n1A2Sxq",
        "outputId": "3c30dacb-24b8-4334-f4cf-3a4309746302"
      },
      "execution_count": 47,
      "outputs": [
        {
          "output_type": "stream",
          "name": "stdout",
          "text": [
            "313/313 [==============================] - 1s 2ms/step - loss: 0.3564 - accuracy: 0.8701\n",
            "Test accuracy: 0.8701000213623047\n"
          ]
        }
      ]
    },
    {
      "cell_type": "code",
      "source": [
        "model_3.summary()"
      ],
      "metadata": {
        "colab": {
          "base_uri": "https://localhost:8080/"
        },
        "id": "vXhjcOkr2bCJ",
        "outputId": "8b1bd6bf-fb8f-4338-b1f8-a53b8ac8237c"
      },
      "execution_count": 48,
      "outputs": [
        {
          "output_type": "stream",
          "name": "stdout",
          "text": [
            "Model: \"sequential_2\"\n",
            "_________________________________________________________________\n",
            " Layer (type)                Output Shape              Param #   \n",
            "=================================================================\n",
            " dense_layer (Dense)         (None, 64)                50240     \n",
            "                                                                 \n",
            " dropout_2 (Dropout)         (None, 64)                0         \n",
            "                                                                 \n",
            " dense_layer_2 (Dense)       (None, 64)                4160      \n",
            "                                                                 \n",
            " dropout_3 (Dropout)         (None, 64)                0         \n",
            "                                                                 \n",
            " dense_layer_3 (Dense)       (None, 10)                650       \n",
            "                                                                 \n",
            "=================================================================\n",
            "Total params: 55050 (215.04 KB)\n",
            "Trainable params: 55050 (215.04 KB)\n",
            "Non-trainable params: 0 (0.00 Byte)\n",
            "_________________________________________________________________\n"
          ]
        }
      ]
    },
    {
      "cell_type": "code",
      "source": [
        "model_3.weights"
      ],
      "metadata": {
        "colab": {
          "base_uri": "https://localhost:8080/"
        },
        "id": "VLyo9KHJ2bEe",
        "outputId": "fc77ebee-b7a0-40da-ab72-f0b6cf6d9c6c"
      },
      "execution_count": 49,
      "outputs": [
        {
          "output_type": "execute_result",
          "data": {
            "text/plain": [
              "[<tf.Variable 'dense_layer/kernel:0' shape=(784, 64) dtype=float32, numpy=\n",
              " array([[-0.0749584 , -0.04285758, -0.00621858, ...,  0.24592194,\n",
              "          0.12954664, -0.10116126],\n",
              "        [-0.09468042,  0.13722448,  0.07368165, ...,  0.1262793 ,\n",
              "          0.20498174, -0.23873813],\n",
              "        [-0.08912803,  0.0031902 , -0.27949739, ...,  0.10579983,\n",
              "          0.32707697, -0.3058903 ],\n",
              "        ...,\n",
              "        [-0.1134865 ,  0.11236584,  0.02093311, ...,  0.13232343,\n",
              "         -0.01035345, -0.09513487],\n",
              "        [ 0.06888407,  0.18883261, -0.05828755, ...,  0.2139429 ,\n",
              "          0.1904444 , -0.11932016],\n",
              "        [-0.08502714,  0.10933539, -0.07035857, ...,  0.24466757,\n",
              "          0.3924194 , -0.23248857]], dtype=float32)>,\n",
              " <tf.Variable 'dense_layer/bias:0' shape=(64,) dtype=float32, numpy=\n",
              " array([ 0.07098998, -0.06973596,  0.02030686, -0.1630641 , -0.26013646,\n",
              "         0.10382379,  0.13301256,  0.01892889, -0.27449042, -0.18796732,\n",
              "        -0.33441046, -0.30043247,  0.35992557,  0.27036074, -0.225001  ,\n",
              "         0.42166314,  0.30101088, -0.05406972,  0.5031143 , -0.01542877,\n",
              "        -0.19103047,  0.00748989, -0.21007295,  0.35970762,  0.1264015 ,\n",
              "         0.25499025, -0.09923946,  0.43036163,  0.20326625,  0.30406946,\n",
              "        -0.04718474,  0.2960614 ,  0.22983545, -0.07460103, -0.17994681,\n",
              "         0.2247105 ,  0.09202407,  0.14107421,  0.22017318,  0.29063597,\n",
              "        -0.16513057, -0.31594622,  0.19251047,  0.4556687 , -0.15593214,\n",
              "         0.46804368,  0.30972195, -0.00643716,  0.42578351,  0.5568547 ,\n",
              "         0.6520606 , -0.03022026, -0.31209692, -0.14787455, -0.1341331 ,\n",
              "        -0.23543487, -0.21679543, -0.01731599,  0.26231024, -0.17378958,\n",
              "         0.36517012,  0.0629672 ,  0.06548714, -0.08927844], dtype=float32)>,\n",
              " <tf.Variable 'dense_layer_2/kernel:0' shape=(64, 64) dtype=float32, numpy=\n",
              " array([[ 0.07400773,  0.18128663, -0.3133499 , ..., -0.1322129 ,\n",
              "          0.10621975,  0.03087041],\n",
              "        [-0.15878814, -0.3286197 , -0.1148531 , ...,  0.04455068,\n",
              "         -0.212775  , -0.18570302],\n",
              "        [-0.13947947, -0.34144506, -0.078352  , ...,  0.23884189,\n",
              "         -0.35733873, -0.1281268 ],\n",
              "        ...,\n",
              "        [ 0.22944888,  0.1476719 , -0.18961218, ...,  0.27789128,\n",
              "         -0.09274188, -0.17238776],\n",
              "        [ 0.441392  ,  0.15925029,  0.15669554, ...,  0.1690273 ,\n",
              "          0.06580423,  0.05126531],\n",
              "        [-0.04791054, -0.06711377,  0.017325  , ..., -0.40797758,\n",
              "          0.16708413, -0.11057317]], dtype=float32)>,\n",
              " <tf.Variable 'dense_layer_2/bias:0' shape=(64,) dtype=float32, numpy=\n",
              " array([ 0.38368413,  0.5516731 ,  0.17634638,  0.10949562,  0.08432378,\n",
              "         0.1807804 ,  0.25975907,  0.11813568, -0.15474504,  0.16179982,\n",
              "         0.21901143,  0.31202152,  0.11236446,  0.26748416,  0.31497607,\n",
              "         0.24688756, -0.10877033,  0.14061914,  0.28691578,  0.10625449,\n",
              "         0.4301143 ,  0.24641585,  0.28295225, -0.01624518,  0.23400597,\n",
              "         0.00099797,  0.15673316,  0.25703153,  0.13879184,  0.25983357,\n",
              "         0.12133443,  0.51290035,  0.32827905,  0.07139619,  0.03447587,\n",
              "         0.42012966,  0.40121183,  0.25102255,  0.3660397 ,  0.31360584,\n",
              "         0.40677878,  0.14887245,  0.42336175,  0.08330916,  0.14413899,\n",
              "         0.18983968,  0.13315466,  0.11841718,  0.02325558,  0.26291254,\n",
              "         0.1407997 ,  0.2235784 ,  0.08683261,  0.23144516,  0.33680883,\n",
              "         0.23129648,  0.00978136,  0.1364442 ,  0.41044998,  0.03290915,\n",
              "         0.12917131,  0.40138024,  0.24781032,  0.2577207 ], dtype=float32)>,\n",
              " <tf.Variable 'dense_layer_3/kernel:0' shape=(64, 10) dtype=float32, numpy=\n",
              " array([[ 2.40399554e-01, -6.53572857e-01,  2.65496016e-01,\n",
              "          1.82436123e-01, -1.80654198e-01, -2.57856250e-01,\n",
              "          2.36280158e-01,  2.08382964e-01, -4.62075859e-01,\n",
              "          1.99137703e-01],\n",
              "        [-1.56240970e-01, -5.09049654e-01,  2.85968989e-01,\n",
              "         -4.08209771e-01, -1.05352297e-01, -4.10124272e-01,\n",
              "          2.18528613e-01,  9.98995900e-02, -3.61195534e-01,\n",
              "         -3.47833037e-01],\n",
              "        [ 9.00430754e-02,  1.03034385e-01,  1.49355963e-01,\n",
              "          6.75308779e-02, -2.20078468e-01, -4.34937328e-01,\n",
              "         -1.55958578e-01, -4.76722330e-01,  2.19589487e-01,\n",
              "         -7.73002431e-02],\n",
              "        [-1.91057593e-01, -2.07571518e-02, -4.90656525e-01,\n",
              "          1.24329895e-01, -3.11971623e-02,  1.97160289e-01,\n",
              "         -2.51574129e-01, -1.64892375e-01, -4.28729832e-01,\n",
              "          1.95297271e-01],\n",
              "        [ 2.75455207e-01,  2.97031999e-01, -8.45627263e-02,\n",
              "         -4.39408571e-02, -2.16925636e-01, -5.09659529e-01,\n",
              "          2.00581700e-01, -3.23208749e-01,  1.33848399e-01,\n",
              "          7.65612274e-02],\n",
              "        [ 1.31148636e-01,  1.33230627e-01, -3.05152506e-01,\n",
              "          1.85742557e-01,  5.89324646e-02,  1.16410568e-01,\n",
              "          1.09118678e-01, -5.07777929e-01, -3.05820227e-01,\n",
              "         -1.02677993e-01],\n",
              "        [ 1.19117685e-01, -3.92482847e-01,  6.29497245e-02,\n",
              "         -4.03177291e-01, -3.45856041e-01,  1.73622787e-01,\n",
              "          1.07967637e-01, -2.41350755e-01,  1.67124629e-01,\n",
              "          1.78124547e-01],\n",
              "        [ 9.54755917e-02, -1.81056306e-01,  4.22793664e-02,\n",
              "         -4.99972314e-01, -4.05872554e-01, -2.77797014e-01,\n",
              "         -2.54005820e-01,  2.04608411e-01, -7.20700845e-02,\n",
              "          2.33956665e-01],\n",
              "        [-5.86507916e-01,  5.30516505e-01, -2.06087634e-01,\n",
              "         -3.40348452e-01,  5.33513688e-02, -2.31497541e-01,\n",
              "         -1.39712155e-01, -1.40423104e-01, -1.61338612e-01,\n",
              "          2.23507181e-01],\n",
              "        [-1.37290463e-01,  7.23700076e-02, -3.44028801e-01,\n",
              "         -2.96473294e-01,  1.21682934e-01,  2.76440620e-01,\n",
              "         -3.03610265e-01,  2.64647901e-01, -3.71640138e-02,\n",
              "         -2.24390447e-01],\n",
              "        [-1.11291327e-01, -3.55124444e-01, -8.41228589e-02,\n",
              "         -3.50009382e-01, -3.01896315e-02, -8.13586712e-02,\n",
              "          4.05271620e-01,  2.50246465e-01, -2.13441700e-01,\n",
              "          2.84496665e-01],\n",
              "        [-1.70532033e-01,  2.23605335e-01,  2.70667553e-01,\n",
              "          8.67459998e-02,  2.87642300e-01, -7.07170129e-01,\n",
              "          1.72322482e-01, -7.05234528e-01, -5.11615634e-01,\n",
              "         -4.77153063e-01],\n",
              "        [-2.09414035e-01,  6.27146810e-02, -4.23463434e-01,\n",
              "          2.89289355e-01,  7.92281926e-02, -1.84395775e-01,\n",
              "         -1.18088685e-01,  2.29013875e-01,  4.03131545e-01,\n",
              "          2.20035240e-01],\n",
              "        [-2.06063047e-01, -6.19591773e-01, -1.25555322e-01,\n",
              "         -3.45941573e-01,  5.71188033e-02,  2.49731302e-01,\n",
              "          1.41008496e-01,  2.24985108e-01, -5.64782359e-02,\n",
              "         -1.81479156e-02],\n",
              "        [ 1.09039716e-01, -2.51314849e-01,  2.24515438e-01,\n",
              "          1.70837939e-01,  2.33424231e-01, -1.33361161e+00,\n",
              "         -4.72781733e-02, -1.43161595e+00, -2.41161108e-01,\n",
              "         -1.12498856e+00],\n",
              "        [ 1.90237820e-01, -4.58921611e-01,  2.07337171e-01,\n",
              "         -2.28785917e-01,  2.15131477e-01,  2.37156540e-01,\n",
              "          1.95616409e-01, -5.41966438e-01,  8.59613940e-02,\n",
              "         -5.66183984e-01],\n",
              "        [-2.50711769e-01,  2.91360795e-01, -5.95447747e-03,\n",
              "         -4.35292929e-01,  5.83036132e-02,  3.10467362e-01,\n",
              "         -2.90198505e-01, -2.30436608e-01,  2.05982149e-01,\n",
              "          2.90139824e-01],\n",
              "        [-1.96397543e-01, -5.49753487e-01,  9.08730328e-02,\n",
              "         -3.80229384e-01,  9.52789262e-02, -2.32748792e-01,\n",
              "          8.62494409e-02, -2.36470535e-01,  8.82913023e-02,\n",
              "          1.06281824e-01],\n",
              "        [ 2.13415757e-01,  2.14194283e-01, -2.31883869e-01,\n",
              "         -1.96197808e-01, -2.22534999e-01, -5.22903502e-01,\n",
              "          1.68895543e-01, -4.36625004e-01, -6.23764575e-01,\n",
              "         -3.48608941e-01],\n",
              "        [ 1.67819381e-01,  2.29262605e-01, -1.22641519e-01,\n",
              "          2.67100424e-01,  2.14728341e-01, -5.56523800e-02,\n",
              "         -3.24477302e-03, -4.33317930e-01,  1.81931198e-01,\n",
              "         -5.98178983e-01],\n",
              "        [ 5.36086559e-02, -3.96145523e-01,  2.66940981e-01,\n",
              "          2.38337353e-01,  2.95386881e-01, -6.21181428e-01,\n",
              "          2.70549238e-01, -7.50280678e-01,  2.57950634e-01,\n",
              "         -8.07807148e-01],\n",
              "        [-6.63630009e-01,  1.91221207e-01, -2.65501916e-01,\n",
              "         -9.54842120e-02, -2.65041023e-01, -1.93977073e-01,\n",
              "         -4.10450697e-01,  2.90291965e-01, -5.54170348e-02,\n",
              "          2.61494547e-01],\n",
              "        [-2.88030952e-02,  2.91736066e-01,  2.97680736e-01,\n",
              "         -3.75850856e-01, -1.62477687e-01, -7.36404061e-01,\n",
              "         -3.49098891e-02, -9.20354605e-01, -5.39004564e-01,\n",
              "         -4.11314905e-01],\n",
              "        [-1.78650066e-01,  2.71275163e-01, -3.19052488e-01,\n",
              "         -1.13594756e-02,  1.15022562e-01, -2.93944836e-01,\n",
              "         -4.08337384e-01, -2.11726964e-01,  3.02478075e-01,\n",
              "         -2.64041930e-01],\n",
              "        [-1.32577673e-01, -2.75648385e-01, -2.61742532e-01,\n",
              "         -2.45100707e-01,  9.86231118e-02, -3.16562414e-01,\n",
              "          3.71507883e-01,  4.35752451e-01, -5.21126628e-01,\n",
              "         -3.15176517e-01],\n",
              "        [ 1.16574161e-01,  2.64846504e-01,  1.85564101e-01,\n",
              "          2.63223469e-01,  1.84583694e-01, -1.53747916e-01,\n",
              "         -1.58202529e-01, -3.56668621e-01,  3.23430896e-01,\n",
              "          1.24895290e-01],\n",
              "        [ 2.44703695e-01,  3.17762494e-01, -4.51577276e-01,\n",
              "          3.21512222e-01, -2.29035586e-01, -2.40677521e-01,\n",
              "         -7.94638023e-02, -3.34563971e-01, -1.67710125e-01,\n",
              "         -2.01856464e-01],\n",
              "        [ 1.77366942e-01, -2.79408008e-01,  2.01863244e-01,\n",
              "          1.71447337e-01,  2.05399945e-01, -5.45040727e-01,\n",
              "          1.96524501e-01, -5.97852409e-01, -2.41894633e-01,\n",
              "         -1.00617848e-01],\n",
              "        [ 6.06821999e-02, -5.04902191e-02,  1.75186932e-01,\n",
              "          2.74765283e-01,  2.63535738e-01, -3.83718520e-01,\n",
              "         -1.18308254e-02, -3.85870188e-01,  3.88327390e-01,\n",
              "         -1.46242544e-01],\n",
              "        [-4.22274828e-01, -1.94807172e-01,  2.10435659e-01,\n",
              "          5.24617806e-02,  2.17271522e-01,  2.76254177e-01,\n",
              "         -9.61953625e-02, -1.27288014e-01, -1.10339493e-01,\n",
              "         -2.51137167e-01],\n",
              "        [-6.12941273e-02, -3.37256819e-01, -3.84360142e-02,\n",
              "         -1.65366411e-01, -2.68924385e-01, -8.89865384e-02,\n",
              "         -3.39460433e-01,  2.98862606e-01,  3.77855659e-01,\n",
              "          3.08715552e-01],\n",
              "        [-5.90898275e-01, -7.33457506e-01,  8.18668008e-02,\n",
              "         -8.24152291e-01, -4.46125478e-01,  1.05557986e-01,\n",
              "         -4.79686946e-01,  8.61511678e-02, -4.06729966e-01,\n",
              "          1.08302332e-01],\n",
              "        [ 1.94925204e-01,  5.33543667e-03, -1.52837727e-02,\n",
              "          2.04131454e-01, -1.58949271e-01, -7.89026201e-01,\n",
              "          1.96738854e-01, -1.07048380e+00, -3.41883332e-01,\n",
              "         -6.79660916e-01],\n",
              "        [-2.60839522e-01,  1.78198218e-01,  1.67003959e-01,\n",
              "         -4.86637920e-01,  1.73713014e-01,  2.21880004e-01,\n",
              "          1.33381337e-01, -2.45645091e-01, -5.98461449e-01,\n",
              "          2.70809472e-01],\n",
              "        [ 1.81981206e-01,  1.69616058e-01, -5.28041959e-01,\n",
              "         -1.82079747e-01, -2.15289831e-01,  2.98241317e-01,\n",
              "          1.36364594e-01, -9.22598913e-02, -5.14530361e-01,\n",
              "          2.91534573e-01],\n",
              "        [-4.37617332e-01,  1.65263563e-01,  2.68462688e-01,\n",
              "         -4.77034390e-01,  1.51911631e-01, -3.54900628e-01,\n",
              "         -2.08337516e-01,  2.22232208e-01, -1.03075214e-01,\n",
              "         -3.29592466e-01],\n",
              "        [ 2.20007151e-02, -6.13207638e-01, -2.12578997e-01,\n",
              "          3.13512944e-02, -3.52369517e-01,  1.61697462e-01,\n",
              "          1.87177211e-02,  1.94367275e-01,  1.71475738e-01,\n",
              "         -5.37835896e-01],\n",
              "        [ 1.61315218e-01, -5.23759127e-01, -1.03579663e-01,\n",
              "         -9.52925086e-02, -2.36456543e-01, -5.78641653e-01,\n",
              "          1.54120088e-01, -1.31206155e-01,  1.43303931e-01,\n",
              "         -5.70341289e-01],\n",
              "        [-1.99457839e-01, -5.47494590e-01,  2.13656738e-01,\n",
              "          8.73806477e-02,  2.27755383e-01, -6.23613536e-01,\n",
              "          2.10262194e-01, -9.80927706e-01, -3.55020314e-01,\n",
              "         -1.04795289e+00],\n",
              "        [ 2.42021337e-01, -3.35515857e-01,  2.15516791e-01,\n",
              "          1.98570624e-01, -1.17614523e-01, -3.60326916e-01,\n",
              "          2.39221439e-01,  1.57591905e-02,  2.42552325e-01,\n",
              "          5.98775074e-02],\n",
              "        [-5.05100906e-01, -4.85659868e-01, -2.37780482e-01,\n",
              "          5.99998049e-02,  8.80948454e-02, -3.71074915e-01,\n",
              "         -2.41508231e-01,  4.09953833e-01, -4.70815837e-01,\n",
              "         -1.92641020e-01],\n",
              "        [-1.15325071e-01, -5.60127378e-01, -4.63541895e-01,\n",
              "         -1.41811594e-01, -2.15223014e-01,  1.80099890e-01,\n",
              "         -3.78921241e-01,  1.47588417e-01,  2.13483572e-01,\n",
              "         -3.56960952e-01],\n",
              "        [ 9.12202001e-02, -3.52097601e-02,  1.40131235e-01,\n",
              "          1.08000211e-01, -4.08741325e-01,  1.71488598e-01,\n",
              "          6.60161823e-02,  7.51398280e-02, -2.90428400e-01,\n",
              "         -6.32537246e-01],\n",
              "        [-2.43587270e-01,  4.94968802e-01, -5.20039678e-01,\n",
              "         -2.52455831e-01, -1.75144374e-01, -1.41849577e-01,\n",
              "         -5.45188189e-01,  2.11839035e-01,  2.33999103e-01,\n",
              "         -2.16890752e-01],\n",
              "        [-7.96019733e-01, -2.58320957e-01, -5.89889348e-01,\n",
              "         -5.85616767e-01, -4.60593730e-01,  6.50734678e-02,\n",
              "         -6.47211492e-01,  6.10832609e-02, -4.16073292e-01,\n",
              "          6.08107224e-02],\n",
              "        [ 1.58011660e-01, -5.69064856e-01, -2.45806530e-01,\n",
              "         -3.38797867e-01, -1.89069763e-01,  2.40608096e-01,\n",
              "          1.03388578e-01,  2.07937345e-01,  2.13229150e-01,\n",
              "          4.16346081e-02],\n",
              "        [-3.58123720e-01,  1.58686444e-01, -4.88219827e-01,\n",
              "          1.55759737e-01, -3.63727689e-01,  6.00347295e-04,\n",
              "         -1.85192212e-01,  2.44623184e-01, -4.69052970e-01,\n",
              "          2.64526635e-01],\n",
              "        [-2.51234293e-01,  2.12178174e-02, -4.22452897e-01,\n",
              "         -4.10964996e-01, -8.89163971e-01,  2.15107933e-01,\n",
              "         -5.44626772e-01,  1.98143914e-01,  9.94950160e-02,\n",
              "          2.02716261e-01],\n",
              "        [-3.91251408e-02, -3.15718949e-01, -2.37632319e-01,\n",
              "         -5.17148793e-01,  1.62121989e-02,  1.77026927e-01,\n",
              "         -2.03814730e-01,  1.84971705e-01,  5.08242883e-02,\n",
              "          1.86443090e-01],\n",
              "        [-3.12286407e-01, -2.33981729e-01, -4.62304980e-01,\n",
              "          1.74930438e-01, -4.59677815e-01,  1.83639675e-01,\n",
              "         -2.08524838e-01,  1.80916250e-01,  1.39618635e-01,\n",
              "         -1.77875251e-01],\n",
              "        [ 3.45049202e-02,  1.09487206e-01, -4.88221049e-01,\n",
              "          1.29082188e-01, -5.10739863e-01, -1.87437311e-02,\n",
              "         -2.55142599e-01,  3.45242411e-01, -2.56443948e-01,\n",
              "          3.28299135e-01],\n",
              "        [-2.12992102e-01, -7.79702589e-02, -2.84474134e-01,\n",
              "          9.56240371e-02,  4.70701419e-02, -4.91972923e-01,\n",
              "          5.36857434e-02, -7.16050744e-01, -5.12602687e-01,\n",
              "         -2.63719738e-01],\n",
              "        [-4.99007761e-01, -1.34711906e-01, -2.51286358e-01,\n",
              "          1.63528100e-01,  1.45334527e-01,  2.25883082e-01,\n",
              "          9.73284896e-03, -2.26005632e-02, -1.59313530e-01,\n",
              "          2.23943770e-01],\n",
              "        [ 2.75578856e-01,  2.51181245e-01, -1.31019279e-01,\n",
              "          2.87438422e-01, -2.85229445e-01, -1.19735181e-01,\n",
              "          2.33171880e-01, -1.13177013e+00, -1.61775917e-01,\n",
              "         -6.89428687e-01],\n",
              "        [ 1.54877380e-01,  2.34443679e-01,  2.07898468e-01,\n",
              "          2.43315965e-01, -1.27525806e-01, -2.19327018e-01,\n",
              "         -7.43125454e-02,  1.84069902e-01, -4.53745931e-01,\n",
              "          1.19006716e-01],\n",
              "        [ 8.01661611e-02,  4.41825949e-02,  2.38289192e-01,\n",
              "         -4.86557543e-01,  2.35789761e-01, -6.52004242e-01,\n",
              "          1.88778102e-01, -4.40516353e-01,  1.68706626e-01,\n",
              "         -6.29349113e-01],\n",
              "        [-3.22489172e-01, -4.80302751e-01, -5.86025119e-02,\n",
              "          7.27069303e-02,  2.54984379e-01,  1.57672003e-01,\n",
              "          2.63192981e-01, -3.89567256e-01, -5.57812937e-02,\n",
              "          2.74295270e-01],\n",
              "        [ 1.19948849e-01, -6.00932181e-01,  9.14667733e-03,\n",
              "         -5.57474196e-01, -2.76831239e-01, -3.49892467e-01,\n",
              "          1.08606100e-01, -2.73559969e-02, -2.76908100e-01,\n",
              "          4.06708419e-01],\n",
              "        [ 4.79765795e-02,  2.02825546e-01,  2.54788965e-01,\n",
              "          2.01195166e-01,  2.51751125e-01, -9.38888490e-01,\n",
              "          2.25689679e-01, -7.70509064e-01,  2.06342489e-01,\n",
              "         -6.54410899e-01],\n",
              "        [ 1.88117325e-02, -4.38712209e-01, -1.91455007e-01,\n",
              "         -3.40572149e-01, -3.81400257e-01,  2.85496771e-01,\n",
              "         -2.10527182e-02, -1.66355386e-01,  2.56669790e-01,\n",
              "          2.27464866e-02],\n",
              "        [-1.18335992e-01, -3.47136497e-01, -1.45706967e-01,\n",
              "         -4.02295172e-01,  1.12604573e-01, -6.20860755e-01,\n",
              "         -9.81009454e-02, -4.05732058e-02, -7.32028335e-02,\n",
              "         -2.92998791e-01],\n",
              "        [ 2.24107340e-01,  2.33246222e-01,  2.27422744e-01,\n",
              "          2.23097786e-01,  2.33348981e-01, -1.03194034e+00,\n",
              "          2.21257731e-01, -1.14215755e+00, -2.51819342e-01,\n",
              "         -8.26335251e-01],\n",
              "        [ 2.50417799e-01, -2.86193043e-01, -3.21512558e-02,\n",
              "         -2.20725909e-01,  1.79134950e-01, -4.86315161e-01,\n",
              "          2.28161439e-01, -5.08199215e-01,  2.72384197e-01,\n",
              "         -2.82692879e-01],\n",
              "        [ 2.35990614e-01, -3.08549464e-01, -1.51040480e-01,\n",
              "         -1.63950101e-01,  1.36729807e-01,  1.39688119e-01,\n",
              "          2.22308964e-01,  1.07919157e-01,  2.11605996e-01,\n",
              "         -6.10680938e-01]], dtype=float32)>,\n",
              " <tf.Variable 'dense_layer_3/bias:0' shape=(10,) dtype=float32, numpy=\n",
              " array([-0.04604861, -0.44178832,  0.14653319,  0.24718672, -0.00794105,\n",
              "        -0.02032609,  0.04238222,  0.18580134, -0.12347763, -0.3315848 ],\n",
              "       dtype=float32)>]"
            ]
          },
          "metadata": {},
          "execution_count": 49
        }
      ]
    },
    {
      "cell_type": "code",
      "source": [
        "model_4 = tf.keras.Sequential()\n",
        "N_hidden = 512"
      ],
      "metadata": {
        "id": "dHMvkbWz2bIC"
      },
      "execution_count": 50,
      "outputs": []
    },
    {
      "cell_type": "code",
      "source": [
        "model_4.add(Dense (N_hidden, name='dense_layer', input_shape=(784,), activation = 'relu'))"
      ],
      "metadata": {
        "id": "8O3tLXPa2veO"
      },
      "execution_count": 51,
      "outputs": []
    },
    {
      "cell_type": "code",
      "source": [
        "model_4.add(Dropout (0.3))"
      ],
      "metadata": {
        "id": "0y9bnSoo3RoZ"
      },
      "execution_count": 52,
      "outputs": []
    },
    {
      "cell_type": "code",
      "source": [
        "model_4.add(Dense (N_hidden, name='dense_layer_2', activation='relu'))"
      ],
      "metadata": {
        "id": "7ZDQZOfl2vgu"
      },
      "execution_count": 53,
      "outputs": []
    },
    {
      "cell_type": "code",
      "source": [
        "model_4.add(Dropout (0.3))"
      ],
      "metadata": {
        "id": "kI4W3Wy82vjt"
      },
      "execution_count": 54,
      "outputs": []
    },
    {
      "cell_type": "code",
      "source": [
        "model_4.add(Dense (10, name='dense_layer_3', activation = 'softmax'))"
      ],
      "metadata": {
        "id": "Y5jCX9xN3do8"
      },
      "execution_count": 55,
      "outputs": []
    },
    {
      "cell_type": "code",
      "source": [
        "model_4.compile(optimizer='Adam', loss='categorical_crossentropy', metrics=['accuracy'])"
      ],
      "metadata": {
        "id": "pW-n-xpQ3eXG"
      },
      "execution_count": 56,
      "outputs": []
    },
    {
      "cell_type": "code",
      "source": [
        "training = model_4.fit(X_train, Y_train, batch_size=128, epochs=31, validation_split=0.2)"
      ],
      "metadata": {
        "colab": {
          "base_uri": "https://localhost:8080/"
        },
        "id": "vn3dIVKP3lE4",
        "outputId": "a1e2edbe-d7fe-436d-f10c-aacefa4ef734"
      },
      "execution_count": 57,
      "outputs": [
        {
          "output_type": "stream",
          "name": "stdout",
          "text": [
            "Epoch 1/31\n",
            "375/375 [==============================] - 3s 4ms/step - loss: 0.5643 - accuracy: 0.7972 - val_loss: 0.4021 - val_accuracy: 0.8543\n",
            "Epoch 2/31\n",
            "375/375 [==============================] - 1s 4ms/step - loss: 0.4139 - accuracy: 0.8472 - val_loss: 0.3667 - val_accuracy: 0.8652\n",
            "Epoch 3/31\n",
            "375/375 [==============================] - 1s 4ms/step - loss: 0.3748 - accuracy: 0.8645 - val_loss: 0.3503 - val_accuracy: 0.8717\n",
            "Epoch 4/31\n",
            "375/375 [==============================] - 1s 4ms/step - loss: 0.3509 - accuracy: 0.8701 - val_loss: 0.3395 - val_accuracy: 0.8787\n",
            "Epoch 5/31\n",
            "375/375 [==============================] - 2s 5ms/step - loss: 0.3379 - accuracy: 0.8735 - val_loss: 0.3326 - val_accuracy: 0.8789\n",
            "Epoch 6/31\n",
            "375/375 [==============================] - 1s 4ms/step - loss: 0.3233 - accuracy: 0.8796 - val_loss: 0.3249 - val_accuracy: 0.8807\n",
            "Epoch 7/31\n",
            "375/375 [==============================] - 1s 4ms/step - loss: 0.3126 - accuracy: 0.8827 - val_loss: 0.3222 - val_accuracy: 0.8808\n",
            "Epoch 8/31\n",
            "375/375 [==============================] - 1s 4ms/step - loss: 0.3041 - accuracy: 0.8869 - val_loss: 0.3170 - val_accuracy: 0.8860\n",
            "Epoch 9/31\n",
            "375/375 [==============================] - 1s 4ms/step - loss: 0.2961 - accuracy: 0.8895 - val_loss: 0.3116 - val_accuracy: 0.8867\n",
            "Epoch 10/31\n",
            "375/375 [==============================] - 1s 4ms/step - loss: 0.2913 - accuracy: 0.8905 - val_loss: 0.3066 - val_accuracy: 0.8883\n",
            "Epoch 11/31\n",
            "375/375 [==============================] - 1s 4ms/step - loss: 0.2829 - accuracy: 0.8943 - val_loss: 0.3119 - val_accuracy: 0.8831\n",
            "Epoch 12/31\n",
            "375/375 [==============================] - 1s 4ms/step - loss: 0.2737 - accuracy: 0.8979 - val_loss: 0.3052 - val_accuracy: 0.8906\n",
            "Epoch 13/31\n",
            "375/375 [==============================] - 2s 4ms/step - loss: 0.2691 - accuracy: 0.8988 - val_loss: 0.3032 - val_accuracy: 0.8888\n",
            "Epoch 14/31\n",
            "375/375 [==============================] - 2s 5ms/step - loss: 0.2648 - accuracy: 0.8997 - val_loss: 0.3065 - val_accuracy: 0.8894\n",
            "Epoch 15/31\n",
            "375/375 [==============================] - 1s 4ms/step - loss: 0.2586 - accuracy: 0.9017 - val_loss: 0.2940 - val_accuracy: 0.8944\n",
            "Epoch 16/31\n",
            "375/375 [==============================] - 1s 4ms/step - loss: 0.2572 - accuracy: 0.9037 - val_loss: 0.3024 - val_accuracy: 0.8944\n",
            "Epoch 17/31\n",
            "375/375 [==============================] - 1s 4ms/step - loss: 0.2546 - accuracy: 0.9044 - val_loss: 0.3086 - val_accuracy: 0.8905\n",
            "Epoch 18/31\n",
            "375/375 [==============================] - 1s 4ms/step - loss: 0.2467 - accuracy: 0.9067 - val_loss: 0.3034 - val_accuracy: 0.8910\n",
            "Epoch 19/31\n",
            "375/375 [==============================] - 1s 4ms/step - loss: 0.2463 - accuracy: 0.9071 - val_loss: 0.2893 - val_accuracy: 0.8982\n",
            "Epoch 20/31\n",
            "375/375 [==============================] - 3s 7ms/step - loss: 0.2391 - accuracy: 0.9100 - val_loss: 0.2901 - val_accuracy: 0.8957\n",
            "Epoch 21/31\n",
            "375/375 [==============================] - 2s 5ms/step - loss: 0.2381 - accuracy: 0.9092 - val_loss: 0.3016 - val_accuracy: 0.8951\n",
            "Epoch 22/31\n",
            "375/375 [==============================] - 1s 4ms/step - loss: 0.2281 - accuracy: 0.9128 - val_loss: 0.3073 - val_accuracy: 0.8922\n",
            "Epoch 23/31\n",
            "375/375 [==============================] - 2s 5ms/step - loss: 0.2274 - accuracy: 0.9139 - val_loss: 0.3043 - val_accuracy: 0.8926\n",
            "Epoch 24/31\n",
            "375/375 [==============================] - 2s 5ms/step - loss: 0.2227 - accuracy: 0.9151 - val_loss: 0.2983 - val_accuracy: 0.8962\n",
            "Epoch 25/31\n",
            "375/375 [==============================] - 3s 7ms/step - loss: 0.2247 - accuracy: 0.9148 - val_loss: 0.3081 - val_accuracy: 0.8934\n",
            "Epoch 26/31\n",
            "375/375 [==============================] - 1s 4ms/step - loss: 0.2184 - accuracy: 0.9173 - val_loss: 0.3003 - val_accuracy: 0.8966\n",
            "Epoch 27/31\n",
            "375/375 [==============================] - 2s 4ms/step - loss: 0.2142 - accuracy: 0.9170 - val_loss: 0.3099 - val_accuracy: 0.8935\n",
            "Epoch 28/31\n",
            "375/375 [==============================] - 2s 5ms/step - loss: 0.2145 - accuracy: 0.9184 - val_loss: 0.3067 - val_accuracy: 0.8942\n",
            "Epoch 29/31\n",
            "375/375 [==============================] - 1s 4ms/step - loss: 0.2104 - accuracy: 0.9194 - val_loss: 0.3006 - val_accuracy: 0.8965\n",
            "Epoch 30/31\n",
            "375/375 [==============================] - 1s 4ms/step - loss: 0.2035 - accuracy: 0.9222 - val_loss: 0.2991 - val_accuracy: 0.8994\n",
            "Epoch 31/31\n",
            "375/375 [==============================] - 1s 4ms/step - loss: 0.2030 - accuracy: 0.9221 - val_loss: 0.2977 - val_accuracy: 0.8982\n"
          ]
        }
      ]
    },
    {
      "cell_type": "code",
      "source": [
        "test_loss, test_acc = model_4.evaluate(X_test, Y_test)\n",
        "print('Test accuracy:', test_acc)"
      ],
      "metadata": {
        "colab": {
          "base_uri": "https://localhost:8080/"
        },
        "id": "02j70dqe3lHD",
        "outputId": "31eb4ec3-dbd7-42cf-eb8f-9dc18cdc4c26"
      },
      "execution_count": 58,
      "outputs": [
        {
          "output_type": "stream",
          "name": "stdout",
          "text": [
            "313/313 [==============================] - 1s 2ms/step - loss: 0.3274 - accuracy: 0.8942\n",
            "Test accuracy: 0.8942000269889832\n"
          ]
        }
      ]
    },
    {
      "cell_type": "code",
      "source": [
        "print(training.history.keys())"
      ],
      "metadata": {
        "colab": {
          "base_uri": "https://localhost:8080/"
        },
        "id": "5BuarT9k3lJm",
        "outputId": "7dc98fbc-eac1-4247-e76a-964fb274211e"
      },
      "execution_count": 59,
      "outputs": [
        {
          "output_type": "stream",
          "name": "stdout",
          "text": [
            "dict_keys(['loss', 'accuracy', 'val_loss', 'val_accuracy'])\n"
          ]
        }
      ]
    },
    {
      "cell_type": "code",
      "source": [
        "plt.plot(training.history['accuracy'])\n",
        "plt.plot(training.history['val_accuracy'])\n",
        "plt.title('model accuracy')\n",
        "plt.ylabel('accuracy')\n",
        "plt.xlabel('epoch')\n",
        "plt.legend(['train', 'test'], loc='upper left')\n",
        "plt.show()"
      ],
      "metadata": {
        "colab": {
          "base_uri": "https://localhost:8080/",
          "height": 472
        },
        "id": "4lAhmg6i3lLO",
        "outputId": "5c0c223c-b4f5-4d21-a324-c9fb7220719c"
      },
      "execution_count": 60,
      "outputs": [
        {
          "output_type": "display_data",
          "data": {
            "text/plain": [
              "<Figure size 640x480 with 1 Axes>"
            ],
            "image/png": "[encoded data removed]"
          },
          "metadata": {}
        }
      ]
    },
    {
      "cell_type": "code",
      "source": [
        "plt.plot(training.history['loss'])\n",
        "plt.plot(training.history['val_loss'])\n",
        "plt.title('model loss')\n",
        "plt.ylabel('loss')\n",
        "plt.xlabel('epoch')\n",
        "plt.legend(['train', 'test'], loc='upper left')\n",
        "plt.show()"
      ],
      "metadata": {
        "colab": {
          "base_uri": "https://localhost:8080/",
          "height": 472
        },
        "id": "lpoypnGR7iDn",
        "outputId": "d37fc4ef-0eea-42ad-effd-fbbb33ede8b3"
      },
      "execution_count": 61,
      "outputs": [
        {
          "output_type": "display_data",
          "data": {
            "text/plain": [
              "<Figure size 640x480 with 1 Axes>"
            ],
            "image/png": "[encoded data removed]"
          },
          "metadata": {}
        }
      ]
    },
    {
      "cell_type": "code",
      "source": [
        "model_4.summary()"
      ],
      "metadata": {
        "colab": {
          "base_uri": "https://localhost:8080/"
        },
        "id": "d5EeBMSG7iF3",
        "outputId": "7a3fe993-0b58-4e2c-f62e-11ddcf4994d6"
      },
      "execution_count": 62,
      "outputs": [
        {
          "output_type": "stream",
          "name": "stdout",
          "text": [
            "Model: \"sequential_3\"\n",
            "_________________________________________________________________\n",
            " Layer (type)                Output Shape              Param #   \n",
            "=================================================================\n",
            " dense_layer (Dense)         (None, 512)               401920    \n",
            "                                                                 \n",
            " dropout_4 (Dropout)         (None, 512)               0         \n",
            "                                                                 \n",
            " dense_layer_2 (Dense)       (None, 512)               262656    \n",
            "                                                                 \n",
            " dropout_5 (Dropout)         (None, 512)               0         \n",
            "                                                                 \n",
            " dense_layer_3 (Dense)       (None, 10)                5130      \n",
            "                                                                 \n",
            "=================================================================\n",
            "Total params: 669706 (2.55 MB)\n",
            "Trainable params: 669706 (2.55 MB)\n",
            "Non-trainable params: 0 (0.00 Byte)\n",
            "_________________________________________________________________\n"
          ]
        }
      ]
    },
    {
      "cell_type": "code",
      "source": [
        "model_4.weights"
      ],
      "metadata": {
        "colab": {
          "base_uri": "https://localhost:8080/"
        },
        "id": "u79wvqll8EYF",
        "outputId": "2053825b-1d0e-4bb8-a6fa-d45aa531b763"
      },
      "execution_count": 63,
      "outputs": [
        {
          "output_type": "execute_result",
          "data": {
            "text/plain": [
              "[<tf.Variable 'dense_layer/kernel:0' shape=(784, 512) dtype=float32, numpy=\n",
              " array([[-0.06761179, -0.01369043, -0.02084748, ..., -0.04734832,\n",
              "          0.43986872, -0.01546346],\n",
              "        [ 0.09338883, -0.0120727 , -0.04564986, ..., -0.01524515,\n",
              "          0.04807284, -0.04818394],\n",
              "        [-0.02101013,  0.03607135,  0.07344505, ..., -0.09997189,\n",
              "          0.21110435, -0.13088678],\n",
              "        ...,\n",
              "        [ 0.09727184, -0.02745028, -0.07293144, ...,  0.22995892,\n",
              "         -0.02107357,  0.01511086],\n",
              "        [ 0.07257647, -0.00486907,  0.01076946, ...,  0.37366495,\n",
              "          0.17753892,  0.06580952],\n",
              "        [ 0.24219958, -0.02489896,  0.04177152, ..., -0.1723516 ,\n",
              "          0.28273353,  0.0361942 ]], dtype=float32)>,\n",
              " <tf.Variable 'dense_layer/bias:0' shape=(512,) dtype=float32, numpy=\n",
              " array([-0.05236425,  0.04242064, -0.0179019 ,  0.05870083,  0.03359399,\n",
              "         0.0087629 ,  0.07403052, -0.01131052, -0.03522375, -0.08582604,\n",
              "         0.25642243,  0.25784564, -0.25390846,  0.09847073, -0.01392724,\n",
              "         0.24415956,  0.14522557,  0.3340243 ,  0.04125297,  0.13893503,\n",
              "         0.26421154,  0.11501259, -0.03900057,  0.13616438,  0.14582571,\n",
              "        -0.0854856 ,  0.00977062, -0.0473353 ,  0.02635766,  0.15794916,\n",
              "         0.08161417, -0.01291958, -0.06134217, -0.01225205,  0.04382283,\n",
              "        -0.01333034,  0.07667304,  0.01906928, -0.08070585, -0.30857745,\n",
              "         0.09598994, -0.19989891,  0.10150398,  0.05426728,  0.23320866,\n",
              "        -0.35986483,  0.10171225,  0.17564373,  0.10348508,  0.02037578,\n",
              "        -0.00123577,  0.18095951,  0.16016068, -0.41291657,  0.12602136,\n",
              "         0.07500875, -0.0318599 , -0.01274358,  0.10852782,  0.1287837 ,\n",
              "         0.20318098, -0.18760209,  0.0423508 , -0.02174287, -0.2799302 ,\n",
              "        -0.04471857,  0.17521279,  0.02883015,  0.214889  ,  0.09851121,\n",
              "         0.08433275,  0.22103976,  0.38351992,  0.04227753,  0.17082056,\n",
              "         0.09115335,  0.13595742, -0.00750044, -0.00514887, -0.18501121,\n",
              "         0.24151619,  0.06501585, -0.20211431, -0.0725804 , -0.23883006,\n",
              "         0.23360114,  0.00758276, -0.46697232,  0.02585683, -0.20387475,\n",
              "        -0.00305484,  0.07792614,  0.15840681, -0.15077655,  0.21428232,\n",
              "        -0.06759116, -0.05499967, -0.08243995,  0.09693048,  0.05334222,\n",
              "         0.11093318,  0.1625273 ,  0.1968662 , -0.25928012,  0.07116865,\n",
              "        -0.05766495, -0.18384479, -0.08613335,  0.30787665, -0.02910909,\n",
              "         0.09610328,  0.22613169,  0.2801338 ,  0.07974696,  0.04275015,\n",
              "         0.137767  ,  0.09714255,  0.19694863,  0.06076786, -0.36798796,\n",
              "        -0.11373197, -0.0221784 ,  0.07724972,  0.28294685,  0.04269711,\n",
              "         0.01053245,  0.1660637 ,  0.23328254,  0.16011024,  0.11805663,\n",
              "        -0.01475655, -0.02779411,  0.08367365,  0.10661525, -0.11531896,\n",
              "         0.02618807,  0.14527847, -0.09719439,  0.00358305, -0.01175658,\n",
              "        -0.0045849 ,  0.31355023,  0.21993819, -0.00341757,  0.0519122 ,\n",
              "        -0.00903178,  0.11090625,  0.02713514,  0.01953242,  0.14686875,\n",
              "         0.19783275,  0.12300956,  0.1621237 ,  0.07757669,  0.348716  ,\n",
              "         0.28583425,  0.12745783,  0.0813247 ,  0.11256728, -0.0648739 ,\n",
              "         0.25702652,  0.06359299, -0.08089226, -0.22889349, -0.28651953,\n",
              "         0.05037229,  0.14182104, -0.01653561, -0.4743988 ,  0.103393  ,\n",
              "         0.10068452, -0.14974411,  0.13265385, -0.06563631,  0.14067912,\n",
              "        -0.2863189 ,  0.18956709,  0.05880751, -0.01141321,  0.05463039,\n",
              "        -0.07050633, -0.06582844,  0.05374583, -0.05332619, -0.03106833,\n",
              "        -0.17997321,  0.22842537,  0.1301061 ,  0.00070843,  0.18917699,\n",
              "         0.26466984, -0.04188513, -0.0175521 , -0.01218561,  0.27016488,\n",
              "         0.23930354,  0.19620955, -0.15594906,  0.08112413,  0.02261716,\n",
              "        -0.04687538,  0.13660836,  0.4065528 , -0.00296467,  0.21496357,\n",
              "        -0.00127024,  0.05397804, -0.17541638,  0.08934146,  0.03946058,\n",
              "        -0.18332139,  0.02027113,  0.1517486 ,  0.04190325,  0.17371607,\n",
              "         0.04790967,  0.12237646,  0.19296752,  0.08812758, -0.02759603,\n",
              "        -0.2590412 , -0.03264135,  0.31792855,  0.06814604, -0.01172852,\n",
              "         0.12977597,  0.0751546 ,  0.02287133,  0.10695029,  0.10483196,\n",
              "         0.00069795,  0.04568164, -0.07053715,  0.2147822 ,  0.11231296,\n",
              "        -0.00732042,  0.03668747,  0.15669526,  0.00368239,  0.5099589 ,\n",
              "         0.0441734 ,  0.18477985,  0.05048906,  0.0184243 , -0.10875387,\n",
              "         0.10633385,  0.0048377 ,  0.16629374, -0.01433021, -0.0638895 ,\n",
              "         0.05325362, -0.10994691,  0.10725532,  0.35611886, -0.02361432,\n",
              "         0.07505725, -0.00236236, -0.09337727, -0.00401029, -0.23320934,\n",
              "        -0.00740781,  0.00512537,  0.18692419,  0.09352101, -0.01540566,\n",
              "         0.13987839,  0.01205981, -0.01052258,  0.1993598 ,  0.15926419,\n",
              "         0.2735678 ,  0.28375262,  0.2302843 , -0.03731515,  0.100234  ,\n",
              "        -0.18673913,  0.2504202 , -0.03444575,  0.22658859, -0.0334419 ,\n",
              "         0.12291678, -0.02934574,  0.2336531 ,  0.02075984,  0.22015691,\n",
              "        -0.3555911 ,  0.15828018,  0.0553031 ,  0.10956796, -0.01711392,\n",
              "         0.04187362, -0.03257614, -0.02945108,  0.11542746, -0.03303237,\n",
              "        -0.15631962,  0.17795275,  0.09433877,  0.11605395,  0.0164471 ,\n",
              "         0.05831998,  0.13183063,  0.00589155,  0.21715838, -0.0764337 ,\n",
              "         0.21654728,  0.0830133 , -0.32846364,  0.33094063, -0.09129272,\n",
              "        -0.00660043,  0.05969296,  0.14202599,  0.08085512,  0.07686641,\n",
              "         0.05687851,  0.02106211,  0.14736022,  0.14210372,  0.22123255,\n",
              "        -0.05999075,  0.08881956,  0.37894392,  0.14263034, -0.2562885 ,\n",
              "         0.11043786, -0.02503513,  0.1792163 ,  0.04123592,  0.3157919 ,\n",
              "         0.17550617,  0.16566452,  0.10217032,  0.19803649,  0.09660018,\n",
              "        -0.395686  ,  0.00459821,  0.21128683, -0.02742562,  0.01738882,\n",
              "        -0.14925496,  0.15683621,  0.17011404,  0.23694927, -0.00417978,\n",
              "        -0.17860977,  0.1379354 ,  0.00636718,  0.01792162,  0.07721004,\n",
              "        -0.09799722,  0.05744327,  0.00831874,  0.1662496 , -0.01072475,\n",
              "         0.34412637,  0.25316864, -0.20433243, -0.00763338,  0.31596604,\n",
              "         0.22936764,  0.15226585, -0.02828872,  0.1996376 ,  0.09957753,\n",
              "         0.07162737,  0.27971038,  0.1909562 , -0.07175297, -0.00319928,\n",
              "         0.02012638,  0.30152974, -0.01188948, -0.01788712,  0.0807065 ,\n",
              "         0.0559771 , -0.3937914 , -0.15371527, -0.03864712,  0.08081737,\n",
              "         0.04331545,  0.13653642, -0.00470814, -0.09360194,  0.13221101,\n",
              "        -0.03867611,  0.04394308, -0.26944178, -0.20244388, -0.07863406,\n",
              "         0.02574268, -0.30980742,  0.05383641,  0.18632479,  0.04265541,\n",
              "         0.07492349, -0.1323621 ,  0.22310092, -0.445979  , -0.08631264,\n",
              "         0.08491781, -0.0142834 ,  0.11180653,  0.08808637,  0.0895336 ,\n",
              "         0.06756841, -0.07574951, -0.13482457,  0.15347876, -0.01090567,\n",
              "         0.22103104,  0.05405014,  0.08616455,  0.24378896,  0.03406632,\n",
              "        -0.1410802 ,  0.05878374,  0.04135699,  0.14231317, -0.06868521,\n",
              "         0.23433954,  0.3753585 ,  0.16026625,  0.25273928,  0.07464667,\n",
              "        -0.09464721,  0.17264001,  0.19651489, -0.08512913,  0.08449152,\n",
              "         0.18893579,  0.0885585 ,  0.1113909 , -0.24361064,  0.12284216,\n",
              "         0.1499109 ,  0.10535445,  0.00340238,  0.04891811, -0.2557343 ,\n",
              "        -0.0617823 ,  0.07206853,  0.0968891 ,  0.08169149, -0.00935506,\n",
              "        -0.15208037, -0.03590925, -0.03523711,  0.03555504,  0.17366098,\n",
              "         0.1745874 ,  0.21308602,  0.3132929 , -0.02532198, -0.15090214,\n",
              "         0.06548268, -0.00592427,  0.12935759, -0.5535014 ,  0.23449461,\n",
              "         0.21086603,  0.12436997, -0.182881  ,  0.17394747, -0.00720853,\n",
              "         0.11300549,  0.00931712, -0.4763615 , -0.02062171, -0.53900874,\n",
              "         0.13498934,  0.0702204 ,  0.08221743, -0.03790468, -0.03042121,\n",
              "         0.00784216, -0.03700833,  0.21440706,  0.01516971,  0.0621259 ,\n",
              "         0.27981105,  0.18787418, -0.01701646,  0.13637224, -0.10935549,\n",
              "         0.08149909, -0.22691253,  0.15282238,  0.07174184,  0.03676694,\n",
              "        -0.01059585,  0.15584987,  0.01546637, -0.05087005, -0.13540848,\n",
              "         0.03544414,  0.3817704 ,  0.05878708,  0.22822343,  0.0665269 ,\n",
              "         0.21276443,  0.05792819, -0.021904  ,  0.01683347,  0.04603949,\n",
              "        -0.07549664, -0.1428253 , -0.3909099 ,  0.14164658, -0.18973397,\n",
              "         0.20364088,  0.04184541], dtype=float32)>,\n",
              " <tf.Variable 'dense_layer_2/kernel:0' shape=(512, 512) dtype=float32, numpy=\n",
              " array([[ 0.10655776, -0.05537827,  0.13727075, ...,  0.06349097,\n",
              "         -0.01115075, -0.00989781],\n",
              "        [-0.01921455,  0.05348438,  0.00234285, ...,  0.02935984,\n",
              "         -0.09935298,  0.00099936],\n",
              "        [ 0.03914985, -0.00464822,  0.01740765, ...,  0.00128654,\n",
              "          0.00623328,  0.07245977],\n",
              "        ...,\n",
              "        [-0.2121694 , -0.06671479,  0.00249988, ..., -0.07487878,\n",
              "          0.12407566, -0.03304297],\n",
              "        [ 0.03888591,  0.02398451, -0.02986724, ..., -0.14202741,\n",
              "          0.13487224, -0.04055616],\n",
              "        [-0.00276478,  0.06992274, -0.17710707, ...,  0.0887242 ,\n",
              "         -0.04329739,  0.04677817]], dtype=float32)>,\n",
              " <tf.Variable 'dense_layer_2/bias:0' shape=(512,) dtype=float32, numpy=\n",
              " array([ 0.08736461,  0.13901947,  0.12910438,  0.22670142,  0.27054513,\n",
              "         0.24958996, -0.03576382, -0.1674861 ,  0.16349417,  0.29536498,\n",
              "         0.10346619,  0.23119551,  0.20275383,  0.34486097,  0.11122407,\n",
              "         0.05941125,  0.1805713 ,  0.18053077, -0.0170304 ,  0.28478047,\n",
              "         0.28107542,  0.16546331,  0.14935637, -0.03517712, -0.14307262,\n",
              "        -0.00592908, -0.02854013,  0.248999  , -0.00272216,  0.16499962,\n",
              "         0.37208408, -0.03774188,  0.04280948,  0.11120328,  0.27139702,\n",
              "         0.13928436, -0.077456  , -0.06303868,  0.15851346, -0.04018011,\n",
              "         0.26843685,  0.14418404,  0.11521129,  0.15626243, -0.11543665,\n",
              "         0.15600108,  0.09831715,  0.0966325 ,  0.26558053, -0.08090302,\n",
              "        -0.08307618,  0.1611189 ,  0.1032747 ,  0.17838576,  0.15778945,\n",
              "         0.15459877,  0.13565275,  0.20613606,  0.14766678, -0.02099011,\n",
              "         0.12636013,  0.15082768,  0.27535713,  0.18409978, -0.1039814 ,\n",
              "        -0.03004215,  0.06797395,  0.24408346,  0.23089917,  0.2128501 ,\n",
              "        -0.10562703,  0.03279624,  0.12220106,  0.20205952,  0.10594477,\n",
              "         0.10485995,  0.09205107,  0.09824263,  0.13729994,  0.16405061,\n",
              "         0.09970461, -0.27680123,  0.2293702 , -0.0014435 ,  0.09917251,\n",
              "         0.25525045,  0.20399047, -0.13656026,  0.12039839,  0.12915939,\n",
              "         0.06413729,  0.05732017,  0.04253205,  0.3629142 ,  0.02699243,\n",
              "         0.07557777,  0.07520342, -0.10522617,  0.15171152,  0.06075   ,\n",
              "         0.10439118, -0.04923195,  0.08380699,  0.06431585, -0.05392224,\n",
              "         0.16220716,  0.16858312,  0.00306663,  0.01090734,  0.34614167,\n",
              "         0.14109333,  0.13341917,  0.1412926 , -0.00953996,  0.06620894,\n",
              "        -0.04061808,  0.05745739, -0.12947282,  0.07506004, -0.06177672,\n",
              "        -0.1097232 ,  0.10331655,  0.22300759,  0.02218681, -0.08439163,\n",
              "         0.24179693, -0.00390231,  0.26798153,  0.04705861,  0.0568396 ,\n",
              "         0.20491609,  0.12775782,  0.04116277, -0.03619066,  0.17446232,\n",
              "        -0.26350218,  0.27745378,  0.02623472,  0.02677217,  0.22983879,\n",
              "         0.08987993,  0.23628476, -0.07542894, -0.12668934,  0.16809404,\n",
              "         0.03630352,  0.04852867,  0.12696888, -0.05959874,  0.18331519,\n",
              "         0.01912377,  0.19459373,  0.28386337, -0.01981957, -0.15197596,\n",
              "        -0.0166769 , -0.13608593,  0.00337167,  0.13162501,  0.02275706,\n",
              "         0.00995294,  0.10364495, -0.05281493,  0.20005974, -0.10969853,\n",
              "         0.01672927,  0.03103994, -0.15866901, -0.07400293,  0.09707107,\n",
              "        -0.12670548,  0.27724224,  0.16526793,  0.28754973, -0.15763038,\n",
              "         0.22638176,  0.02261486,  0.2676179 ,  0.28092906, -0.08348956,\n",
              "         0.17678005, -0.01223645,  0.17832185,  0.1390698 , -0.09398525,\n",
              "         0.20173709,  0.24048156,  0.20564477,  0.10133198,  0.33337402,\n",
              "        -0.10182814,  0.10307896, -0.0271196 ,  0.09875036,  0.14269307,\n",
              "         0.11987591,  0.23008563,  0.34757903,  0.05963839,  0.17433888,\n",
              "         0.00426528,  0.11846489,  0.16762675,  0.04306144,  0.15603964,\n",
              "         0.06699095,  0.1045429 ,  0.21425024,  0.11414797,  0.09033567,\n",
              "         0.1969323 ,  0.25240678,  0.01856878, -0.01699009,  0.16182423,\n",
              "         0.01581066,  0.06271925, -0.178515  , -0.10674805,  0.09166777,\n",
              "         0.2237715 ,  0.12859383,  0.069447  ,  0.13486558,  0.1988104 ,\n",
              "        -0.01967666,  0.20741834, -0.09411278,  0.13644356,  0.23583038,\n",
              "         0.10935   ,  0.10066906, -0.16133912,  0.29278547,  0.07695944,\n",
              "         0.19635229,  0.2498567 ,  0.07355233,  0.23674779,  0.19516744,\n",
              "         0.01628338,  0.10728724,  0.07862386,  0.03184533,  0.09887421,\n",
              "         0.06059141,  0.138508  ,  0.00103802,  0.06088001,  0.13930005,\n",
              "         0.0796071 ,  0.103803  ,  0.32956272,  0.06710931,  0.15725106,\n",
              "        -0.03801906,  0.12038714,  0.20789286,  0.16674557, -0.02585869,\n",
              "         0.12556478,  0.19287728,  0.11798135,  0.13381703, -0.10881863,\n",
              "         0.1318946 , -0.07206935, -0.11588192,  0.39612556,  0.03472677,\n",
              "         0.21128131, -0.00124601,  0.02173509,  0.16256183,  0.09623259,\n",
              "         0.00110657, -0.12934023,  0.18212862,  0.24316603,  0.11911717,\n",
              "         0.09413098,  0.13108219, -0.08230552,  0.10398589,  0.10879569,\n",
              "         0.09806257,  0.02408222, -0.08447058,  0.01803763,  0.11152459,\n",
              "         0.01122897,  0.1348321 , -0.02098094, -0.03340039, -0.12483959,\n",
              "         0.21981853, -0.18225358,  0.17557094,  0.0318653 ,  0.10577019,\n",
              "         0.13204396,  0.125923  ,  0.17330548,  0.2644366 ,  0.19536953,\n",
              "         0.10716703,  0.15976809,  0.1560154 ,  0.06691108,  0.08090381,\n",
              "         0.13375612,  0.19212742,  0.10092932,  0.09269731,  0.0664043 ,\n",
              "         0.072776  ,  0.0544606 ,  0.20191921,  0.27979097,  0.36969465,\n",
              "        -0.24601895,  0.32342926,  0.08438571, -0.16322266,  0.19924463,\n",
              "        -0.00288266,  0.19959728,  0.05603731,  0.2795887 ,  0.04217408,\n",
              "        -0.02769681,  0.2140515 ,  0.15722154, -0.05615783,  0.12236494,\n",
              "         0.08929008,  0.2870149 ,  0.01496124,  0.12447306,  0.10347173,\n",
              "         0.08596526,  0.2419602 ,  0.15868747,  0.16654985,  0.20347716,\n",
              "        -0.01715465,  0.12956324,  0.0469441 ,  0.10843194,  0.15398766,\n",
              "         0.30489168, -0.06595902, -0.02508946, -0.14629549,  0.07282831,\n",
              "        -0.10200827,  0.05541665,  0.02962928,  0.19070473,  0.12303232,\n",
              "         0.4206043 , -0.05866282, -0.08941605,  0.3597029 , -0.05671498,\n",
              "         0.14814812,  0.21173698,  0.08801591,  0.01056654,  0.04077896,\n",
              "         0.01778005, -0.01703746,  0.06163937,  0.12127633, -0.12457912,\n",
              "         0.08129018, -0.07615519,  0.2097779 ,  0.290686  ,  0.12808506,\n",
              "         0.12757294,  0.11260474,  0.18112005,  0.16483961,  0.29806513,\n",
              "        -0.07616843,  0.22062594,  0.16547915, -0.08369497,  0.09254035,\n",
              "         0.07657441,  0.20006913, -0.18002607,  0.11974307,  0.260634  ,\n",
              "         0.12450819,  0.31855592,  0.05194583, -0.0869704 ,  0.3687095 ,\n",
              "         0.30188915,  0.10859893,  0.31806296,  0.15721305,  0.05416527,\n",
              "        -0.04232053, -0.08403681,  0.00497055,  0.19166508,  0.01829288,\n",
              "        -0.21620476,  0.05866334,  0.15584606,  0.1614083 ,  0.01635453,\n",
              "         0.18857202,  0.3260292 , -0.07876541,  0.1900443 ,  0.1734557 ,\n",
              "         0.05249627,  0.00483535,  0.02715398,  0.20414005,  0.07001766,\n",
              "         0.089534  ,  0.04351214,  0.21865717,  0.12472183,  0.21455133,\n",
              "         0.1189329 , -0.08073949,  0.03341819, -0.04649704,  0.0521565 ,\n",
              "        -0.01197821,  0.09315354,  0.00364749,  0.17748892,  0.03182968,\n",
              "        -0.13518801, -0.08203071,  0.03707165,  0.00702053,  0.13298821,\n",
              "         0.07139785, -0.14718957,  0.24119489,  0.3162821 ,  0.0597854 ,\n",
              "         0.16260572, -0.13126186,  0.10905749, -0.17698859, -0.04904106,\n",
              "         0.13219723,  0.07282122,  0.01122025,  0.213181  ,  0.22078939,\n",
              "         0.00224159, -0.05702558,  0.29052436,  0.09848946,  0.11778851,\n",
              "         0.13157493,  0.30292872,  0.25262335, -0.01809621,  0.11605258,\n",
              "         0.16077909,  0.13457043,  0.01145985,  0.07092743,  0.08466866,\n",
              "        -0.06759483,  0.2498448 , -0.00550699,  0.0985994 ,  0.12710007,\n",
              "         0.13820921,  0.03356586,  0.13257512,  0.21895261,  0.15126683,\n",
              "         0.14999387,  0.00379777, -0.01154344,  0.06370992,  0.14475209,\n",
              "         0.3954969 ,  0.20144412, -0.01658491,  0.06446677,  0.05884739,\n",
              "         0.07165516,  0.25600207,  0.029236  ,  0.23787515, -0.12352201,\n",
              "        -0.13426588,  0.19164222,  0.12816831,  0.2048879 ,  0.08628946,\n",
              "         0.319493  , -0.048712  , -0.10145422,  0.03319236,  0.0782004 ,\n",
              "         0.14710294,  0.10002752], dtype=float32)>,\n",
              " <tf.Variable 'dense_layer_3/kernel:0' shape=(512, 10) dtype=float32, numpy=\n",
              " array([[ 0.06225368, -0.16420989, -0.01016725, ..., -0.22945353,\n",
              "         -0.01707804, -0.10013685],\n",
              "        [-0.03438978, -0.14341514, -0.14988303, ..., -0.11308783,\n",
              "          0.17106494, -0.02220776],\n",
              "        [ 0.09518945, -0.04453133,  0.02346343, ..., -0.03951873,\n",
              "          0.09027101, -0.04912573],\n",
              "        ...,\n",
              "        [ 0.05434295, -0.2226085 , -0.18182896, ..., -0.17416212,\n",
              "          0.14358595, -0.16867353],\n",
              "        [-0.2148496 ,  0.07459239, -0.16546994, ..., -0.01458664,\n",
              "         -0.09920051, -0.06318424],\n",
              "        [-0.04177554,  0.01285345, -0.00813148, ..., -0.00966828,\n",
              "          0.12037414,  0.01254816]], dtype=float32)>,\n",
              " <tf.Variable 'dense_layer_3/bias:0' shape=(10,) dtype=float32, numpy=\n",
              " array([-0.06527093, -0.32158992,  0.08962826,  0.22372068, -0.13035782,\n",
              "        -0.08183429,  0.06310626,  0.14872472, -0.0364604 , -0.15686816],\n",
              "       dtype=float32)>]"
            ]
          },
          "metadata": {},
          "execution_count": 63
        }
      ]
    },
    {
      "cell_type": "code",
      "source": [],
      "metadata": {
        "id": "Bk9IUMSTlS8n"
      },
      "execution_count": null,
      "outputs": []
    }
  ]
}
